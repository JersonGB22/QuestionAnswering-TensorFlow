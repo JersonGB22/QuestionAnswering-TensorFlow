{
  "cells": [
    {
      "cell_type": "markdown",
      "metadata": {
        "id": "ezzKLPtx8S6C"
      },
      "source": [
        "# **Question Answering with the SQuAD 2.0 Dataset**"
      ]
    },
    {
      "cell_type": "markdown",
      "metadata": {
        "id": "JhhWum6YU8kN"
      },
      "source": [
        "This notebook demonstrates the implementation of an extractive question-answering Transformer network model using the [Stanford Question Answering Dataset (SQuAD) 2.0](https://huggingface.co/datasets/rajpurkar/squad_v2), a more challenging dataset than [SQuAD](https://github.com/JersonGB22/QuestionAnswering-TensorFlow/tree/main/Models_AnsweredQuestions/ExtractiveQA_RoBERTa_SQuAD.ipynb), because it includes questions that do not have an answer. This requires the model not only to answer questions when possible but also to determine when the context does not support any answer and refrain from responding. For this task, the [RoBERTa (Robustly Optimized BERT Pretraining Approach)](https://huggingface.co/docs/transformers/en/model_doc/roberta) model from [Hugging Face 🤗](https://huggingface.co/) is fine-tuned to improve its performance.\n",
        "\n",
        "Hugging Face is a platform focused on developing tools and models for natural language processing (NLP). It is known for its open-source library called Transformers, which provides an easy-to-use interface for working with advanced pre-trained NLP models such as BERT, T5, GPT, and others.\n",
        "\n",
        "**Key Points:**\n",
        "- **Model Architecture:** The RoBERTa Large model from Hugging Face is used, which is based on [BERT](https://huggingface.co/docs/transformers/en/model_doc/bert) but achieves better results on GLUE, RACE, and SQuAD, datasets used to evaluate reasoning and text comprehension models. The model is loaded using the generic class [TFAutoModelForQuestionAnswering](https://huggingface.co/transformers/v3.0.2/model_doc/auto.html#transformers.TFAutoModelForQuestionAnswering), which allows creating an instance of a pre-trained model based on TensorFlow, specifically designed for question answering tasks, as it includes an appropriate classification layer on top. This differs from [TFAutoModel](https://huggingface.co/transformers/v3.0.2/model_doc/auto.html#tfautomodel), which provides the base model without additional layers.\n",
        "\n",
        "- **Tokenization:** Hugging Face has implemented a tokenizer for each of its models that returns everything needed for the respective model's inputs. In this case, the generic tokenizer [AutoTokenizer](https://huggingface.co/docs/transformers/model_doc/auto#transformers.AutoTokenizer) will be used, which allows creating an instance of the model's tokenizer by its name alone. For this Question Answering task, the question and context are passed to the tokenizer to return `input_ids` (the tokenized sequences) and `attention_mask` (a mask to avoid attending to padding token indices). Additionally, the tokenizer must return `offset_mapping`, which are the start and end positions of each token in the original text ('question' and 'context'), and `sequence_ids`, which are the ids of each part of the sequence; these are necessary to find the start and end tokens of the answers in `input_ids`. Lastly, only sequences with a length less than or equal to 512, which is the maximum length allowed by the RoBERTa tokenizer, are considered. In case sequences longer than this are introduced after training, the context is truncated and not the question, using the `only_second` argument.\n",
        "\n",
        "- **Use of TPU:** Due to the enormous size of the RoBERTa model, specifically \"roberta-large\", which has over 300 million parameters, using the TPU in Google Colab is necessary to significantly accelerate training. Although only the parameters of the classification layer are adjusted, loading and processing pre-trained embeddings along with intensive backpropagation calculations require considerable computational resources. The TPU facilitates efficient handling of these tasks compared to GPUs or CPUs, optimizing performance and training time."
      ]
    },
    {
      "cell_type": "markdown",
      "metadata": {
        "id": "43AY8jCC8cp-"
      },
      "source": [
        "## **Imports**"
      ]
    },
    {
      "cell_type": "code",
      "execution_count": null,
      "metadata": {
        "id": "svLyCZV98i2A"
      },
      "outputs": [],
      "source": [
        "!pip install datasets -q"
      ]
    },
    {
      "cell_type": "code",
      "execution_count": null,
      "metadata": {
        "id": "c0d_8XPxoi92"
      },
      "outputs": [],
      "source": [
        "import tensorflow as tf\n",
        "import os\n",
        "os.environ[\"TF_USE_LEGACY_KERAS\"] = \"1\"\n",
        "\n",
        "from transformers import TFAutoModelForQuestionAnswering, AutoTokenizer\n",
        "from datasets import load_dataset, load_from_disk, load_metric\n",
        "import numpy as np\n",
        "import plotly.graph_objects as go\n",
        "from google.colab import drive\n",
        "from IPython.core.display import HTML\n",
        "from IPython.display import clear_output\n",
        "import textwrap\n",
        "from tqdm.auto import tqdm"
      ]
    },
    {
      "cell_type": "markdown",
      "metadata": {
        "id": "piIYd5Nl-8SX"
      },
      "source": [
        "## **Parameters**"
      ]
    },
    {
      "cell_type": "code",
      "execution_count": null,
      "metadata": {
        "id": "sFOW9rH6TXpW",
        "colab": {
          "base_uri": "https://localhost:8080/"
        },
        "outputId": "b76e104c-8c4a-44d1-f6b0-58f9add2993d"
      },
      "outputs": [
        {
          "output_type": "stream",
          "name": "stdout",
          "text": [
            "Mounted at /content/drive/\n"
          ]
        }
      ],
      "source": [
        "drive.mount(\"/content/drive/\")"
      ]
    },
    {
      "cell_type": "code",
      "execution_count": null,
      "metadata": {
        "id": "eG-hJMUdRw6y"
      },
      "outputs": [],
      "source": [
        "epochs = 10\n",
        "batch_size = 64\n",
        "buffer_size = 1024\n",
        "max_length = 512\n",
        "AUTOTUNE = tf.data.AUTOTUNE\n",
        "SEED = 123\n",
        "\n",
        "model_name = \"roberta-large\"\n",
        "train_filename = \"/content/drive/MyDrive/Datasets/train_qa_roberta_squad_v2.tfrecord\"\n",
        "val_filename = \"/content/drive/MyDrive/Datasets/val_qa_roberta_squad_v2.tfrecord\""
      ]
    },
    {
      "cell_type": "markdown",
      "metadata": {
        "id": "2Jb1Tnf8-6m3"
      },
      "source": [
        "## **Preprocessing and Saving Data in TFRecord Format**"
      ]
    },
    {
      "cell_type": "markdown",
      "metadata": {
        "id": "D1GRUvyUx0Ra"
      },
      "source": [
        "Since SQuAD 2.0 is large and the RoBERTa Large model is also substantial, the data is preprocessed, tokenized, and saved in TFRecord format, which allows for truly massive data pipeline performance for training on Colab's TPU. This is now more accessible as it is no longer necessary to store the TFRecord files in Google Cloud Storage due to the new version of Colab's TPU, ``TPU v2``, which has [transitioned from TPU Node to TPU VM](https://github.com/googlecolab/colabtools/issues/4481)."
      ]
    },
    {
      "cell_type": "markdown",
      "metadata": {
        "id": "dzmWHidD8u3l"
      },
      "source": [
        "### **Load and Preprocess the Dataset**"
      ]
    },
    {
      "cell_type": "code",
      "execution_count": null,
      "metadata": {
        "colab": {
          "base_uri": "https://localhost:8080/"
        },
        "id": "FE5KLZPR9hTJ",
        "outputId": "66170cc5-dfe7-4490-ef5b-c5f5daa4da60"
      },
      "outputs": [
        {
          "output_type": "stream",
          "name": "stdout",
          "text": [
            "Dataset({\n",
            "    features: ['id', 'title', 'context', 'question', 'answers'],\n",
            "    num_rows: 130319\n",
            "})\n"
          ]
        },
        {
          "output_type": "execute_result",
          "data": {
            "text/plain": [
              "Dataset({\n",
              "    features: ['id', 'title', 'context', 'question', 'answers'],\n",
              "    num_rows: 11873\n",
              "})"
            ]
          },
          "metadata": {},
          "execution_count": 26
        }
      ],
      "source": [
        "train_dataset, val_dataset = load_dataset(\"squad_v2\", split=[\"train\", \"validation\"])\n",
        "\n",
        "print(train_dataset)\n",
        "val_dataset"
      ]
    },
    {
      "cell_type": "code",
      "execution_count": null,
      "metadata": {
        "colab": {
          "base_uri": "https://localhost:8080/"
        },
        "id": "VDG3vp3KAdSu",
        "outputId": "e49e5caa-dbca-4815-b9ce-8d83b3e12d39"
      },
      "outputs": [
        {
          "output_type": "execute_result",
          "data": {
            "text/plain": [
              "{'id': '56be85543aeaaa14008c9063',\n",
              " 'title': 'Beyoncé',\n",
              " 'context': 'Beyoncé Giselle Knowles-Carter (/biːˈjɒnseɪ/ bee-YON-say) (born September 4, 1981) is an American singer, songwriter, record producer and actress. Born and raised in Houston, Texas, she performed in various singing and dancing competitions as a child, and rose to fame in the late 1990s as lead singer of R&B girl-group Destiny\\'s Child. Managed by her father, Mathew Knowles, the group became one of the world\\'s best-selling girl groups of all time. Their hiatus saw the release of Beyoncé\\'s debut album, Dangerously in Love (2003), which established her as a solo artist worldwide, earned five Grammy Awards and featured the Billboard Hot 100 number-one singles \"Crazy in Love\" and \"Baby Boy\".',\n",
              " 'question': 'When did Beyonce start becoming popular?',\n",
              " 'answers': {'text': ['in the late 1990s'], 'answer_start': [269]}}"
            ]
          },
          "metadata": {},
          "execution_count": 27
        }
      ],
      "source": [
        "# See an example of the training dataset\n",
        "train_dataset[0]"
      ]
    },
    {
      "cell_type": "markdown",
      "metadata": {
        "id": "GcTHo3vVVrv9"
      },
      "source": [
        "**Import the AutoTokenizer**"
      ]
    },
    {
      "cell_type": "code",
      "execution_count": null,
      "metadata": {
        "colab": {
          "base_uri": "https://localhost:8080/"
        },
        "id": "rlGILWr1Vme-",
        "outputId": "aa00b362-1d7f-4696-ccef-fd3147a8b14c"
      },
      "outputs": [
        {
          "output_type": "execute_result",
          "data": {
            "text/plain": [
              "RobertaTokenizerFast(name_or_path='roberta-large', vocab_size=50265, model_max_length=512, is_fast=True, padding_side='right', truncation_side='right', special_tokens={'bos_token': '<s>', 'eos_token': '</s>', 'unk_token': '<unk>', 'sep_token': '</s>', 'pad_token': '<pad>', 'cls_token': '<s>', 'mask_token': '<mask>'}, clean_up_tokenization_spaces=True),  added_tokens_decoder={\n",
              "\t0: AddedToken(\"<s>\", rstrip=False, lstrip=False, single_word=False, normalized=True, special=True),\n",
              "\t1: AddedToken(\"<pad>\", rstrip=False, lstrip=False, single_word=False, normalized=True, special=True),\n",
              "\t2: AddedToken(\"</s>\", rstrip=False, lstrip=False, single_word=False, normalized=True, special=True),\n",
              "\t3: AddedToken(\"<unk>\", rstrip=False, lstrip=False, single_word=False, normalized=True, special=True),\n",
              "\t50264: AddedToken(\"<mask>\", rstrip=False, lstrip=True, single_word=False, normalized=False, special=True),\n",
              "}"
            ]
          },
          "metadata": {},
          "execution_count": 6
        }
      ],
      "source": [
        "# 'use_fast=True': improves the tokenizer's performance when processing large volumes of text\n",
        "\n",
        "tokenizer = AutoTokenizer.from_pretrained(model_name, use_fast=True)\n",
        "tokenizer"
      ]
    },
    {
      "cell_type": "code",
      "execution_count": null,
      "metadata": {
        "colab": {
          "base_uri": "https://localhost:8080/"
        },
        "id": "N90BAop76gMw",
        "outputId": "587d2245-a903-4a17-d55f-6180d0ba325b"
      },
      "outputs": [
        {
          "output_type": "stream",
          "name": "stdout",
          "text": [
            "Question:\n",
            " What year did the lawsuits end? \n",
            "\n",
            "Context:\n",
            " In February 2007, Texas MP3 Technologies sued Apple, Samsung Electronics and Sandisk in eastern\n",
            "Texas federal court, claiming infringement of a portable MP3 player patent that Texas MP3 said it\n",
            "had been assigned. Apple, Samsung, and Sandisk all settled the claims against them in January 2009. \n",
            "\n",
            "Input Ids:\n",
            " [0, 2264, 76, 222, 5, 8986, 253, 116, 2, 2, 1121, 902, 3010, 6, 1184, 3957, 246, 5974, 8124, 1257, 6, 3797, 12057, 8, 4219, 6812, 11, 4580, 1184, 752, 461, 6, 4564, 26461, 9, 10, 15295, 3957, 246, 869, 11354, 14, 1184, 3957, 246, 26, 24, 56, 57, 5530, 4, 1257, 6, 3797, 6, 8, 4219, 6812, 70, 5668, 5, 1449, 136, 106, 11, 644, 2338, 4, 2, 1, 1, 1, 1, 1, 1, 1, 1, 1, 1, 1] \n",
            "\n",
            "Tokens:\n",
            " ['<s>', 'What', 'Ġyear', 'Ġdid', 'Ġthe', 'Ġlawsuits', 'Ġend', '?', '</s>', '</s>', 'In', 'ĠFebruary', 'Ġ2007', ',', 'ĠTexas', 'ĠMP', '3', 'ĠTechnologies', 'Ġsued', 'ĠApple', ',', 'ĠSamsung', 'ĠElectronics', 'Ġand', 'ĠSand', 'isk', 'Ġin', 'Ġeastern', 'ĠTexas', 'Ġfederal', 'Ġcourt', ',', 'Ġclaiming', 'Ġinfringement', 'Ġof', 'Ġa', 'Ġportable', 'ĠMP', '3', 'Ġplayer', 'Ġpatent', 'Ġthat', 'ĠTexas', 'ĠMP', '3', 'Ġsaid', 'Ġit', 'Ġhad', 'Ġbeen', 'Ġassigned', '.', 'ĠApple', ',', 'ĠSamsung', ',', 'Ġand', 'ĠSand', 'isk', 'Ġall', 'Ġsettled', 'Ġthe', 'Ġclaims', 'Ġagainst', 'Ġthem', 'Ġin', 'ĠJanuary', 'Ġ2009', '.', '</s>', '<pad>', '<pad>', '<pad>', '<pad>', '<pad>', '<pad>', '<pad>', '<pad>', '<pad>', '<pad>', '<pad>'] \n",
            "\n",
            "Decoded Text without Special Tokens:\n",
            " What year did the lawsuits end?In February 2007, Texas MP3 Technologies sued Apple, Samsung Electronics and Sandisk in eastern Texas federal court, claiming infringement of a portable MP3 player patent that Texas MP3 said it had been assigned. Apple, Samsung, and Sandisk all settled the claims against them in January 2009. \n",
            "\n",
            "\n",
            "Start and end position of each token in each original text ('question' and 'context'):\n",
            " [(0, 0), (0, 4), (5, 9), (10, 13), (14, 17), (18, 26), (27, 30), (30, 31), (0, 0), (0, 0), (0, 2), (3, 11), (12, 16), (16, 17), (18, 23), (24, 26), (26, 27), (28, 40), (41, 45), (46, 51), (51, 52), (53, 60), (61, 72), (73, 76), (77, 81), (81, 84), (85, 87), (88, 95), (96, 101), (102, 109), (110, 115), (115, 116), (117, 125), (126, 138), (139, 141), (142, 143), (144, 152), (153, 155), (155, 156), (157, 163), (164, 170), (171, 175), (176, 181), (182, 184), (184, 185), (186, 190), (191, 193), (194, 197), (198, 202), (203, 211), (211, 212), (213, 218), (218, 219), (220, 227), (227, 228), (229, 232), (233, 237), (237, 240), (241, 244), (245, 252), (253, 256), (257, 263), (264, 271), (272, 276), (277, 279), (280, 287), (288, 292), (292, 293), (0, 0), (0, 0), (0, 0), (0, 0), (0, 0), (0, 0), (0, 0), (0, 0), (0, 0), (0, 0), (0, 0), (0, 0)] \n",
            "\n",
            "Sequence IDs:\n",
            " [None, 0, 0, 0, 0, 0, 0, 0, None, None, 1, 1, 1, 1, 1, 1, 1, 1, 1, 1, 1, 1, 1, 1, 1, 1, 1, 1, 1, 1, 1, 1, 1, 1, 1, 1, 1, 1, 1, 1, 1, 1, 1, 1, 1, 1, 1, 1, 1, 1, 1, 1, 1, 1, 1, 1, 1, 1, 1, 1, 1, 1, 1, 1, 1, 1, 1, 1, None, None, None, None, None, None, None, None, None, None, None, None] \n",
            "\n",
            "\n",
            "Answer:\n",
            " 2009 \n",
            "\n",
            "Indices of the Start and End Tokens of the Answer:\n",
            " 66 66 \n",
            "\n",
            "Tokenized Answer:\n",
            " [2338] \n",
            "\n",
            "Decoded Answer:\n",
            "  2009 \n",
            "\n",
            "\n",
            "Attention Mask:\n",
            " [1, 1, 1, 1, 1, 1, 1, 1, 1, 1, 1, 1, 1, 1, 1, 1, 1, 1, 1, 1, 1, 1, 1, 1, 1, 1, 1, 1, 1, 1, 1, 1, 1, 1, 1, 1, 1, 1, 1, 1, 1, 1, 1, 1, 1, 1, 1, 1, 1, 1, 1, 1, 1, 1, 1, 1, 1, 1, 1, 1, 1, 1, 1, 1, 1, 1, 1, 1, 1, 0, 0, 0, 0, 0, 0, 0, 0, 0, 0, 0]\n"
          ]
        }
      ],
      "source": [
        "# Example of tokenization\n",
        "\n",
        "id = 30000\n",
        "example = train_dataset[id]\n",
        "print(\"Question:\\n\", example[\"question\"], \"\\n\")\n",
        "print(\"Context:\\n\", textwrap.fill(example[\"context\"], width=100), \"\\n\")\n",
        "\n",
        "encoding = tokenizer(\n",
        "    example[\"question\"],\n",
        "    example[\"context\"],\n",
        "    padding=\"max_length\",\n",
        "    max_length=80,\n",
        "    return_offsets_mapping=True\n",
        ")\n",
        "\n",
        "input_ids = encoding[\"input_ids\"]\n",
        "print(\"Input Ids:\\n\", input_ids, \"\\n\")\n",
        "print(\"Tokens:\\n\", tokenizer.convert_ids_to_tokens(input_ids), \"\\n\")\n",
        "print(\"Decoded Text without Special Tokens:\\n\", tokenizer.decode(input_ids, skip_special_tokens=True), \"\\n\\n\")\n",
        "\n",
        "offsets = encoding[\"offset_mapping\"]\n",
        "print(\"Start and end position of each token in each original text ('question' and 'context'):\\n\", offsets, \"\\n\")\n",
        "sequence_ids = encoding.sequence_ids()\n",
        "print(\"Sequence IDs:\\n\", sequence_ids, \"\\n\\n\")\n",
        "\n",
        "start_char = example[\"answers\"][\"answer_start\"][0]\n",
        "end_char = start_char + len(example[\"answers\"][\"text\"][0])\n",
        "token_start_index, token_end_index = 0, len(input_ids) - 1\n",
        "\n",
        "# Find the position of the first and last tokens corresponding to the answer, aligned with 'input_ids'\n",
        "while sequence_ids[token_start_index] != 1:\n",
        "  token_start_index += 1\n",
        "while sequence_ids[token_end_index] != 1:\n",
        "  token_end_index -= 1\n",
        "\n",
        "while offsets[token_start_index][0] <= start_char:\n",
        "  token_start_index += 1\n",
        "token_start_index -= 1\n",
        "while offsets[token_end_index][1] >= end_char:\n",
        "  token_end_index -= 1\n",
        "token_end_index += 1\n",
        "\n",
        "print(\"Answer:\\n\", example[\"answers\"][\"text\"][0], \"\\n\")\n",
        "print(\"Indices of the Start and End Tokens of the Answer:\\n\", token_start_index, token_end_index, \"\\n\")\n",
        "print(\"Tokenized Answer:\\n\", input_ids[token_start_index: token_end_index+1], \"\\n\")\n",
        "print(\"Decoded Answer:\\n\", tokenizer.decode(input_ids[token_start_index: token_end_index+1]), \"\\n\\n\")\n",
        "\n",
        "print(\"Attention Mask:\\n\", encoding[\"attention_mask\"])"
      ]
    },
    {
      "cell_type": "markdown",
      "metadata": {
        "id": "gkG4y6LYU-Y9"
      },
      "source": [
        "**Filter the datasets to consider only sequences less than or equal to 512**"
      ]
    },
    {
      "cell_type": "code",
      "execution_count": null,
      "metadata": {
        "colab": {
          "base_uri": "https://localhost:8080/",
          "height": 104,
          "referenced_widgets": [
            "31fb72cff4144ead995ea70c1b792bce",
            "130e4575ed07416e84c255f6c3c674e3",
            "0c72b4c5c0f84b01a2ee70217a7413da",
            "5e36c0cc01074fcc86f1e58a55b6347b",
            "b3614b47e0f04965884db3125066f5fc",
            "408b8a56f2f3423a84ba0b3773af1997",
            "d9eeb9d3477b47c09048f990c439fea3",
            "b9bea3270d004dcfa5959ca6c93f0cd6",
            "d1944257e8974e458d8d8131ca00390c",
            "b417f33de9914961b390e76cb18aa80e",
            "21dc679f53b242e5954cdf15907f57c8"
          ]
        },
        "id": "TFR1GEriUCRi",
        "outputId": "d32ae464-23fd-4c52-af20-ff754041aafb"
      },
      "outputs": [
        {
          "output_type": "display_data",
          "data": {
            "text/plain": [
              "Filter:   0%|          | 0/11873 [00:00<?, ? examples/s]"
            ],
            "application/vnd.jupyter.widget-view+json": {
              "version_major": 2,
              "version_minor": 0,
              "model_id": "31fb72cff4144ead995ea70c1b792bce"
            }
          },
          "metadata": {}
        },
        {
          "output_type": "stream",
          "name": "stderr",
          "text": [
            "Token indices sequence length is longer than the specified maximum sequence length for this model (588 > 512). Running this sequence through the model will result in indexing errors\n"
          ]
        },
        {
          "output_type": "execute_result",
          "data": {
            "text/plain": [
              "(130101, 11791)"
            ]
          },
          "metadata": {},
          "execution_count": 30
        }
      ],
      "source": [
        "def filter_datasets(example):\n",
        "  encoding = tokenizer(example[\"question\"], example[\"context\"])\n",
        "  return len(encoding[\"input_ids\"]) <= max_length\n",
        "\n",
        "train_dataset = train_dataset.filter(filter_datasets)\n",
        "val_dataset = val_dataset.filter(filter_datasets)\n",
        "\n",
        "len(train_dataset), len(val_dataset)"
      ]
    },
    {
      "cell_type": "code",
      "execution_count": null,
      "metadata": {
        "colab": {
          "base_uri": "https://localhost:8080/"
        },
        "id": "XXS9bLqqVkvm",
        "outputId": "6332289b-0818-4a1d-a038-68d6313bb849"
      },
      "outputs": [
        {
          "output_type": "stream",
          "name": "stdout",
          "text": [
            "218 82\n"
          ]
        },
        {
          "output_type": "execute_result",
          "data": {
            "text/plain": [
              "(0.002488612883708718, 0.007757805108798486)"
            ]
          },
          "metadata": {},
          "execution_count": 31
        }
      ],
      "source": [
        "print(130319 - len(train_dataset), 11873 - len(val_dataset))\n",
        "218/87599, 82/10570"
      ]
    },
    {
      "cell_type": "markdown",
      "metadata": {
        "id": "L0nxA33XVySt"
      },
      "source": [
        "It is observed that the discarded sequences are not even 0.8% of the datasets."
      ]
    },
    {
      "cell_type": "markdown",
      "metadata": {
        "id": "zw8rayamWDZ9"
      },
      "source": [
        "**Tokenization**"
      ]
    },
    {
      "cell_type": "code",
      "execution_count": null,
      "metadata": {
        "id": "RbFOEf8zX9IB"
      },
      "outputs": [],
      "source": [
        "def preprocessing(examples):\n",
        "  tokenized_examples = tokenizer(\n",
        "        examples[\"question\"],\n",
        "        examples[\"context\"],\n",
        "        padding=\"max_length\",\n",
        "        max_length=max_length,\n",
        "        truncation=\"only_second\",\n",
        "        return_offsets_mapping=True\n",
        "  )\n",
        "\n",
        "  offset_mapping = tokenized_examples[\"offset_mapping\"]\n",
        "  tokenized_examples[\"start_position\"] = []\n",
        "  tokenized_examples[\"end_position\"] = []\n",
        "\n",
        "  for i, offsets in enumerate(offset_mapping):\n",
        "    # When a question has no answer, consider both the start and end positions to be the 'cls_token' (0)\n",
        "    if len(examples[\"answers\"][i][\"text\"]) == 0:\n",
        "      tokenized_examples[\"start_position\"].append(0)\n",
        "      tokenized_examples[\"end_position\"].append(0)\n",
        "\n",
        "    else:\n",
        "      input_ids = tokenized_examples[\"input_ids\"][i]\n",
        "      sequence_ids = tokenized_examples.sequence_ids(i)\n",
        "      answers = examples[\"answers\"][i]\n",
        "\n",
        "      start_char = answers[\"answer_start\"][0]\n",
        "      end_char = start_char + len(answers[\"text\"][0])\n",
        "      token_start_index, token_end_index = 0, len(input_ids) - 1\n",
        "\n",
        "      while sequence_ids[token_start_index] != 1:\n",
        "        token_start_index += 1\n",
        "      while sequence_ids[token_end_index] != 1:\n",
        "        token_end_index -= 1\n",
        "\n",
        "      while (token_start_index < len(input_ids)) and (offsets[token_start_index][0]) <= start_char:\n",
        "        token_start_index += 1\n",
        "      while offsets[token_end_index][1] >= end_char:\n",
        "        token_end_index -= 1\n",
        "\n",
        "      tokenized_examples[\"start_position\"].append(token_start_index - 1)\n",
        "      tokenized_examples[\"end_position\"].append(token_end_index + 1)\n",
        "\n",
        "  return tokenized_examples"
      ]
    },
    {
      "cell_type": "code",
      "execution_count": null,
      "metadata": {
        "colab": {
          "base_uri": "https://localhost:8080/",
          "height": 81,
          "referenced_widgets": [
            "ffc50ee2b9e741f6973da77e68677e81",
            "44bfb09926784e4582022dc61f8cd5f7",
            "5199c7d5278445a88c71327441e58dec",
            "9b3ddd396e39467c8bdf606a38467227",
            "e1e43e7439d4485d9a324e7ba9ce0435",
            "069ba1681ed44e17a00806546cc036bf",
            "5c473343005940349e195ee3f0a7cf59",
            "36fd9350b7ae4189a45f60d4173492f7",
            "9c181bd5c9e145728b1df715785ca25f",
            "59c1898cf47d49588d01cb537a327f9b",
            "4485e8e21e3f448db3668f14f1e7d619",
            "6358755b1abd47c4b80e5cb00a5fb4cf",
            "dc17b3af99fb4c2c9a5e02820feb4040",
            "2e74f68440d848f3bf8d03a059e91f0b",
            "22550b2d65924bfaac6b20b9eecbacb2",
            "a4b55236e8cf478dba28dbd50cf65a91",
            "ff061a901f5941a087fb82dd9e2bbfb9",
            "7731ae04950b44cfb3b35fea656a6367",
            "b30cf689067b40209bd53c61e4197541",
            "00c798b720c1481aa64a65e3ad8aa0b2",
            "a93939092fd74b50968c5b00478fbea2",
            "31612832bafa49d39f1db6ac84fbb78a"
          ]
        },
        "id": "qXOnTmJo4gzo",
        "outputId": "84196429-9b29-45de-c339-7788a85134f1"
      },
      "outputs": [
        {
          "output_type": "display_data",
          "data": {
            "text/plain": [
              "Map:   0%|          | 0/130101 [00:00<?, ? examples/s]"
            ],
            "application/vnd.jupyter.widget-view+json": {
              "version_major": 2,
              "version_minor": 0,
              "model_id": "ffc50ee2b9e741f6973da77e68677e81"
            }
          },
          "metadata": {}
        },
        {
          "output_type": "display_data",
          "data": {
            "text/plain": [
              "Map:   0%|          | 0/11791 [00:00<?, ? examples/s]"
            ],
            "application/vnd.jupyter.widget-view+json": {
              "version_major": 2,
              "version_minor": 0,
              "model_id": "6358755b1abd47c4b80e5cb00a5fb4cf"
            }
          },
          "metadata": {}
        }
      ],
      "source": [
        "train_dataset = train_dataset.map(preprocessing, batched=True, remove_columns=train_dataset.column_names)\n",
        "val_dataset = val_dataset.map(preprocessing, batched=True, remove_columns=[\"title\"])"
      ]
    },
    {
      "cell_type": "code",
      "execution_count": null,
      "metadata": {
        "colab": {
          "base_uri": "https://localhost:8080/",
          "height": 49,
          "referenced_widgets": [
            "aa29c7f1755d4bffbc704d2192bcf733",
            "b80b00fddbe143b2a00d49540b9f7579",
            "a52541656b5d470a99368ae189919599",
            "16bed17341d14a048f43b0c52ea02af6",
            "02012bc9d4124feaadaf716930174313",
            "127938574eab4007aded3acf5ba9b1c4",
            "616aed46892f47cc87aa24efbd6f44f3",
            "8030f96c074b421fa66c3b8b1395a716",
            "9c4a79ea42484a38b771e29a5ad4553c",
            "5a4d85e774274cdf8f66652e42e034be",
            "36df5c2b6925401e83a88faf88432369"
          ]
        },
        "id": "w_2KGC1aI2vg",
        "outputId": "2a79e12c-fed0-457a-c9d3-e0826ce6bdef"
      },
      "outputs": [
        {
          "output_type": "display_data",
          "data": {
            "text/plain": [
              "Saving the dataset (0/1 shards):   0%|          | 0/11791 [00:00<?, ? examples/s]"
            ],
            "application/vnd.jupyter.widget-view+json": {
              "version_major": 2,
              "version_minor": 0,
              "model_id": "aa29c7f1755d4bffbc704d2192bcf733"
            }
          },
          "metadata": {}
        }
      ],
      "source": [
        "# Save the evaluation dataset for the Evaluation and Predictions section\n",
        "val_dataset.save_to_disk(\"/content/drive/MyDrive/Datasets/val_dataset_squad_v2_roberta\")"
      ]
    },
    {
      "cell_type": "markdown",
      "metadata": {
        "id": "3turIAQCcQAw"
      },
      "source": [
        "### **Saving Data in TFRecord Format**"
      ]
    },
    {
      "cell_type": "code",
      "execution_count": null,
      "metadata": {
        "id": "jlfLCHbAcF8N"
      },
      "outputs": [],
      "source": [
        "def save_tfrecord(filename, dataset):\n",
        "  with tf.io.TFRecordWriter(filename) as writer:\n",
        "    for dic in tqdm(dataset):\n",
        "      features = {\n",
        "          \"input_ids\": tf.train.Feature(int64_list=tf.train.Int64List(value=dic[\"input_ids\"])),\n",
        "          \"attention_mask\": tf.train.Feature(int64_list=tf.train.Int64List(value=dic[\"attention_mask\"])),\n",
        "          \"start_position\": tf.train.Feature(int64_list=tf.train.Int64List(value=[dic[\"start_position\"]])),\n",
        "          \"end_position\": tf.train.Feature(int64_list=tf.train.Int64List(value=[dic[\"end_position\"]]))\n",
        "      }\n",
        "\n",
        "      features = tf.train.Features(feature=features)\n",
        "      example = tf.train.Example(features=features).SerializeToString()\n",
        "      writer.write(example)"
      ]
    },
    {
      "cell_type": "code",
      "execution_count": null,
      "metadata": {
        "colab": {
          "base_uri": "https://localhost:8080/",
          "height": 81,
          "referenced_widgets": [
            "366dfe4e48f24d75b3bc56b635c5f337",
            "5530b610c7c84d4d816c96cc135d0811",
            "1715bc5281f346b1b63983631dfcc6e7",
            "6f8032409bc140279e7f1a54485503be",
            "2320949d67ad404a8fe848c462d14938",
            "f75a921f67994bde9e5b553efc191895",
            "42c46b5330e8479692329fcebaadec8b",
            "b12f948615084aaf8c2c8626fc7ad588",
            "95731d36a92446d38f56c29c6403abc0",
            "9cb33e57ad0d4b5ebf8785493a1ae35f",
            "60121fdae1674f45881d944f06982a9a",
            "8475518b6ea149819d2b86cb9120237f",
            "fb48d18939b24365bad76a2e39316ce6",
            "62eac4e6ceab49c4b656551dc39ece21",
            "798ef6ba676a450f980b748545e04196",
            "045889a155704a98a1c3c56b11f652ad",
            "8c174340af5e4531be934f6449451d86",
            "f3b79bfd06b24d3fa921bbce7ef1870f",
            "bff9aade2a864f25a73b1e11506340b9",
            "15aeb35e1f3f4965aa5533405c4ba873",
            "d3e502f46e174d1b8f14595e494bfbdd",
            "596f54c2e2a241f0b209a54ac806c2d5"
          ]
        },
        "id": "3aA9E59Xhoj3",
        "outputId": "9d2ffc0a-9969-45df-bd76-56bec92e38e4"
      },
      "outputs": [
        {
          "output_type": "display_data",
          "data": {
            "text/plain": [
              "  0%|          | 0/130101 [00:00<?, ?it/s]"
            ],
            "application/vnd.jupyter.widget-view+json": {
              "version_major": 2,
              "version_minor": 0,
              "model_id": "366dfe4e48f24d75b3bc56b635c5f337"
            }
          },
          "metadata": {}
        },
        {
          "output_type": "display_data",
          "data": {
            "text/plain": [
              "  0%|          | 0/11791 [00:00<?, ?it/s]"
            ],
            "application/vnd.jupyter.widget-view+json": {
              "version_major": 2,
              "version_minor": 0,
              "model_id": "8475518b6ea149819d2b86cb9120237f"
            }
          },
          "metadata": {}
        }
      ],
      "source": [
        "save_tfrecord(train_filename, train_dataset)\n",
        "save_tfrecord(val_filename, val_dataset)"
      ]
    },
    {
      "cell_type": "markdown",
      "metadata": {
        "id": "ey4FxjBKi6ql"
      },
      "source": [
        "## **Using the TPU for Training**"
      ]
    },
    {
      "cell_type": "markdown",
      "metadata": {
        "id": "2dvagnXw2l6O"
      },
      "source": [
        "From this point onward until **Predictions with the Trained Model**, the use of TPU is mandatory, as each epoch takes approximately 24 minutes to complete even with its utilization."
      ]
    },
    {
      "cell_type": "code",
      "execution_count": null,
      "metadata": {
        "colab": {
          "base_uri": "https://localhost:8080/"
        },
        "id": "UxpMIx0PjJGU",
        "outputId": "9b559909-4b2b-4ad3-d2c9-b1683edbd415"
      },
      "outputs": [
        {
          "output_type": "stream",
          "name": "stdout",
          "text": [
            "TPU initialized:\n",
            "All devices:  [LogicalDevice(name='/device:TPU:0', device_type='TPU'), LogicalDevice(name='/device:TPU:1', device_type='TPU'), LogicalDevice(name='/device:TPU:2', device_type='TPU'), LogicalDevice(name='/device:TPU:3', device_type='TPU'), LogicalDevice(name='/device:TPU:4', device_type='TPU'), LogicalDevice(name='/device:TPU:5', device_type='TPU'), LogicalDevice(name='/device:TPU:6', device_type='TPU'), LogicalDevice(name='/device:TPU:7', device_type='TPU')]\n"
          ]
        }
      ],
      "source": [
        "# TPU setup\n",
        "try:\n",
        "  tpu = tf.distribute.cluster_resolver.TPUClusterResolver(tpu=\"local\")\n",
        "  tf.config.experimental_connect_to_cluster(tpu)\n",
        "  tf.tpu.experimental.initialize_tpu_system(tpu)\n",
        "  strategy = tf.distribute.TPUStrategy(tpu)\n",
        "  print(\"TPU initialized:\")\n",
        "  print(\"All devices: \", tf.config.list_logical_devices(\"TPU\"))\n",
        "except ValueError:\n",
        "  print(\"TPU not found\")"
      ]
    },
    {
      "cell_type": "markdown",
      "metadata": {
        "id": "KazolsO2jXMX"
      },
      "source": [
        "### **Loading the Preprocessed Datasets**"
      ]
    },
    {
      "cell_type": "code",
      "execution_count": null,
      "metadata": {
        "id": "Y3s1NJhr5z9K"
      },
      "outputs": [],
      "source": [
        "train_size, val_size = 130101, 11791"
      ]
    },
    {
      "cell_type": "code",
      "execution_count": null,
      "metadata": {
        "id": "egEPBmo3jrzy"
      },
      "outputs": [],
      "source": [
        "def decode_tfrecord(sample):\n",
        "  input_features = {\n",
        "      \"input_ids\": tf.io.FixedLenFeature((max_length, ), tf.int64),\n",
        "      \"attention_mask\": tf.io.FixedLenFeature((max_length, ), tf.int64)\n",
        "  }\n",
        "\n",
        "  output_features = {\n",
        "      \"start_position\": tf.io.FixedLenFeature((), tf.int64),\n",
        "      \"end_position\": tf.io.FixedLenFeature((), tf.int64),\n",
        "  }\n",
        "\n",
        "  input_parsed_features = tf.io.parse_example(sample, input_features)\n",
        "  output_parsed_features = tf.io.parse_example(sample, output_features)\n",
        "  return input_parsed_features, output_parsed_features\n",
        "\n",
        "\n",
        "def load_dataset(filename, size, shuffle=True):\n",
        "  dataset = tf.data.TFRecordDataset(filename)\n",
        "  dataset = dataset.map(decode_tfrecord, num_parallel_calls=AUTOTUNE)\n",
        "  dataset = dataset.apply(tf.data.experimental.assert_cardinality(size))\n",
        "\n",
        "  if shuffle:\n",
        "    dataset = dataset.shuffle(buffer_size, seed=SEED)\n",
        "  dataset = dataset.batch(batch_size).prefetch(AUTOTUNE)\n",
        "\n",
        "  return dataset"
      ]
    },
    {
      "cell_type": "code",
      "execution_count": null,
      "metadata": {
        "id": "jhXHL16EoG7Y"
      },
      "outputs": [],
      "source": [
        "train_dataset = load_dataset(train_filename, train_size)\n",
        "val_dataset = load_dataset(val_filename, val_size, shuffle=False)"
      ]
    },
    {
      "cell_type": "code",
      "execution_count": null,
      "metadata": {
        "colab": {
          "base_uri": "https://localhost:8080/"
        },
        "id": "UjMVGEYp2hzq",
        "outputId": "cf6ab7f9-4a11-40ef-f0fa-1d0b9b234542"
      },
      "outputs": [
        {
          "output_type": "stream",
          "name": "stdout",
          "text": [
            "tf.Tensor(\n",
            "[[    0  3908  3309 ...     1     1     1]\n",
            " [    0  6179   171 ...     1     1     1]\n",
            " [    0 12375  2312 ...     1     1     1]\n",
            " ...\n",
            " [    0  7608   222 ...     1     1     1]\n",
            " [    0  2264    76 ...     1     1     1]\n",
            " [    0  2264   183 ...     1     1     1]], shape=(64, 512), dtype=int64) \n",
            "\n",
            "tf.Tensor(\n",
            "[[1 1 1 ... 0 0 0]\n",
            " [1 1 1 ... 0 0 0]\n",
            " [1 1 1 ... 0 0 0]\n",
            " ...\n",
            " [1 1 1 ... 0 0 0]\n",
            " [1 1 1 ... 0 0 0]\n",
            " [1 1 1 ... 0 0 0]], shape=(64, 512), dtype=int64) \n",
            "\n",
            "tf.Tensor(\n",
            "[ 73 102 110  61  72 110  57  23  20  66  14 168  33 215 101 141  68 125\n",
            "  45  23 152  57  23 137 126  56  59  68  95  63 125  73  95  21  98 201\n",
            "  88  28  49 175  16 118  87 102  73 265  61 101 141  21  23  21 128 106\n",
            " 195 118 194  35  60  94  30 135  96  15], shape=(64,), dtype=int64) \n",
            "\n",
            "tf.Tensor(\n",
            "[ 79 103 113  62  73 113  57  24  22  66  15 168  45 215 102 159  70 126\n",
            "  46  23 158  65  24 139 129  62  60  74  97  71 126  76  97  22  99 213\n",
            "  91  30  50 175  17 125  92 108  73 265  62 102 144  21  26  23 129 109\n",
            " 196 118 195  35  62  95  32 144  97  18], shape=(64,), dtype=int64)\n"
          ]
        }
      ],
      "source": [
        "# Viewing a training batch\n",
        "for inputs, outputs in train_dataset.take(1):\n",
        "  print(inputs[\"input_ids\"], \"\\n\")\n",
        "  print(inputs[\"attention_mask\"], \"\\n\")\n",
        "  print(outputs[\"start_position\"], \"\\n\")\n",
        "  print(outputs[\"end_position\"])"
      ]
    },
    {
      "cell_type": "markdown",
      "metadata": {
        "id": "JjdJe11iKuZX"
      },
      "source": [
        "### **Creation and Training of the Model**\n"
      ]
    },
    {
      "cell_type": "markdown",
      "metadata": {
        "id": "8ba4IBFKxpuM"
      },
      "source": [
        "Due to this model using two outputs representing the start and end positions of answer tokens, two identical losses of [``tf.keras.losses.SparseCategoricalCrossentropy``](https://www.tensorflow.org/api_docs/python/tf/keras/losses/SparseCategoricalCrossentropy) are employed. Since the outputs from the base RoBERTa model have not yet undergone the ``argmax`` operation, it is necessary to set the ``from_logits=True`` argument. As an optimizer, [``tf.keras.optimizers.AdamW``](https://www.tensorflow.org/api_docs/python/tf/keras/optimizers/AdamW) is utilized, known for its computational efficiency, low memory requirements, invariance to diagonal gradient scaling changes, and suitability for large-scale data/parameter problems typical of Transformers models. It is employed with ``weight_decay=0.01`` to regularize the model weights and enhance generalization.\n",
        "\n",
        "Although conventional ``accuracy`` is not ideal for evaluating this model, it serves as a useful approximation to monitor its performance. Therefore, two callbacks are used to monitor these metrics on the evaluation set to mitigate overfitting. Later, the model will be evaluated using official SQuAD 2.0 metrics."
      ]
    },
    {
      "cell_type": "code",
      "execution_count": null,
      "metadata": {
        "id": "D0jdrht-Lf7t"
      },
      "outputs": [],
      "source": [
        "callback_start = tf.keras.callbacks.EarlyStopping(\n",
        "    monitor=\"val_start_position_accuracy\",\n",
        "    patience=2,\n",
        "    mode=\"max\",\n",
        "    restore_best_weights=True\n",
        ")\n",
        "\n",
        "callback_end = tf.keras.callbacks.EarlyStopping(\n",
        "    monitor=\"val_end_position_accuracy\",\n",
        "    patience=2,\n",
        "    mode=\"max\",\n",
        "    restore_best_weights=True\n",
        ")"
      ]
    },
    {
      "cell_type": "code",
      "execution_count": null,
      "metadata": {
        "id": "NSWWiUFiMxTP"
      },
      "outputs": [],
      "source": [
        "def create_model():\n",
        "  # Import the AutoModel\n",
        "  model_base = TFAutoModelForQuestionAnswering.from_pretrained(model_name)\n",
        "\n",
        "  input_ids = tf.keras.Input((max_length, ), dtype=tf.int64, name=\"input_ids\")\n",
        "  attention_mask = tf.keras.Input((max_length, ), dtype=tf.int64, name=\"attention_mask\")\n",
        "  logits = model_base(input_ids=input_ids, attention_mask=attention_mask)\n",
        "\n",
        "  # Activation layers do not alter the outputs; they only serve to rename them (linear: x=y)\n",
        "  start_logits = tf.keras.layers.Activation(\"linear\", name=\"start_position\")(logits.start_logits)\n",
        "  end_logits = tf.keras.layers.Activation(\"linear\", name=\"end_position\")(logits.end_logits)\n",
        "\n",
        "  model = tf.keras.Model(\n",
        "      inputs=[input_ids, attention_mask],\n",
        "      outputs=[start_logits, end_logits]\n",
        "  )\n",
        "\n",
        "  return model"
      ]
    },
    {
      "cell_type": "code",
      "execution_count": null,
      "metadata": {
        "colab": {
          "base_uri": "https://localhost:8080/",
          "height": 156,
          "referenced_widgets": [
            "2b885a88fb694e1da9c84e4faf790cd9",
            "3ca9439102d54f299633bb61df36f960",
            "d2dc03f611094e12be2c55b1b85f8c35",
            "90bd6d51e67342f19c890893e59d678c",
            "e1d029ecb6e64b00954f0aa61fb4f7de",
            "8888bd12c0a2453bb49670062ecbf757",
            "3a8f92e3f9704f8ea26831871974007d",
            "7201bebaadf24cedaa187aaa78bd81c0",
            "be23f5c9c2404a2aa098102e30cbe8f2",
            "fbe4e7af432e4ffebcd2399205df490b",
            "2935e6b16ad946e7b412412e035fb827"
          ]
        },
        "id": "QszJCJEGqq4M",
        "outputId": "a62327ae-4699-4d84-f250-2c5be8e8713b"
      },
      "outputs": [
        {
          "output_type": "display_data",
          "data": {
            "text/plain": [
              "model.safetensors:   0%|          | 0.00/1.42G [00:00<?, ?B/s]"
            ],
            "application/vnd.jupyter.widget-view+json": {
              "version_major": 2,
              "version_minor": 0,
              "model_id": "2b885a88fb694e1da9c84e4faf790cd9"
            }
          },
          "metadata": {}
        },
        {
          "output_type": "stream",
          "name": "stderr",
          "text": [
            "Some weights of the PyTorch model were not used when initializing the TF 2.0 model TFRobertaForQuestionAnswering: ['roberta.embeddings.position_ids']\n",
            "- This IS expected if you are initializing TFRobertaForQuestionAnswering from a PyTorch model trained on another task or with another architecture (e.g. initializing a TFBertForSequenceClassification model from a BertForPreTraining model).\n",
            "- This IS NOT expected if you are initializing TFRobertaForQuestionAnswering from a PyTorch model that you expect to be exactly identical (e.g. initializing a TFBertForSequenceClassification model from a BertForSequenceClassification model).\n",
            "Some weights or buffers of the TF 2.0 model TFRobertaForQuestionAnswering were not initialized from the PyTorch model and are newly initialized: ['qa_outputs.weight', 'qa_outputs.bias']\n",
            "You should probably TRAIN this model on a down-stream task to be able to use it for predictions and inference.\n"
          ]
        }
      ],
      "source": [
        "tf.keras.backend.clear_session() #Clearing Keras memory\n",
        "tf.random.set_seed(123) #For reproducibility\n",
        "\n",
        "# Creation and compilation of the model within the distribution strategy\n",
        "with strategy.scope():\n",
        "  model = create_model()\n",
        "\n",
        "  loss_fn = tf.keras.losses.SparseCategoricalCrossentropy(from_logits=True)\n",
        "  model.compile(\n",
        "      optimizer=tf.keras.optimizers.AdamW(learning_rate=2e-5, weight_decay=0.01),\n",
        "      loss={\"start_position\": loss_fn, \"end_position\": loss_fn},\n",
        "      metrics={\"start_position\": \"accuracy\", \"end_position\": \"accuracy\"},\n",
        "      steps_per_execution=200\n",
        "  )"
      ]
    },
    {
      "cell_type": "code",
      "execution_count": null,
      "metadata": {
        "colab": {
          "base_uri": "https://localhost:8080/"
        },
        "id": "cJWiDb_8sGT6",
        "outputId": "e00ce405-1eb3-4c77-d1cc-583e9c8f146f"
      },
      "outputs": [
        {
          "output_type": "stream",
          "name": "stdout",
          "text": [
            "Model: \"model\"\n",
            "__________________________________________________________________________________________________\n",
            " Layer (type)                Output Shape                 Param #   Connected to                  \n",
            "==================================================================================================\n",
            " input_ids (InputLayer)      [(None, 512)]                0         []                            \n",
            "                                                                                                  \n",
            " attention_mask (InputLayer  [(None, 512)]                0         []                            \n",
            " )                                                                                                \n",
            "                                                                                                  \n",
            " tf_roberta_for_question_an  TFQuestionAnsweringModelOu   3543121   ['input_ids[0][0]',           \n",
            " swering (TFRobertaForQuest  tput(loss=None, start_logi   94         'attention_mask[0][0]']      \n",
            " ionAnswering)               ts=(None, 512),                                                      \n",
            "                              end_logits=(None, 512),                                             \n",
            "                              hidden_states=None, atten                                           \n",
            "                             tions=None)                                                          \n",
            "                                                                                                  \n",
            " start_position (Activation  (None, 512)                  0         ['tf_roberta_for_question_answ\n",
            " )                                                                  ering[0][1]']                 \n",
            "                                                                                                  \n",
            " end_position (Activation)   (None, 512)                  0         ['tf_roberta_for_question_answ\n",
            "                                                                    ering[0][0]']                 \n",
            "                                                                                                  \n",
            "==================================================================================================\n",
            "Total params: 354312194 (1.32 GB)\n",
            "Trainable params: 354312194 (1.32 GB)\n",
            "Non-trainable params: 0 (0.00 Byte)\n",
            "__________________________________________________________________________________________________\n"
          ]
        }
      ],
      "source": [
        "model.summary()"
      ]
    },
    {
      "cell_type": "code",
      "source": [
        "tf.random.set_seed(SEED)\n",
        "history = model.fit(train_dataset, epochs=epochs, validation_data=val_dataset, callbacks=[callback_start, callback_end])"
      ],
      "metadata": {
        "colab": {
          "base_uri": "https://localhost:8080/"
        },
        "id": "N5cCUE4y-K7x",
        "outputId": "4585079e-b422-47b7-c29c-192021755766"
      },
      "execution_count": null,
      "outputs": [
        {
          "output_type": "stream",
          "name": "stdout",
          "text": [
            "Epoch 1/10\n",
            "2033/2033 [==============================] - 1707s 840ms/step - loss: 1.8700 - start_position_loss: 0.9673 - end_position_loss: 0.9027 - start_position_accuracy: 0.7090 - end_position_accuracy: 0.7347 - val_loss: 1.5073 - val_start_position_loss: 0.7661 - val_end_position_loss: 0.7412 - val_start_position_accuracy: 0.7623 - val_end_position_accuracy: 0.7733\n",
            "Epoch 2/10\n",
            "2033/2033 [==============================] - 1376s 677ms/step - loss: 1.2565 - start_position_loss: 0.6581 - end_position_loss: 0.5984 - start_position_accuracy: 0.7883 - end_position_accuracy: 0.8159 - val_loss: 1.5057 - val_start_position_loss: 0.7660 - val_end_position_loss: 0.7397 - val_start_position_accuracy: 0.7781 - val_end_position_accuracy: 0.7913\n",
            "Epoch 3/10\n",
            "2033/2033 [==============================] - 1376s 677ms/step - loss: 1.0521 - start_position_loss: 0.5517 - end_position_loss: 0.5004 - start_position_accuracy: 0.8183 - end_position_accuracy: 0.8430 - val_loss: 1.5371 - val_start_position_loss: 0.7561 - val_end_position_loss: 0.7810 - val_start_position_accuracy: 0.7891 - val_end_position_accuracy: 0.7991\n",
            "Epoch 4/10\n",
            "2033/2033 [==============================] - 1374s 676ms/step - loss: 0.8426 - start_position_loss: 0.4451 - end_position_loss: 0.3976 - start_position_accuracy: 0.8485 - end_position_accuracy: 0.8741 - val_loss: 1.7694 - val_start_position_loss: 0.8692 - val_end_position_loss: 0.9002 - val_start_position_accuracy: 0.7674 - val_end_position_accuracy: 0.7756\n",
            "Epoch 5/10\n",
            "2033/2033 [==============================] - 1391s 684ms/step - loss: 0.6860 - start_position_loss: 0.3656 - end_position_loss: 0.3204 - start_position_accuracy: 0.8706 - end_position_accuracy: 0.8969 - val_loss: 1.9427 - val_start_position_loss: 0.9505 - val_end_position_loss: 0.9922 - val_start_position_accuracy: 0.7890 - val_end_position_accuracy: 0.8015\n"
          ]
        }
      ]
    },
    {
      "cell_type": "markdown",
      "metadata": {
        "id": "S7cewteBIwua"
      },
      "source": [
        "### **Save model**"
      ]
    },
    {
      "cell_type": "code",
      "execution_count": null,
      "metadata": {
        "id": "kHF6iPebtijl"
      },
      "outputs": [],
      "source": [
        "trained_model_path = \"/content/drive/MyDrive/models/ExtractiveQA_RoBERTa_SQuAD_v2\""
      ]
    },
    {
      "cell_type": "code",
      "execution_count": null,
      "metadata": {
        "id": "gJ1Ww4BMaIfQ"
      },
      "outputs": [],
      "source": [
        "model.layers[2].save_pretrained(trained_model_path)"
      ]
    },
    {
      "cell_type": "markdown",
      "metadata": {
        "id": "WSJL2EanOvQH"
      },
      "source": [
        "## **Model Evaluation**"
      ]
    },
    {
      "cell_type": "markdown",
      "metadata": {
        "id": "lSrMg6ZOfV6s"
      },
      "source": [
        "### **With conventional Accuracy**"
      ]
    },
    {
      "cell_type": "code",
      "source": [
        "print(model.evaluate(train_dataset, verbose=0))\n",
        "print(model.evaluate(val_dataset, verbose=0))"
      ],
      "metadata": {
        "colab": {
          "base_uri": "https://localhost:8080/"
        },
        "id": "6LNshwLcJ38d",
        "outputId": "79f9a744-5415-401f-99f5-682d54015370"
      },
      "execution_count": null,
      "outputs": [
        {
          "output_type": "stream",
          "name": "stdout",
          "text": [
            "[0.8293669819831848, 0.4320789575576782, 0.39728668332099915, 0.8510311245918274, 0.8782330751419067]\n",
            "[1.5371326208114624, 0.7560956478118896, 0.7810367941856384, 0.7890763878822327, 0.7990840673446655]\n"
          ]
        }
      ]
    },
    {
      "cell_type": "code",
      "execution_count": null,
      "metadata": {
        "id": "S0Dl-vzNaZD4"
      },
      "outputs": [],
      "source": [
        "# Function to plot the metrics\n",
        "def plot_metrics(history=history, metric=\"loss\", renderer=None, epochs=len(history.history[\"loss\"])):\n",
        "  losses = history.history[metric]\n",
        "  val_losses = history.history[f\"val_{metric}\"]\n",
        "  list_epochs = np.arange(1, epochs+1)\n",
        "  metric = \" \".join([w.capitalize() for w in metric.split(\"_\")])\n",
        "\n",
        "  fig=go.Figure()\n",
        "  fig.add_trace(go.Scatter(x=list_epochs, y=losses, name=metric, line=dict(color=\"blue\", width=2)))\n",
        "  fig.add_trace(go.Scatter(x=list_epochs, y=val_losses, name=f\"Val {metric}\", line=dict(color=\"#FF6600\", width=2)))\n",
        "  fig.update_xaxes(title_text=\"Epoch\")\n",
        "  fig.update_yaxes(title_text=metric)\n",
        "  fig.update_layout(title=f\"Evolution of {metric} across Epochs\",\n",
        "                    title_font=dict(size=20),\n",
        "                    title_x=0.5,\n",
        "                    height=500,\n",
        "                    width=1200)\n",
        "\n",
        "  fig.show(renderer)"
      ]
    },
    {
      "cell_type": "markdown",
      "metadata": {
        "id": "Zbmblu4ZuQoO"
      },
      "source": [
        "**Interactive graphics**"
      ]
    },
    {
      "cell_type": "code",
      "execution_count": null,
      "metadata": {
        "colab": {
          "base_uri": "https://localhost:8080/",
          "height": 1000
        },
        "id": "K9_fscW1bBUJ",
        "outputId": "026af447-24be-4c2a-ee6c-861d740a26a0"
      },
      "outputs": [
        {
          "output_type": "display_data",
          "data": {
            "text/html": [
              "<html>\n",
              "<head><meta charset=\"utf-8\" /></head>\n",
              "<body>\n",
              "    <div>            <script src=\"https://cdnjs.cloudflare.com/ajax/libs/mathjax/2.7.5/MathJax.js?config=TeX-AMS-MML_SVG\"></script><script type=\"text/javascript\">if (window.MathJax && window.MathJax.Hub && window.MathJax.Hub.Config) {window.MathJax.Hub.Config({SVG: {font: \"STIX-Web\"}});}</script>                <script type=\"text/javascript\">window.PlotlyConfig = {MathJaxConfig: 'local'};</script>\n",
              "        <script charset=\"utf-8\" src=\"https://cdn.plot.ly/plotly-2.24.1.min.js\"></script>                <div id=\"d92417f9-eb4a-4f42-a304-86b34d6655eb\" class=\"plotly-graph-div\" style=\"height:500px; width:1200px;\"></div>            <script type=\"text/javascript\">                                    window.PLOTLYENV=window.PLOTLYENV || {};                                    if (document.getElementById(\"d92417f9-eb4a-4f42-a304-86b34d6655eb\")) {                    Plotly.newPlot(                        \"d92417f9-eb4a-4f42-a304-86b34d6655eb\",                        [{\"line\":{\"color\":\"blue\",\"width\":2},\"name\":\"Loss\",\"x\":[1,2,3,4,5],\"y\":[1.869968056678772,1.256500244140625,1.052085280418396,0.8426245450973511,0.6859557628631592],\"type\":\"scatter\"},{\"line\":{\"color\":\"#FF6600\",\"width\":2},\"name\":\"Val Loss\",\"x\":[1,2,3,4,5],\"y\":[1.5073271989822388,1.5057454109191897,1.5371326208114624,1.769447922706604,1.942716717720032],\"type\":\"scatter\"}],                        {\"template\":{\"data\":{\"histogram2dcontour\":[{\"type\":\"histogram2dcontour\",\"colorbar\":{\"outlinewidth\":0,\"ticks\":\"\"},\"colorscale\":[[0.0,\"#0d0887\"],[0.1111111111111111,\"#46039f\"],[0.2222222222222222,\"#7201a8\"],[0.3333333333333333,\"#9c179e\"],[0.4444444444444444,\"#bd3786\"],[0.5555555555555556,\"#d8576b\"],[0.6666666666666666,\"#ed7953\"],[0.7777777777777778,\"#fb9f3a\"],[0.8888888888888888,\"#fdca26\"],[1.0,\"#f0f921\"]]}],\"choropleth\":[{\"type\":\"choropleth\",\"colorbar\":{\"outlinewidth\":0,\"ticks\":\"\"}}],\"histogram2d\":[{\"type\":\"histogram2d\",\"colorbar\":{\"outlinewidth\":0,\"ticks\":\"\"},\"colorscale\":[[0.0,\"#0d0887\"],[0.1111111111111111,\"#46039f\"],[0.2222222222222222,\"#7201a8\"],[0.3333333333333333,\"#9c179e\"],[0.4444444444444444,\"#bd3786\"],[0.5555555555555556,\"#d8576b\"],[0.6666666666666666,\"#ed7953\"],[0.7777777777777778,\"#fb9f3a\"],[0.8888888888888888,\"#fdca26\"],[1.0,\"#f0f921\"]]}],\"heatmap\":[{\"type\":\"heatmap\",\"colorbar\":{\"outlinewidth\":0,\"ticks\":\"\"},\"colorscale\":[[0.0,\"#0d0887\"],[0.1111111111111111,\"#46039f\"],[0.2222222222222222,\"#7201a8\"],[0.3333333333333333,\"#9c179e\"],[0.4444444444444444,\"#bd3786\"],[0.5555555555555556,\"#d8576b\"],[0.6666666666666666,\"#ed7953\"],[0.7777777777777778,\"#fb9f3a\"],[0.8888888888888888,\"#fdca26\"],[1.0,\"#f0f921\"]]}],\"heatmapgl\":[{\"type\":\"heatmapgl\",\"colorbar\":{\"outlinewidth\":0,\"ticks\":\"\"},\"colorscale\":[[0.0,\"#0d0887\"],[0.1111111111111111,\"#46039f\"],[0.2222222222222222,\"#7201a8\"],[0.3333333333333333,\"#9c179e\"],[0.4444444444444444,\"#bd3786\"],[0.5555555555555556,\"#d8576b\"],[0.6666666666666666,\"#ed7953\"],[0.7777777777777778,\"#fb9f3a\"],[0.8888888888888888,\"#fdca26\"],[1.0,\"#f0f921\"]]}],\"contourcarpet\":[{\"type\":\"contourcarpet\",\"colorbar\":{\"outlinewidth\":0,\"ticks\":\"\"}}],\"contour\":[{\"type\":\"contour\",\"colorbar\":{\"outlinewidth\":0,\"ticks\":\"\"},\"colorscale\":[[0.0,\"#0d0887\"],[0.1111111111111111,\"#46039f\"],[0.2222222222222222,\"#7201a8\"],[0.3333333333333333,\"#9c179e\"],[0.4444444444444444,\"#bd3786\"],[0.5555555555555556,\"#d8576b\"],[0.6666666666666666,\"#ed7953\"],[0.7777777777777778,\"#fb9f3a\"],[0.8888888888888888,\"#fdca26\"],[1.0,\"#f0f921\"]]}],\"surface\":[{\"type\":\"surface\",\"colorbar\":{\"outlinewidth\":0,\"ticks\":\"\"},\"colorscale\":[[0.0,\"#0d0887\"],[0.1111111111111111,\"#46039f\"],[0.2222222222222222,\"#7201a8\"],[0.3333333333333333,\"#9c179e\"],[0.4444444444444444,\"#bd3786\"],[0.5555555555555556,\"#d8576b\"],[0.6666666666666666,\"#ed7953\"],[0.7777777777777778,\"#fb9f3a\"],[0.8888888888888888,\"#fdca26\"],[1.0,\"#f0f921\"]]}],\"mesh3d\":[{\"type\":\"mesh3d\",\"colorbar\":{\"outlinewidth\":0,\"ticks\":\"\"}}],\"scatter\":[{\"fillpattern\":{\"fillmode\":\"overlay\",\"size\":10,\"solidity\":0.2},\"type\":\"scatter\"}],\"parcoords\":[{\"type\":\"parcoords\",\"line\":{\"colorbar\":{\"outlinewidth\":0,\"ticks\":\"\"}}}],\"scatterpolargl\":[{\"type\":\"scatterpolargl\",\"marker\":{\"colorbar\":{\"outlinewidth\":0,\"ticks\":\"\"}}}],\"bar\":[{\"error_x\":{\"color\":\"#2a3f5f\"},\"error_y\":{\"color\":\"#2a3f5f\"},\"marker\":{\"line\":{\"color\":\"#E5ECF6\",\"width\":0.5},\"pattern\":{\"fillmode\":\"overlay\",\"size\":10,\"solidity\":0.2}},\"type\":\"bar\"}],\"scattergeo\":[{\"type\":\"scattergeo\",\"marker\":{\"colorbar\":{\"outlinewidth\":0,\"ticks\":\"\"}}}],\"scatterpolar\":[{\"type\":\"scatterpolar\",\"marker\":{\"colorbar\":{\"outlinewidth\":0,\"ticks\":\"\"}}}],\"histogram\":[{\"marker\":{\"pattern\":{\"fillmode\":\"overlay\",\"size\":10,\"solidity\":0.2}},\"type\":\"histogram\"}],\"scattergl\":[{\"type\":\"scattergl\",\"marker\":{\"colorbar\":{\"outlinewidth\":0,\"ticks\":\"\"}}}],\"scatter3d\":[{\"type\":\"scatter3d\",\"line\":{\"colorbar\":{\"outlinewidth\":0,\"ticks\":\"\"}},\"marker\":{\"colorbar\":{\"outlinewidth\":0,\"ticks\":\"\"}}}],\"scattermapbox\":[{\"type\":\"scattermapbox\",\"marker\":{\"colorbar\":{\"outlinewidth\":0,\"ticks\":\"\"}}}],\"scatterternary\":[{\"type\":\"scatterternary\",\"marker\":{\"colorbar\":{\"outlinewidth\":0,\"ticks\":\"\"}}}],\"scattercarpet\":[{\"type\":\"scattercarpet\",\"marker\":{\"colorbar\":{\"outlinewidth\":0,\"ticks\":\"\"}}}],\"carpet\":[{\"aaxis\":{\"endlinecolor\":\"#2a3f5f\",\"gridcolor\":\"white\",\"linecolor\":\"white\",\"minorgridcolor\":\"white\",\"startlinecolor\":\"#2a3f5f\"},\"baxis\":{\"endlinecolor\":\"#2a3f5f\",\"gridcolor\":\"white\",\"linecolor\":\"white\",\"minorgridcolor\":\"white\",\"startlinecolor\":\"#2a3f5f\"},\"type\":\"carpet\"}],\"table\":[{\"cells\":{\"fill\":{\"color\":\"#EBF0F8\"},\"line\":{\"color\":\"white\"}},\"header\":{\"fill\":{\"color\":\"#C8D4E3\"},\"line\":{\"color\":\"white\"}},\"type\":\"table\"}],\"barpolar\":[{\"marker\":{\"line\":{\"color\":\"#E5ECF6\",\"width\":0.5},\"pattern\":{\"fillmode\":\"overlay\",\"size\":10,\"solidity\":0.2}},\"type\":\"barpolar\"}],\"pie\":[{\"automargin\":true,\"type\":\"pie\"}]},\"layout\":{\"autotypenumbers\":\"strict\",\"colorway\":[\"#636efa\",\"#EF553B\",\"#00cc96\",\"#ab63fa\",\"#FFA15A\",\"#19d3f3\",\"#FF6692\",\"#B6E880\",\"#FF97FF\",\"#FECB52\"],\"font\":{\"color\":\"#2a3f5f\"},\"hovermode\":\"closest\",\"hoverlabel\":{\"align\":\"left\"},\"paper_bgcolor\":\"white\",\"plot_bgcolor\":\"#E5ECF6\",\"polar\":{\"bgcolor\":\"#E5ECF6\",\"angularaxis\":{\"gridcolor\":\"white\",\"linecolor\":\"white\",\"ticks\":\"\"},\"radialaxis\":{\"gridcolor\":\"white\",\"linecolor\":\"white\",\"ticks\":\"\"}},\"ternary\":{\"bgcolor\":\"#E5ECF6\",\"aaxis\":{\"gridcolor\":\"white\",\"linecolor\":\"white\",\"ticks\":\"\"},\"baxis\":{\"gridcolor\":\"white\",\"linecolor\":\"white\",\"ticks\":\"\"},\"caxis\":{\"gridcolor\":\"white\",\"linecolor\":\"white\",\"ticks\":\"\"}},\"coloraxis\":{\"colorbar\":{\"outlinewidth\":0,\"ticks\":\"\"}},\"colorscale\":{\"sequential\":[[0.0,\"#0d0887\"],[0.1111111111111111,\"#46039f\"],[0.2222222222222222,\"#7201a8\"],[0.3333333333333333,\"#9c179e\"],[0.4444444444444444,\"#bd3786\"],[0.5555555555555556,\"#d8576b\"],[0.6666666666666666,\"#ed7953\"],[0.7777777777777778,\"#fb9f3a\"],[0.8888888888888888,\"#fdca26\"],[1.0,\"#f0f921\"]],\"sequentialminus\":[[0.0,\"#0d0887\"],[0.1111111111111111,\"#46039f\"],[0.2222222222222222,\"#7201a8\"],[0.3333333333333333,\"#9c179e\"],[0.4444444444444444,\"#bd3786\"],[0.5555555555555556,\"#d8576b\"],[0.6666666666666666,\"#ed7953\"],[0.7777777777777778,\"#fb9f3a\"],[0.8888888888888888,\"#fdca26\"],[1.0,\"#f0f921\"]],\"diverging\":[[0,\"#8e0152\"],[0.1,\"#c51b7d\"],[0.2,\"#de77ae\"],[0.3,\"#f1b6da\"],[0.4,\"#fde0ef\"],[0.5,\"#f7f7f7\"],[0.6,\"#e6f5d0\"],[0.7,\"#b8e186\"],[0.8,\"#7fbc41\"],[0.9,\"#4d9221\"],[1,\"#276419\"]]},\"xaxis\":{\"gridcolor\":\"white\",\"linecolor\":\"white\",\"ticks\":\"\",\"title\":{\"standoff\":15},\"zerolinecolor\":\"white\",\"automargin\":true,\"zerolinewidth\":2},\"yaxis\":{\"gridcolor\":\"white\",\"linecolor\":\"white\",\"ticks\":\"\",\"title\":{\"standoff\":15},\"zerolinecolor\":\"white\",\"automargin\":true,\"zerolinewidth\":2},\"scene\":{\"xaxis\":{\"backgroundcolor\":\"#E5ECF6\",\"gridcolor\":\"white\",\"linecolor\":\"white\",\"showbackground\":true,\"ticks\":\"\",\"zerolinecolor\":\"white\",\"gridwidth\":2},\"yaxis\":{\"backgroundcolor\":\"#E5ECF6\",\"gridcolor\":\"white\",\"linecolor\":\"white\",\"showbackground\":true,\"ticks\":\"\",\"zerolinecolor\":\"white\",\"gridwidth\":2},\"zaxis\":{\"backgroundcolor\":\"#E5ECF6\",\"gridcolor\":\"white\",\"linecolor\":\"white\",\"showbackground\":true,\"ticks\":\"\",\"zerolinecolor\":\"white\",\"gridwidth\":2}},\"shapedefaults\":{\"line\":{\"color\":\"#2a3f5f\"}},\"annotationdefaults\":{\"arrowcolor\":\"#2a3f5f\",\"arrowhead\":0,\"arrowwidth\":1},\"geo\":{\"bgcolor\":\"white\",\"landcolor\":\"#E5ECF6\",\"subunitcolor\":\"white\",\"showland\":true,\"showlakes\":true,\"lakecolor\":\"white\"},\"title\":{\"x\":0.05},\"mapbox\":{\"style\":\"light\"}}},\"xaxis\":{\"title\":{\"text\":\"Epoch\"}},\"yaxis\":{\"title\":{\"text\":\"Loss\"}},\"title\":{\"text\":\"Evolution of Loss across Epochs\",\"font\":{\"size\":20},\"x\":0.5},\"height\":500,\"width\":1200},                        {\"responsive\": true}                    ).then(function(){\n",
              "                            \n",
              "var gd = document.getElementById('d92417f9-eb4a-4f42-a304-86b34d6655eb');\n",
              "var x = new MutationObserver(function (mutations, observer) {{\n",
              "        var display = window.getComputedStyle(gd).display;\n",
              "        if (!display || display === 'none') {{\n",
              "            console.log([gd, 'removed!']);\n",
              "            Plotly.purge(gd);\n",
              "            observer.disconnect();\n",
              "        }}\n",
              "}});\n",
              "\n",
              "// Listen for the removal of the full notebook cells\n",
              "var notebookContainer = gd.closest('#notebook-container');\n",
              "if (notebookContainer) {{\n",
              "    x.observe(notebookContainer, {childList: true});\n",
              "}}\n",
              "\n",
              "// Listen for the clearing of the current output cell\n",
              "var outputEl = gd.closest('.output');\n",
              "if (outputEl) {{\n",
              "    x.observe(outputEl, {childList: true});\n",
              "}}\n",
              "\n",
              "                        })                };                            </script>        </div>\n",
              "</body>\n",
              "</html>"
            ]
          },
          "metadata": {}
        },
        {
          "output_type": "display_data",
          "data": {
            "text/html": [
              "<html>\n",
              "<head><meta charset=\"utf-8\" /></head>\n",
              "<body>\n",
              "    <div>            <script src=\"https://cdnjs.cloudflare.com/ajax/libs/mathjax/2.7.5/MathJax.js?config=TeX-AMS-MML_SVG\"></script><script type=\"text/javascript\">if (window.MathJax && window.MathJax.Hub && window.MathJax.Hub.Config) {window.MathJax.Hub.Config({SVG: {font: \"STIX-Web\"}});}</script>                <script type=\"text/javascript\">window.PlotlyConfig = {MathJaxConfig: 'local'};</script>\n",
              "        <script charset=\"utf-8\" src=\"https://cdn.plot.ly/plotly-2.24.1.min.js\"></script>                <div id=\"74608936-3872-42ea-8353-6c173023e33a\" class=\"plotly-graph-div\" style=\"height:500px; width:1200px;\"></div>            <script type=\"text/javascript\">                                    window.PLOTLYENV=window.PLOTLYENV || {};                                    if (document.getElementById(\"74608936-3872-42ea-8353-6c173023e33a\")) {                    Plotly.newPlot(                        \"74608936-3872-42ea-8353-6c173023e33a\",                        [{\"line\":{\"color\":\"blue\",\"width\":2},\"name\":\"Start Position Accuracy\",\"x\":[1,2,3,4,5],\"y\":[0.7090030312538147,0.7883413434028625,0.8182796239852905,0.8485177159309387,0.8705774545669556],\"type\":\"scatter\"},{\"line\":{\"color\":\"#FF6600\",\"width\":2},\"name\":\"Val Start Position Accuracy\",\"x\":[1,2,3,4,5],\"y\":[0.762276291847229,0.7780510783195496,0.7890763878822327,0.7674497365951538,0.7889916300773621],\"type\":\"scatter\"}],                        {\"template\":{\"data\":{\"histogram2dcontour\":[{\"type\":\"histogram2dcontour\",\"colorbar\":{\"outlinewidth\":0,\"ticks\":\"\"},\"colorscale\":[[0.0,\"#0d0887\"],[0.1111111111111111,\"#46039f\"],[0.2222222222222222,\"#7201a8\"],[0.3333333333333333,\"#9c179e\"],[0.4444444444444444,\"#bd3786\"],[0.5555555555555556,\"#d8576b\"],[0.6666666666666666,\"#ed7953\"],[0.7777777777777778,\"#fb9f3a\"],[0.8888888888888888,\"#fdca26\"],[1.0,\"#f0f921\"]]}],\"choropleth\":[{\"type\":\"choropleth\",\"colorbar\":{\"outlinewidth\":0,\"ticks\":\"\"}}],\"histogram2d\":[{\"type\":\"histogram2d\",\"colorbar\":{\"outlinewidth\":0,\"ticks\":\"\"},\"colorscale\":[[0.0,\"#0d0887\"],[0.1111111111111111,\"#46039f\"],[0.2222222222222222,\"#7201a8\"],[0.3333333333333333,\"#9c179e\"],[0.4444444444444444,\"#bd3786\"],[0.5555555555555556,\"#d8576b\"],[0.6666666666666666,\"#ed7953\"],[0.7777777777777778,\"#fb9f3a\"],[0.8888888888888888,\"#fdca26\"],[1.0,\"#f0f921\"]]}],\"heatmap\":[{\"type\":\"heatmap\",\"colorbar\":{\"outlinewidth\":0,\"ticks\":\"\"},\"colorscale\":[[0.0,\"#0d0887\"],[0.1111111111111111,\"#46039f\"],[0.2222222222222222,\"#7201a8\"],[0.3333333333333333,\"#9c179e\"],[0.4444444444444444,\"#bd3786\"],[0.5555555555555556,\"#d8576b\"],[0.6666666666666666,\"#ed7953\"],[0.7777777777777778,\"#fb9f3a\"],[0.8888888888888888,\"#fdca26\"],[1.0,\"#f0f921\"]]}],\"heatmapgl\":[{\"type\":\"heatmapgl\",\"colorbar\":{\"outlinewidth\":0,\"ticks\":\"\"},\"colorscale\":[[0.0,\"#0d0887\"],[0.1111111111111111,\"#46039f\"],[0.2222222222222222,\"#7201a8\"],[0.3333333333333333,\"#9c179e\"],[0.4444444444444444,\"#bd3786\"],[0.5555555555555556,\"#d8576b\"],[0.6666666666666666,\"#ed7953\"],[0.7777777777777778,\"#fb9f3a\"],[0.8888888888888888,\"#fdca26\"],[1.0,\"#f0f921\"]]}],\"contourcarpet\":[{\"type\":\"contourcarpet\",\"colorbar\":{\"outlinewidth\":0,\"ticks\":\"\"}}],\"contour\":[{\"type\":\"contour\",\"colorbar\":{\"outlinewidth\":0,\"ticks\":\"\"},\"colorscale\":[[0.0,\"#0d0887\"],[0.1111111111111111,\"#46039f\"],[0.2222222222222222,\"#7201a8\"],[0.3333333333333333,\"#9c179e\"],[0.4444444444444444,\"#bd3786\"],[0.5555555555555556,\"#d8576b\"],[0.6666666666666666,\"#ed7953\"],[0.7777777777777778,\"#fb9f3a\"],[0.8888888888888888,\"#fdca26\"],[1.0,\"#f0f921\"]]}],\"surface\":[{\"type\":\"surface\",\"colorbar\":{\"outlinewidth\":0,\"ticks\":\"\"},\"colorscale\":[[0.0,\"#0d0887\"],[0.1111111111111111,\"#46039f\"],[0.2222222222222222,\"#7201a8\"],[0.3333333333333333,\"#9c179e\"],[0.4444444444444444,\"#bd3786\"],[0.5555555555555556,\"#d8576b\"],[0.6666666666666666,\"#ed7953\"],[0.7777777777777778,\"#fb9f3a\"],[0.8888888888888888,\"#fdca26\"],[1.0,\"#f0f921\"]]}],\"mesh3d\":[{\"type\":\"mesh3d\",\"colorbar\":{\"outlinewidth\":0,\"ticks\":\"\"}}],\"scatter\":[{\"fillpattern\":{\"fillmode\":\"overlay\",\"size\":10,\"solidity\":0.2},\"type\":\"scatter\"}],\"parcoords\":[{\"type\":\"parcoords\",\"line\":{\"colorbar\":{\"outlinewidth\":0,\"ticks\":\"\"}}}],\"scatterpolargl\":[{\"type\":\"scatterpolargl\",\"marker\":{\"colorbar\":{\"outlinewidth\":0,\"ticks\":\"\"}}}],\"bar\":[{\"error_x\":{\"color\":\"#2a3f5f\"},\"error_y\":{\"color\":\"#2a3f5f\"},\"marker\":{\"line\":{\"color\":\"#E5ECF6\",\"width\":0.5},\"pattern\":{\"fillmode\":\"overlay\",\"size\":10,\"solidity\":0.2}},\"type\":\"bar\"}],\"scattergeo\":[{\"type\":\"scattergeo\",\"marker\":{\"colorbar\":{\"outlinewidth\":0,\"ticks\":\"\"}}}],\"scatterpolar\":[{\"type\":\"scatterpolar\",\"marker\":{\"colorbar\":{\"outlinewidth\":0,\"ticks\":\"\"}}}],\"histogram\":[{\"marker\":{\"pattern\":{\"fillmode\":\"overlay\",\"size\":10,\"solidity\":0.2}},\"type\":\"histogram\"}],\"scattergl\":[{\"type\":\"scattergl\",\"marker\":{\"colorbar\":{\"outlinewidth\":0,\"ticks\":\"\"}}}],\"scatter3d\":[{\"type\":\"scatter3d\",\"line\":{\"colorbar\":{\"outlinewidth\":0,\"ticks\":\"\"}},\"marker\":{\"colorbar\":{\"outlinewidth\":0,\"ticks\":\"\"}}}],\"scattermapbox\":[{\"type\":\"scattermapbox\",\"marker\":{\"colorbar\":{\"outlinewidth\":0,\"ticks\":\"\"}}}],\"scatterternary\":[{\"type\":\"scatterternary\",\"marker\":{\"colorbar\":{\"outlinewidth\":0,\"ticks\":\"\"}}}],\"scattercarpet\":[{\"type\":\"scattercarpet\",\"marker\":{\"colorbar\":{\"outlinewidth\":0,\"ticks\":\"\"}}}],\"carpet\":[{\"aaxis\":{\"endlinecolor\":\"#2a3f5f\",\"gridcolor\":\"white\",\"linecolor\":\"white\",\"minorgridcolor\":\"white\",\"startlinecolor\":\"#2a3f5f\"},\"baxis\":{\"endlinecolor\":\"#2a3f5f\",\"gridcolor\":\"white\",\"linecolor\":\"white\",\"minorgridcolor\":\"white\",\"startlinecolor\":\"#2a3f5f\"},\"type\":\"carpet\"}],\"table\":[{\"cells\":{\"fill\":{\"color\":\"#EBF0F8\"},\"line\":{\"color\":\"white\"}},\"header\":{\"fill\":{\"color\":\"#C8D4E3\"},\"line\":{\"color\":\"white\"}},\"type\":\"table\"}],\"barpolar\":[{\"marker\":{\"line\":{\"color\":\"#E5ECF6\",\"width\":0.5},\"pattern\":{\"fillmode\":\"overlay\",\"size\":10,\"solidity\":0.2}},\"type\":\"barpolar\"}],\"pie\":[{\"automargin\":true,\"type\":\"pie\"}]},\"layout\":{\"autotypenumbers\":\"strict\",\"colorway\":[\"#636efa\",\"#EF553B\",\"#00cc96\",\"#ab63fa\",\"#FFA15A\",\"#19d3f3\",\"#FF6692\",\"#B6E880\",\"#FF97FF\",\"#FECB52\"],\"font\":{\"color\":\"#2a3f5f\"},\"hovermode\":\"closest\",\"hoverlabel\":{\"align\":\"left\"},\"paper_bgcolor\":\"white\",\"plot_bgcolor\":\"#E5ECF6\",\"polar\":{\"bgcolor\":\"#E5ECF6\",\"angularaxis\":{\"gridcolor\":\"white\",\"linecolor\":\"white\",\"ticks\":\"\"},\"radialaxis\":{\"gridcolor\":\"white\",\"linecolor\":\"white\",\"ticks\":\"\"}},\"ternary\":{\"bgcolor\":\"#E5ECF6\",\"aaxis\":{\"gridcolor\":\"white\",\"linecolor\":\"white\",\"ticks\":\"\"},\"baxis\":{\"gridcolor\":\"white\",\"linecolor\":\"white\",\"ticks\":\"\"},\"caxis\":{\"gridcolor\":\"white\",\"linecolor\":\"white\",\"ticks\":\"\"}},\"coloraxis\":{\"colorbar\":{\"outlinewidth\":0,\"ticks\":\"\"}},\"colorscale\":{\"sequential\":[[0.0,\"#0d0887\"],[0.1111111111111111,\"#46039f\"],[0.2222222222222222,\"#7201a8\"],[0.3333333333333333,\"#9c179e\"],[0.4444444444444444,\"#bd3786\"],[0.5555555555555556,\"#d8576b\"],[0.6666666666666666,\"#ed7953\"],[0.7777777777777778,\"#fb9f3a\"],[0.8888888888888888,\"#fdca26\"],[1.0,\"#f0f921\"]],\"sequentialminus\":[[0.0,\"#0d0887\"],[0.1111111111111111,\"#46039f\"],[0.2222222222222222,\"#7201a8\"],[0.3333333333333333,\"#9c179e\"],[0.4444444444444444,\"#bd3786\"],[0.5555555555555556,\"#d8576b\"],[0.6666666666666666,\"#ed7953\"],[0.7777777777777778,\"#fb9f3a\"],[0.8888888888888888,\"#fdca26\"],[1.0,\"#f0f921\"]],\"diverging\":[[0,\"#8e0152\"],[0.1,\"#c51b7d\"],[0.2,\"#de77ae\"],[0.3,\"#f1b6da\"],[0.4,\"#fde0ef\"],[0.5,\"#f7f7f7\"],[0.6,\"#e6f5d0\"],[0.7,\"#b8e186\"],[0.8,\"#7fbc41\"],[0.9,\"#4d9221\"],[1,\"#276419\"]]},\"xaxis\":{\"gridcolor\":\"white\",\"linecolor\":\"white\",\"ticks\":\"\",\"title\":{\"standoff\":15},\"zerolinecolor\":\"white\",\"automargin\":true,\"zerolinewidth\":2},\"yaxis\":{\"gridcolor\":\"white\",\"linecolor\":\"white\",\"ticks\":\"\",\"title\":{\"standoff\":15},\"zerolinecolor\":\"white\",\"automargin\":true,\"zerolinewidth\":2},\"scene\":{\"xaxis\":{\"backgroundcolor\":\"#E5ECF6\",\"gridcolor\":\"white\",\"linecolor\":\"white\",\"showbackground\":true,\"ticks\":\"\",\"zerolinecolor\":\"white\",\"gridwidth\":2},\"yaxis\":{\"backgroundcolor\":\"#E5ECF6\",\"gridcolor\":\"white\",\"linecolor\":\"white\",\"showbackground\":true,\"ticks\":\"\",\"zerolinecolor\":\"white\",\"gridwidth\":2},\"zaxis\":{\"backgroundcolor\":\"#E5ECF6\",\"gridcolor\":\"white\",\"linecolor\":\"white\",\"showbackground\":true,\"ticks\":\"\",\"zerolinecolor\":\"white\",\"gridwidth\":2}},\"shapedefaults\":{\"line\":{\"color\":\"#2a3f5f\"}},\"annotationdefaults\":{\"arrowcolor\":\"#2a3f5f\",\"arrowhead\":0,\"arrowwidth\":1},\"geo\":{\"bgcolor\":\"white\",\"landcolor\":\"#E5ECF6\",\"subunitcolor\":\"white\",\"showland\":true,\"showlakes\":true,\"lakecolor\":\"white\"},\"title\":{\"x\":0.05},\"mapbox\":{\"style\":\"light\"}}},\"xaxis\":{\"title\":{\"text\":\"Epoch\"}},\"yaxis\":{\"title\":{\"text\":\"Start Position Accuracy\"}},\"title\":{\"text\":\"Evolution of Start Position Accuracy across Epochs\",\"font\":{\"size\":20},\"x\":0.5},\"height\":500,\"width\":1200},                        {\"responsive\": true}                    ).then(function(){\n",
              "                            \n",
              "var gd = document.getElementById('74608936-3872-42ea-8353-6c173023e33a');\n",
              "var x = new MutationObserver(function (mutations, observer) {{\n",
              "        var display = window.getComputedStyle(gd).display;\n",
              "        if (!display || display === 'none') {{\n",
              "            console.log([gd, 'removed!']);\n",
              "            Plotly.purge(gd);\n",
              "            observer.disconnect();\n",
              "        }}\n",
              "}});\n",
              "\n",
              "// Listen for the removal of the full notebook cells\n",
              "var notebookContainer = gd.closest('#notebook-container');\n",
              "if (notebookContainer) {{\n",
              "    x.observe(notebookContainer, {childList: true});\n",
              "}}\n",
              "\n",
              "// Listen for the clearing of the current output cell\n",
              "var outputEl = gd.closest('.output');\n",
              "if (outputEl) {{\n",
              "    x.observe(outputEl, {childList: true});\n",
              "}}\n",
              "\n",
              "                        })                };                            </script>        </div>\n",
              "</body>\n",
              "</html>"
            ]
          },
          "metadata": {}
        },
        {
          "output_type": "display_data",
          "data": {
            "text/html": [
              "<html>\n",
              "<head><meta charset=\"utf-8\" /></head>\n",
              "<body>\n",
              "    <div>            <script src=\"https://cdnjs.cloudflare.com/ajax/libs/mathjax/2.7.5/MathJax.js?config=TeX-AMS-MML_SVG\"></script><script type=\"text/javascript\">if (window.MathJax && window.MathJax.Hub && window.MathJax.Hub.Config) {window.MathJax.Hub.Config({SVG: {font: \"STIX-Web\"}});}</script>                <script type=\"text/javascript\">window.PlotlyConfig = {MathJaxConfig: 'local'};</script>\n",
              "        <script charset=\"utf-8\" src=\"https://cdn.plot.ly/plotly-2.24.1.min.js\"></script>                <div id=\"00c4d3de-a159-40ce-9bde-6ffbe0c78aa8\" class=\"plotly-graph-div\" style=\"height:500px; width:1200px;\"></div>            <script type=\"text/javascript\">                                    window.PLOTLYENV=window.PLOTLYENV || {};                                    if (document.getElementById(\"00c4d3de-a159-40ce-9bde-6ffbe0c78aa8\")) {                    Plotly.newPlot(                        \"00c4d3de-a159-40ce-9bde-6ffbe0c78aa8\",                        [{\"line\":{\"color\":\"blue\",\"width\":2},\"name\":\"End Position Accuracy\",\"x\":[1,2,3,4,5],\"y\":[0.7346830368041992,0.8158584237098694,0.8430296182632446,0.8741362690925598,0.8968647718429565],\"type\":\"scatter\"},{\"line\":{\"color\":\"#FF6600\",\"width\":2},\"name\":\"Val End Position Accuracy\",\"x\":[1,2,3,4,5],\"y\":[0.7733016610145569,0.7912814617156982,0.7990840673446655,0.7755915522575378,0.8015435338020325],\"type\":\"scatter\"}],                        {\"template\":{\"data\":{\"histogram2dcontour\":[{\"type\":\"histogram2dcontour\",\"colorbar\":{\"outlinewidth\":0,\"ticks\":\"\"},\"colorscale\":[[0.0,\"#0d0887\"],[0.1111111111111111,\"#46039f\"],[0.2222222222222222,\"#7201a8\"],[0.3333333333333333,\"#9c179e\"],[0.4444444444444444,\"#bd3786\"],[0.5555555555555556,\"#d8576b\"],[0.6666666666666666,\"#ed7953\"],[0.7777777777777778,\"#fb9f3a\"],[0.8888888888888888,\"#fdca26\"],[1.0,\"#f0f921\"]]}],\"choropleth\":[{\"type\":\"choropleth\",\"colorbar\":{\"outlinewidth\":0,\"ticks\":\"\"}}],\"histogram2d\":[{\"type\":\"histogram2d\",\"colorbar\":{\"outlinewidth\":0,\"ticks\":\"\"},\"colorscale\":[[0.0,\"#0d0887\"],[0.1111111111111111,\"#46039f\"],[0.2222222222222222,\"#7201a8\"],[0.3333333333333333,\"#9c179e\"],[0.4444444444444444,\"#bd3786\"],[0.5555555555555556,\"#d8576b\"],[0.6666666666666666,\"#ed7953\"],[0.7777777777777778,\"#fb9f3a\"],[0.8888888888888888,\"#fdca26\"],[1.0,\"#f0f921\"]]}],\"heatmap\":[{\"type\":\"heatmap\",\"colorbar\":{\"outlinewidth\":0,\"ticks\":\"\"},\"colorscale\":[[0.0,\"#0d0887\"],[0.1111111111111111,\"#46039f\"],[0.2222222222222222,\"#7201a8\"],[0.3333333333333333,\"#9c179e\"],[0.4444444444444444,\"#bd3786\"],[0.5555555555555556,\"#d8576b\"],[0.6666666666666666,\"#ed7953\"],[0.7777777777777778,\"#fb9f3a\"],[0.8888888888888888,\"#fdca26\"],[1.0,\"#f0f921\"]]}],\"heatmapgl\":[{\"type\":\"heatmapgl\",\"colorbar\":{\"outlinewidth\":0,\"ticks\":\"\"},\"colorscale\":[[0.0,\"#0d0887\"],[0.1111111111111111,\"#46039f\"],[0.2222222222222222,\"#7201a8\"],[0.3333333333333333,\"#9c179e\"],[0.4444444444444444,\"#bd3786\"],[0.5555555555555556,\"#d8576b\"],[0.6666666666666666,\"#ed7953\"],[0.7777777777777778,\"#fb9f3a\"],[0.8888888888888888,\"#fdca26\"],[1.0,\"#f0f921\"]]}],\"contourcarpet\":[{\"type\":\"contourcarpet\",\"colorbar\":{\"outlinewidth\":0,\"ticks\":\"\"}}],\"contour\":[{\"type\":\"contour\",\"colorbar\":{\"outlinewidth\":0,\"ticks\":\"\"},\"colorscale\":[[0.0,\"#0d0887\"],[0.1111111111111111,\"#46039f\"],[0.2222222222222222,\"#7201a8\"],[0.3333333333333333,\"#9c179e\"],[0.4444444444444444,\"#bd3786\"],[0.5555555555555556,\"#d8576b\"],[0.6666666666666666,\"#ed7953\"],[0.7777777777777778,\"#fb9f3a\"],[0.8888888888888888,\"#fdca26\"],[1.0,\"#f0f921\"]]}],\"surface\":[{\"type\":\"surface\",\"colorbar\":{\"outlinewidth\":0,\"ticks\":\"\"},\"colorscale\":[[0.0,\"#0d0887\"],[0.1111111111111111,\"#46039f\"],[0.2222222222222222,\"#7201a8\"],[0.3333333333333333,\"#9c179e\"],[0.4444444444444444,\"#bd3786\"],[0.5555555555555556,\"#d8576b\"],[0.6666666666666666,\"#ed7953\"],[0.7777777777777778,\"#fb9f3a\"],[0.8888888888888888,\"#fdca26\"],[1.0,\"#f0f921\"]]}],\"mesh3d\":[{\"type\":\"mesh3d\",\"colorbar\":{\"outlinewidth\":0,\"ticks\":\"\"}}],\"scatter\":[{\"fillpattern\":{\"fillmode\":\"overlay\",\"size\":10,\"solidity\":0.2},\"type\":\"scatter\"}],\"parcoords\":[{\"type\":\"parcoords\",\"line\":{\"colorbar\":{\"outlinewidth\":0,\"ticks\":\"\"}}}],\"scatterpolargl\":[{\"type\":\"scatterpolargl\",\"marker\":{\"colorbar\":{\"outlinewidth\":0,\"ticks\":\"\"}}}],\"bar\":[{\"error_x\":{\"color\":\"#2a3f5f\"},\"error_y\":{\"color\":\"#2a3f5f\"},\"marker\":{\"line\":{\"color\":\"#E5ECF6\",\"width\":0.5},\"pattern\":{\"fillmode\":\"overlay\",\"size\":10,\"solidity\":0.2}},\"type\":\"bar\"}],\"scattergeo\":[{\"type\":\"scattergeo\",\"marker\":{\"colorbar\":{\"outlinewidth\":0,\"ticks\":\"\"}}}],\"scatterpolar\":[{\"type\":\"scatterpolar\",\"marker\":{\"colorbar\":{\"outlinewidth\":0,\"ticks\":\"\"}}}],\"histogram\":[{\"marker\":{\"pattern\":{\"fillmode\":\"overlay\",\"size\":10,\"solidity\":0.2}},\"type\":\"histogram\"}],\"scattergl\":[{\"type\":\"scattergl\",\"marker\":{\"colorbar\":{\"outlinewidth\":0,\"ticks\":\"\"}}}],\"scatter3d\":[{\"type\":\"scatter3d\",\"line\":{\"colorbar\":{\"outlinewidth\":0,\"ticks\":\"\"}},\"marker\":{\"colorbar\":{\"outlinewidth\":0,\"ticks\":\"\"}}}],\"scattermapbox\":[{\"type\":\"scattermapbox\",\"marker\":{\"colorbar\":{\"outlinewidth\":0,\"ticks\":\"\"}}}],\"scatterternary\":[{\"type\":\"scatterternary\",\"marker\":{\"colorbar\":{\"outlinewidth\":0,\"ticks\":\"\"}}}],\"scattercarpet\":[{\"type\":\"scattercarpet\",\"marker\":{\"colorbar\":{\"outlinewidth\":0,\"ticks\":\"\"}}}],\"carpet\":[{\"aaxis\":{\"endlinecolor\":\"#2a3f5f\",\"gridcolor\":\"white\",\"linecolor\":\"white\",\"minorgridcolor\":\"white\",\"startlinecolor\":\"#2a3f5f\"},\"baxis\":{\"endlinecolor\":\"#2a3f5f\",\"gridcolor\":\"white\",\"linecolor\":\"white\",\"minorgridcolor\":\"white\",\"startlinecolor\":\"#2a3f5f\"},\"type\":\"carpet\"}],\"table\":[{\"cells\":{\"fill\":{\"color\":\"#EBF0F8\"},\"line\":{\"color\":\"white\"}},\"header\":{\"fill\":{\"color\":\"#C8D4E3\"},\"line\":{\"color\":\"white\"}},\"type\":\"table\"}],\"barpolar\":[{\"marker\":{\"line\":{\"color\":\"#E5ECF6\",\"width\":0.5},\"pattern\":{\"fillmode\":\"overlay\",\"size\":10,\"solidity\":0.2}},\"type\":\"barpolar\"}],\"pie\":[{\"automargin\":true,\"type\":\"pie\"}]},\"layout\":{\"autotypenumbers\":\"strict\",\"colorway\":[\"#636efa\",\"#EF553B\",\"#00cc96\",\"#ab63fa\",\"#FFA15A\",\"#19d3f3\",\"#FF6692\",\"#B6E880\",\"#FF97FF\",\"#FECB52\"],\"font\":{\"color\":\"#2a3f5f\"},\"hovermode\":\"closest\",\"hoverlabel\":{\"align\":\"left\"},\"paper_bgcolor\":\"white\",\"plot_bgcolor\":\"#E5ECF6\",\"polar\":{\"bgcolor\":\"#E5ECF6\",\"angularaxis\":{\"gridcolor\":\"white\",\"linecolor\":\"white\",\"ticks\":\"\"},\"radialaxis\":{\"gridcolor\":\"white\",\"linecolor\":\"white\",\"ticks\":\"\"}},\"ternary\":{\"bgcolor\":\"#E5ECF6\",\"aaxis\":{\"gridcolor\":\"white\",\"linecolor\":\"white\",\"ticks\":\"\"},\"baxis\":{\"gridcolor\":\"white\",\"linecolor\":\"white\",\"ticks\":\"\"},\"caxis\":{\"gridcolor\":\"white\",\"linecolor\":\"white\",\"ticks\":\"\"}},\"coloraxis\":{\"colorbar\":{\"outlinewidth\":0,\"ticks\":\"\"}},\"colorscale\":{\"sequential\":[[0.0,\"#0d0887\"],[0.1111111111111111,\"#46039f\"],[0.2222222222222222,\"#7201a8\"],[0.3333333333333333,\"#9c179e\"],[0.4444444444444444,\"#bd3786\"],[0.5555555555555556,\"#d8576b\"],[0.6666666666666666,\"#ed7953\"],[0.7777777777777778,\"#fb9f3a\"],[0.8888888888888888,\"#fdca26\"],[1.0,\"#f0f921\"]],\"sequentialminus\":[[0.0,\"#0d0887\"],[0.1111111111111111,\"#46039f\"],[0.2222222222222222,\"#7201a8\"],[0.3333333333333333,\"#9c179e\"],[0.4444444444444444,\"#bd3786\"],[0.5555555555555556,\"#d8576b\"],[0.6666666666666666,\"#ed7953\"],[0.7777777777777778,\"#fb9f3a\"],[0.8888888888888888,\"#fdca26\"],[1.0,\"#f0f921\"]],\"diverging\":[[0,\"#8e0152\"],[0.1,\"#c51b7d\"],[0.2,\"#de77ae\"],[0.3,\"#f1b6da\"],[0.4,\"#fde0ef\"],[0.5,\"#f7f7f7\"],[0.6,\"#e6f5d0\"],[0.7,\"#b8e186\"],[0.8,\"#7fbc41\"],[0.9,\"#4d9221\"],[1,\"#276419\"]]},\"xaxis\":{\"gridcolor\":\"white\",\"linecolor\":\"white\",\"ticks\":\"\",\"title\":{\"standoff\":15},\"zerolinecolor\":\"white\",\"automargin\":true,\"zerolinewidth\":2},\"yaxis\":{\"gridcolor\":\"white\",\"linecolor\":\"white\",\"ticks\":\"\",\"title\":{\"standoff\":15},\"zerolinecolor\":\"white\",\"automargin\":true,\"zerolinewidth\":2},\"scene\":{\"xaxis\":{\"backgroundcolor\":\"#E5ECF6\",\"gridcolor\":\"white\",\"linecolor\":\"white\",\"showbackground\":true,\"ticks\":\"\",\"zerolinecolor\":\"white\",\"gridwidth\":2},\"yaxis\":{\"backgroundcolor\":\"#E5ECF6\",\"gridcolor\":\"white\",\"linecolor\":\"white\",\"showbackground\":true,\"ticks\":\"\",\"zerolinecolor\":\"white\",\"gridwidth\":2},\"zaxis\":{\"backgroundcolor\":\"#E5ECF6\",\"gridcolor\":\"white\",\"linecolor\":\"white\",\"showbackground\":true,\"ticks\":\"\",\"zerolinecolor\":\"white\",\"gridwidth\":2}},\"shapedefaults\":{\"line\":{\"color\":\"#2a3f5f\"}},\"annotationdefaults\":{\"arrowcolor\":\"#2a3f5f\",\"arrowhead\":0,\"arrowwidth\":1},\"geo\":{\"bgcolor\":\"white\",\"landcolor\":\"#E5ECF6\",\"subunitcolor\":\"white\",\"showland\":true,\"showlakes\":true,\"lakecolor\":\"white\"},\"title\":{\"x\":0.05},\"mapbox\":{\"style\":\"light\"}}},\"xaxis\":{\"title\":{\"text\":\"Epoch\"}},\"yaxis\":{\"title\":{\"text\":\"End Position Accuracy\"}},\"title\":{\"text\":\"Evolution of End Position Accuracy across Epochs\",\"font\":{\"size\":20},\"x\":0.5},\"height\":500,\"width\":1200},                        {\"responsive\": true}                    ).then(function(){\n",
              "                            \n",
              "var gd = document.getElementById('00c4d3de-a159-40ce-9bde-6ffbe0c78aa8');\n",
              "var x = new MutationObserver(function (mutations, observer) {{\n",
              "        var display = window.getComputedStyle(gd).display;\n",
              "        if (!display || display === 'none') {{\n",
              "            console.log([gd, 'removed!']);\n",
              "            Plotly.purge(gd);\n",
              "            observer.disconnect();\n",
              "        }}\n",
              "}});\n",
              "\n",
              "// Listen for the removal of the full notebook cells\n",
              "var notebookContainer = gd.closest('#notebook-container');\n",
              "if (notebookContainer) {{\n",
              "    x.observe(notebookContainer, {childList: true});\n",
              "}}\n",
              "\n",
              "// Listen for the clearing of the current output cell\n",
              "var outputEl = gd.closest('.output');\n",
              "if (outputEl) {{\n",
              "    x.observe(outputEl, {childList: true});\n",
              "}}\n",
              "\n",
              "                        })                };                            </script>        </div>\n",
              "</body>\n",
              "</html>"
            ]
          },
          "metadata": {}
        }
      ],
      "source": [
        "plot_metrics()\n",
        "plot_metrics(metric=\"start_position_accuracy\")\n",
        "plot_metrics(metric=\"end_position_accuracy\")"
      ]
    },
    {
      "cell_type": "markdown",
      "metadata": {
        "id": "3ZxQzcbFuUaF"
      },
      "source": [
        "**Images for GitHub**"
      ]
    },
    {
      "cell_type": "code",
      "execution_count": null,
      "metadata": {
        "colab": {
          "base_uri": "https://localhost:8080/",
          "height": 1000
        },
        "id": "jU2ln7oba0bo",
        "outputId": "3f1c370b-bad6-4bcf-9e21-7e6cefb587fe",
        "collapsed": true
      },
      "outputs": [
        {
          "output_type": "display_data",
          "data": {
            "image/png": "[encoded data removed]"
          },
          "metadata": {}
        },
        {
          "output_type": "display_data",
          "data": {
            "image/png": "[encoded data removed]"
          },
          "metadata": {}
        },
        {
          "output_type": "display_data",
          "data": {
            "image/png": "[encoded data removed]"
          },
          "metadata": {}
        }
      ],
      "source": [
        "plot_metrics(renderer=\"png\")\n",
        "plot_metrics(metric=\"start_position_accuracy\", renderer=\"png\")\n",
        "plot_metrics(metric=\"end_position_accuracy\", renderer=\"png\")"
      ]
    },
    {
      "cell_type": "markdown",
      "metadata": {
        "id": "jllbQDOZfwos"
      },
      "source": [
        "### **With the official metrics for SQuAD_v2**"
      ]
    },
    {
      "cell_type": "code",
      "execution_count": null,
      "metadata": {
        "colab": {
          "base_uri": "https://localhost:8080/"
        },
        "id": "H17zNwTBOYZb",
        "outputId": "eac5deb8-0f38-4555-9914-d2837c06b19d"
      },
      "outputs": [
        {
          "output_type": "stream",
          "name": "stdout",
          "text": [
            "185/185 [==============================] - 112s 608ms/step\n"
          ]
        }
      ],
      "source": [
        "# Calculate the logits and load the saved evaluation dataset\n",
        "\n",
        "logits = model.predict(val_dataset)\n",
        "val_dataset_eval = load_from_disk(\"/content/drive/MyDrive/Datasets/val_dataset_squad_v2_roberta\")\n",
        "n_best_size = 10"
      ]
    },
    {
      "cell_type": "markdown",
      "metadata": {
        "id": "MShV32e4iYxQ"
      },
      "source": [
        "**Function to predict answers accurately for evaluation**"
      ]
    },
    {
      "cell_type": "code",
      "execution_count": null,
      "metadata": {
        "id": "HSuhUTX86Suq"
      },
      "outputs": [],
      "source": [
        "def find_predictions(start_logits, end_logits, input_ids, offset, context, n_best_size):\n",
        "  # Find the top n indices for start and end positions for the answers\n",
        "  start_indexes = np.argsort(start_logits)[-1 : -n_best_size - 1 : -1]\n",
        "  end_indexes = np.argsort(end_logits)[-1 : -n_best_size - 1 : -1]\n",
        "\n",
        "  valid_indexes = []\n",
        "  # Find all indices of separation tokens in 'input_ids'\n",
        "  sep_indexes = [i for i, index in enumerate(input_ids) if index == tokenizer.sep_token_id]\n",
        "\n",
        "  for start_index in start_indexes:\n",
        "    for end_index in end_indexes:\n",
        "      # Consider only valid answers that are found within the context\n",
        "      condition = (start_index <= end_index) and (start_index > sep_indexes[1]) and (end_index < sep_indexes[2])\n",
        "\n",
        "      # Also, consider only the answers that have the start and end token as 0\n",
        "      if (start_index == 0 and end_index == 0) or condition:\n",
        "        start_char = offset[start_index][0]\n",
        "        end_char = offset[end_index][1]\n",
        "\n",
        "        valid_indexes.append({\n",
        "            \"score\": start_logits[start_index] + end_logits[end_index],\n",
        "            \"predicted_answer\": context[start_char: end_char],\n",
        "            \"start_position\": start_char,\n",
        "            \"end_position\": end_char\n",
        "        })\n",
        "\n",
        "  if len(valid_indexes) > 0:\n",
        "    valid_indexes = sorted(valid_indexes, key=lambda x: x[\"score\"], reverse=True)[:n_best_size]\n",
        "  else:\n",
        "    # Edge case where there are no valid answers within the top n logits\n",
        "    valid_indexes = [{\n",
        "        \"score\": 0.0,\n",
        "        \"predicted_answer\": \"\",\n",
        "        \"start_position\": 0,\n",
        "        \"end_position\": 0\n",
        "    }]\n",
        "\n",
        "  return valid_indexes"
      ]
    },
    {
      "cell_type": "markdown",
      "source": [
        "**Prediction Examples**"
      ],
      "metadata": {
        "id": "Jo-K-8uVaflw"
      }
    },
    {
      "cell_type": "code",
      "source": [
        "# Answered question\n",
        "id = 0\n",
        "preds = find_predictions(\n",
        "    logits[0][id],\n",
        "    logits[1][id],\n",
        "    val_dataset_eval[\"input_ids\"][id],\n",
        "    val_dataset_eval[\"offset_mapping\"][id],\n",
        "    val_dataset_eval[\"context\"][id],\n",
        "    n_best_size=5\n",
        ")\n",
        "\n",
        "print(\"Context:\\n\", textwrap.fill(val_dataset_eval[\"context\"][id], width=100), \"\\n\")\n",
        "print(\"Question:\\n\", val_dataset_eval[\"question\"][id], \"\\n\")\n",
        "print(\"Prediction:\\n\", preds, \"\\n\")\n",
        "\n",
        "print(f'Answers:\\n{val_dataset_eval[\"answers\"][id][\"text\"]}')"
      ],
      "metadata": {
        "id": "tGmxftcAasMp",
        "colab": {
          "base_uri": "https://localhost:8080/"
        },
        "outputId": "5040dd6e-ed15-4275-8b95-5a4cb2b82288"
      },
      "execution_count": null,
      "outputs": [
        {
          "output_type": "stream",
          "name": "stdout",
          "text": [
            "Context:\n",
            " The Normans (Norman: Nourmands; French: Normands; Latin: Normanni) were the people who in the 10th\n",
            "and 11th centuries gave their name to Normandy, a region in France. They were descended from Norse\n",
            "(\"Norman\" comes from \"Norseman\") raiders and pirates from Denmark, Iceland and Norway who, under\n",
            "their leader Rollo, agreed to swear fealty to King Charles III of West Francia. Through generations\n",
            "of assimilation and mixing with the native Frankish and Roman-Gaulish populations, their descendants\n",
            "would gradually merge with the Carolingian-based cultures of West Francia. The distinct cultural and\n",
            "ethnic identity of the Normans emerged initially in the first half of the 10th century, and it\n",
            "continued to evolve over the succeeding centuries. \n",
            "\n",
            "Question:\n",
            " In what country is Normandy located? \n",
            "\n",
            "Prediction:\n",
            " [{'score': 11.674754, 'predicted_answer': 'France', 'start_position': 159, 'end_position': 165}, {'score': 3.3062587, 'predicted_answer': 'in France', 'start_position': 156, 'end_position': 165}, {'score': 2.0836163, 'predicted_answer': 'region in France', 'start_position': 149, 'end_position': 165}, {'score': 1.8720493, 'predicted_answer': 'French: Normands; Latin: Normanni) were the people who in the 10th and 11th centuries gave their name to Normandy, a region in France', 'start_position': 32, 'end_position': 165}, {'score': 1.3808553, 'predicted_answer': 'France. They were descended from Norse (\"Norman\" comes from \"Norseman\") raiders and pirates from Denmark, Iceland and Norway who, under their leader Rollo,', 'start_position': 159, 'end_position': 314}] \n",
            "\n",
            "Answers:\n",
            "['France', 'France', 'France', 'France']\n"
          ]
        }
      ]
    },
    {
      "cell_type": "code",
      "execution_count": null,
      "metadata": {
        "colab": {
          "base_uri": "https://localhost:8080/"
        },
        "id": "fOSbKHmDPMQH",
        "outputId": "d5fb7c61-00ad-4334-9442-e820eddf3f4d"
      },
      "outputs": [
        {
          "output_type": "stream",
          "name": "stdout",
          "text": [
            "Context:\n",
            " In 1066, Duke William II of Normandy conquered England killing King Harold II at the Battle of\n",
            "Hastings. The invading Normans and their descendants replaced the Anglo-Saxons as the ruling class\n",
            "of England. The nobility of England were part of a single Normans culture and many had lands on both\n",
            "sides of the channel. Early Norman kings of England, as Dukes of Normandy, owed homage to the King\n",
            "of France for their land on the continent. They considered England to be their most important\n",
            "holding (it brought with it the title of King—an important status symbol). \n",
            "\n",
            "Question:\n",
            " Who replaced the Normans as the ruling class? \n",
            "\n",
            "Prediction:\n",
            " [{'score': 9.741699, 'predicted_answer': '', 'start_position': 0, 'end_position': 0}, {'score': -3.2834597, 'predicted_answer': 'Anglo-Saxons', 'start_position': 161, 'end_position': 173}, {'score': -4.9151425, 'predicted_answer': 'the Anglo-Saxons', 'start_position': 157, 'end_position': 173}, {'score': -6.973183, 'predicted_answer': 'Normans and their descendants replaced the Anglo-Saxons', 'start_position': 118, 'end_position': 173}, {'score': -7.0906067, 'predicted_answer': 'Anglo', 'start_position': 161, 'end_position': 166}] \n",
            "\n",
            "Answers:\n",
            "[]\n"
          ]
        }
      ],
      "source": [
        "# Unanswered question\n",
        "id = 101\n",
        "preds = find_predictions(\n",
        "    logits[0][id],\n",
        "    logits[1][id],\n",
        "    val_dataset_eval[\"input_ids\"][id],\n",
        "    val_dataset_eval[\"offset_mapping\"][id],\n",
        "    val_dataset_eval[\"context\"][id],\n",
        "    n_best_size=5\n",
        ")\n",
        "\n",
        "print(\"Context:\\n\", textwrap.fill(val_dataset_eval[\"context\"][id], width=100), \"\\n\")\n",
        "print(\"Question:\\n\", val_dataset_eval[\"question\"][id], \"\\n\")\n",
        "print(\"Prediction:\\n\", preds, \"\\n\")\n",
        "\n",
        "print(f'Answers:\\n{val_dataset_eval[\"answers\"][id][\"text\"]}')"
      ]
    },
    {
      "cell_type": "markdown",
      "metadata": {
        "id": "wgfOA7Tatv1U"
      },
      "source": [
        "**Prepare the evaluation dataset to calculate the SQuAD 2.0 metrics**"
      ]
    },
    {
      "cell_type": "code",
      "execution_count": null,
      "metadata": {
        "id": "4uyn5luqaXe-"
      },
      "outputs": [],
      "source": [
        "def prepare_for_evaluation(logits, dataset, n_best_size=n_best_size):\n",
        "  start_logits = logits[0]\n",
        "  end_logits = logits[1]\n",
        "\n",
        "  input_ids = dataset[\"input_ids\"]\n",
        "  offsets = dataset[\"offset_mapping\"]\n",
        "  contexts = dataset[\"context\"]\n",
        "  answers = dataset[\"answers\"]\n",
        "  ids = dataset[\"id\"]\n",
        "\n",
        "  predictions, references = [], []\n",
        "\n",
        "  for i in tqdm(range(len(dataset))):\n",
        "    prediction = find_predictions(\n",
        "        start_logits[i],\n",
        "        end_logits[i],\n",
        "        input_ids[i],\n",
        "        offsets[i],\n",
        "        contexts[i],\n",
        "        n_best_size=n_best_size\n",
        "    )[0]\n",
        "\n",
        "    predictions.append({\n",
        "        \"prediction_text\": prediction[\"predicted_answer\"],\n",
        "        \"id\": ids[i],\n",
        "        \"no_answer_probability\": 0. #This is already included in the score, so they are all 0.0\n",
        "    })\n",
        "\n",
        "    references.append({\n",
        "        \"answers\": answers[i],\n",
        "        \"id\": ids[i]\n",
        "    })\n",
        "\n",
        "  return predictions, references"
      ]
    },
    {
      "cell_type": "code",
      "execution_count": null,
      "metadata": {
        "colab": {
          "base_uri": "https://localhost:8080/",
          "height": 49,
          "referenced_widgets": [
            "00699571e5de46d896d131ccc09fcc8b",
            "3bf026715d4e49e8a3c38143c87c2fcf",
            "70480f4d108d484c8273cc5842a57a7d",
            "146f92aeacdb47e58e41095a2511dbde",
            "037e7760c25b4a7cb9a815699332adb8",
            "1da07fc2f0704062bdf0bed5a05e3cb0",
            "7ca0514fd469438ba5aa518808d4acd2",
            "2e4cf80f5c2940f5a2004cec23606dcd",
            "5d1bb186618c46d9b0f1c7d5e761ab12",
            "e1a4c94f178a4579b39e275af045b464",
            "31283edeab8241149a3f83571416f46a"
          ]
        },
        "id": "_Gyv0DXzgwSd",
        "outputId": "f8e2fd28-52fd-4faa-a5bd-aa8fdb86d792"
      },
      "outputs": [
        {
          "output_type": "display_data",
          "data": {
            "text/plain": [
              "  0%|          | 0/11791 [00:00<?, ?it/s]"
            ],
            "application/vnd.jupyter.widget-view+json": {
              "version_major": 2,
              "version_minor": 0,
              "model_id": "00699571e5de46d896d131ccc09fcc8b"
            }
          },
          "metadata": {}
        }
      ],
      "source": [
        "predictions, references = prepare_for_evaluation(logits, val_dataset_eval)"
      ]
    },
    {
      "cell_type": "code",
      "execution_count": null,
      "metadata": {
        "colab": {
          "base_uri": "https://localhost:8080/"
        },
        "id": "_ChVrDi0MfJI",
        "outputId": "b7ee0381-1958-4b33-d813-c21224349fac"
      },
      "outputs": [
        {
          "output_type": "execute_result",
          "data": {
            "text/plain": [
              "Metric(name: \"squad_v2\", features: {'predictions': {'id': Value(dtype='string', id=None), 'prediction_text': Value(dtype='string', id=None), 'no_answer_probability': Value(dtype='float32', id=None)}, 'references': {'id': Value(dtype='string', id=None), 'answers': Sequence(feature={'text': Value(dtype='string', id=None), 'answer_start': Value(dtype='int32', id=None)}, length=-1, id=None)}}, usage: \"\"\"\n",
              "Computes SQuAD v2 scores (F1 and EM).\n",
              "Args:\n",
              "    predictions: List of triple for question-answers to score with the following elements:\n",
              "        - the question-answer 'id' field as given in the references (see below)\n",
              "        - the text of the answer\n",
              "        - the probability that the question has no answer\n",
              "    references: List of question-answers dictionaries with the following key-values:\n",
              "            - 'id': id of the question-answer pair (see above),\n",
              "            - 'answers': a list of Dict {'text': text of the answer as a string}\n",
              "    no_answer_threshold: float\n",
              "        Probability threshold to decide that a question has no answer.\n",
              "Returns:\n",
              "    'exact': Exact match (the normalized answer exactly match the gold answer)\n",
              "    'f1': The F-score of predicted tokens versus the gold answer\n",
              "    'total': Number of score considered\n",
              "    'HasAns_exact': Exact match (the normalized answer exactly match the gold answer)\n",
              "    'HasAns_f1': The F-score of predicted tokens versus the gold answer\n",
              "    'HasAns_total': Number of score considered\n",
              "    'NoAns_exact': Exact match (the normalized answer exactly match the gold answer)\n",
              "    'NoAns_f1': The F-score of predicted tokens versus the gold answer\n",
              "    'NoAns_total': Number of score considered\n",
              "    'best_exact': Best exact match (with varying threshold)\n",
              "    'best_exact_thresh': No-answer probability threshold associated to the best exact match\n",
              "    'best_f1': Best F1 (with varying threshold)\n",
              "    'best_f1_thresh': No-answer probability threshold associated to the best F1\n",
              "Examples:\n",
              "\n",
              "    >>> predictions = [{'prediction_text': '1976', 'id': '56e10a3be3433e1400422b22', 'no_answer_probability': 0.}]\n",
              "    >>> references = [{'answers': {'answer_start': [97], 'text': ['1976']}, 'id': '56e10a3be3433e1400422b22'}]\n",
              "    >>> squad_v2_metric = datasets.load_metric(\"squad_v2\")\n",
              "    >>> results = squad_v2_metric.compute(predictions=predictions, references=references)\n",
              "    >>> print(results)\n",
              "    {'exact': 100.0, 'f1': 100.0, 'total': 1, 'HasAns_exact': 100.0, 'HasAns_f1': 100.0, 'HasAns_total': 1, 'best_exact': 100.0, 'best_exact_thresh': 0.0, 'best_f1': 100.0, 'best_f1_thresh': 0.0}\n",
              "\"\"\", stored examples: 0)"
            ]
          },
          "metadata": {},
          "execution_count": 31
        }
      ],
      "source": [
        "# Load the evaluation metric\n",
        "metric = load_metric(\"squad_v2\")\n",
        "metric"
      ]
    },
    {
      "cell_type": "code",
      "source": [
        "metric.compute(predictions=predictions, references=references)"
      ],
      "metadata": {
        "colab": {
          "base_uri": "https://localhost:8080/"
        },
        "id": "CQg3w_brM9r-",
        "outputId": "f95c61a8-50fc-4fcd-c942-8a2ea0baae23"
      },
      "execution_count": null,
      "outputs": [
        {
          "output_type": "execute_result",
          "data": {
            "text/plain": [
              "{'exact': 84.6408277499788,\n",
              " 'f1': 87.67808338546817,\n",
              " 'total': 11791,\n",
              " 'HasAns_exact': 81.76260825267448,\n",
              " 'HasAns_f1': 87.84382428223057,\n",
              " 'HasAns_total': 5889,\n",
              " 'NoAns_exact': 87.51270755676042,\n",
              " 'NoAns_f1': 87.51270755676042,\n",
              " 'NoAns_total': 5902,\n",
              " 'best_exact': 84.6408277499788,\n",
              " 'best_exact_thresh': 0.0,\n",
              " 'best_f1': 87.67808338546797,\n",
              " 'best_f1_thresh': 0.0}"
            ]
          },
          "metadata": {},
          "execution_count": 32
        }
      ]
    },
    {
      "cell_type": "markdown",
      "metadata": {
        "id": "yZ7P84aCrNKS"
      },
      "source": [
        "The conventional accuracy for the start and end positions of the answer tokens in the evaluation dataset are **78.91%** and **79.91%**, respectively. These figures are useful during training to assess the model's ability to identify answer boundaries. However, the official SQuAD 2.0 metrics, such as Exact Match and F1 Score, provide a more comprehensive and accurate evaluation of the model's performance in question answering.\n",
        "\n",
        "The RoBERTa Large model has demonstrated exceptional performance on the SQuAD 2.0 dataset. The high values obtained, with an **Exact Match** of **84.64%** and an **F1 Score** of **87.68%**, indicate that the model can predict answers with high precision and comprehensiveness, even when questions have no answers. Although these results are lower compared to the [fine-tuned SQuAD model](https://github.com/JersonGB22/QuestionAnswering-TensorFlow/tree/main/Models_AnsweredQuestions/ExtractiveQA_RoBERTa_SQuAD.ipynb) (**Exact Match** of **88.12%** and an **F1 Score** of **94.07%**), this is due to the more challenging nature of the SQuAD 2.0 dataset, which includes unanswerable questions. Therefore, the model is more complete and robust. These results reflect the model's ability to generate answers that exactly match the correct answers, capture the majority of relevant information in its predictions, and determine when a question has no answer in a given context."
      ]
    },
    {
      "cell_type": "markdown",
      "metadata": {
        "id": "9NhEDFT-uiav"
      },
      "source": [
        "## **Predictions with the Trained Model**"
      ]
    },
    {
      "cell_type": "code",
      "execution_count": null,
      "metadata": {
        "colab": {
          "base_uri": "https://localhost:8080/"
        },
        "id": "KWo6Im5NNN1e",
        "outputId": "e1339a52-f377-4f14-e398-7c913cdfa455"
      },
      "outputs": [
        {
          "output_type": "stream",
          "name": "stderr",
          "text": [
            "All model checkpoint layers were used when initializing TFRobertaForQuestionAnswering.\n",
            "\n",
            "All the layers of TFRobertaForQuestionAnswering were initialized from the model checkpoint at /content/drive/MyDrive/models/ExtractiveQA_RoBERTa_SQuAD_v2.\n",
            "If your task is similar to the task the model of the checkpoint was trained on, you can already use TFRobertaForQuestionAnswering for predictions without further training.\n"
          ]
        }
      ],
      "source": [
        "# Load the trained model and the evaluation dataset\n",
        "model = TFAutoModelForQuestionAnswering.from_pretrained(trained_model_path)\n",
        "val_dataset= load_from_disk(\"/content/drive/MyDrive/Datasets/val_dataset_squad_v2_roberta\")"
      ]
    },
    {
      "cell_type": "markdown",
      "metadata": {
        "id": "G64pQpxqJbd5"
      },
      "source": [
        "**Function to Predict Answers with HTML Format**"
      ]
    },
    {
      "cell_type": "code",
      "execution_count": null,
      "metadata": {
        "id": "Gt0xs_vIyaFe"
      },
      "outputs": [],
      "source": [
        "def predict_answer(contexts, questions=None, answers=None, n_best_size=10):\n",
        "  if (questions is not None) and (answers is not None):\n",
        "    indice = np.random.choice(len(contexts))\n",
        "    context = contexts[indice]\n",
        "    question = questions[indice]\n",
        "    answer = answers[indice]\n",
        "\n",
        "    tokenized_example = tokenizer(\n",
        "        question,\n",
        "        context,\n",
        "        padding=\"max_length\",\n",
        "        max_length=max_length,\n",
        "        truncation=\"only_second\",\n",
        "        return_offsets_mapping=True,\n",
        "        return_tensors=\"tf\"\n",
        "    )\n",
        "\n",
        "    logits = model(tokenized_example[\"input_ids\"], tokenized_example[\"attention_mask\"])\n",
        "    prediction = find_predictions(\n",
        "        logits.start_logits[0].numpy(),\n",
        "        logits.end_logits[0].numpy(),\n",
        "        tokenized_example[\"input_ids\"][0].numpy(),\n",
        "        tokenized_example[\"offset_mapping\"][0].numpy(),\n",
        "        context,\n",
        "        n_best_size\n",
        "    )[0]\n",
        "\n",
        "    pred_answer = prediction[\"predicted_answer\"] if prediction[\"predicted_answer\"] != \"\"  else \"No Answer\"\n",
        "    start_char = prediction[\"start_position\"]\n",
        "    end_char = prediction[\"end_position\"]\n",
        "    context = f\"{context[:start_char]}<span style='background-color: yellow;'>{context[start_char:end_char]}</span>{context[end_char:]}\"\n",
        "\n",
        "    display(HTML(f\"\"\"\n",
        "    <b>Context:</b><br>{context}<br><br>\n",
        "    <b>Question: </b>{question}<br><br>\n",
        "    <b>Predicted Answer: </b>{pred_answer}<br>\n",
        "    <b>Score: </b>{prediction['score']}<br><br>\n",
        "    <b>Answers: </b>{answer['text']}<br><br>\n",
        "    \"\"\"))\n",
        "\n",
        "  else:\n",
        "    c = 1\n",
        "    display(HTML(f\"<b>Context:</b><br>{contexts}<br><br>\"))\n",
        "    question = str(input())\n",
        "    questions, predictions, scores = [question], [], []\n",
        "\n",
        "    while question != \"\":\n",
        "      tokenized_example = tokenizer(\n",
        "          question,\n",
        "          contexts,\n",
        "          padding=\"max_length\",\n",
        "          max_length=max_length,\n",
        "          truncation=\"only_second\",\n",
        "          return_offsets_mapping=True,\n",
        "          return_tensors=\"tf\"\n",
        "      )\n",
        "\n",
        "      logits = model(tokenized_example[\"input_ids\"], tokenized_example[\"attention_mask\"])\n",
        "      prediction = find_predictions(\n",
        "          logits.start_logits[0].numpy(),\n",
        "          logits.end_logits[0].numpy(),\n",
        "          tokenized_example[\"input_ids\"][0].numpy(),\n",
        "          tokenized_example[\"offset_mapping\"][0].numpy(),\n",
        "          contexts,\n",
        "          n_best_size\n",
        "      )[0]\n",
        "\n",
        "      pred_answer = prediction[\"predicted_answer\"] if prediction[\"predicted_answer\"] != \"\"  else \"No Answer\"\n",
        "      predictions.append(pred_answer)\n",
        "\n",
        "      start_char = prediction[\"start_position\"]\n",
        "      end_char = prediction[\"end_position\"]\n",
        "      highlighted_context = f\"{contexts[:start_char]}<span style='background-color: yellow;'>{contexts[start_char:end_char]}</span>{contexts[end_char:]}\"\n",
        "      scores.append(prediction['score'])\n",
        "      c += 1\n",
        "\n",
        "      clear_output(wait=True)\n",
        "      html_content = f\"<b>Context:</b><br>{highlighted_context}<br><br>\"\n",
        "      for i in range(len(questions)):\n",
        "        html_content += f\"\"\"\n",
        "        <b>Question {i+1}: </b>{questions[i]}<br>\n",
        "        <b>Predicted Answer: </b>{predictions[i]}<br>\n",
        "        <b>Score: </b>{scores[i]}<br><br>\n",
        "        \"\"\"\n",
        "\n",
        "      display(HTML(html_content))\n",
        "      question = str(input())\n",
        "      questions.append(question)"
      ]
    },
    {
      "cell_type": "markdown",
      "metadata": {
        "id": "yGcbjPzn_Cp5"
      },
      "source": [
        "### **Test Dataset**"
      ]
    },
    {
      "cell_type": "code",
      "execution_count": null,
      "metadata": {
        "id": "G6FUnLHW5Tqy"
      },
      "outputs": [],
      "source": [
        "contexts = val_dataset[\"context\"]\n",
        "questions = val_dataset[\"question\"]\n",
        "answers = val_dataset[\"answers\"]"
      ]
    },
    {
      "cell_type": "code",
      "source": [
        "predict_answer(contexts, questions, answers)"
      ],
      "metadata": {
        "colab": {
          "base_uri": "https://localhost:8080/",
          "height": 329
        },
        "id": "-Mk8ApC4VojP",
        "outputId": "fd9642ef-61d1-4744-9506-6ca842bb3ac4"
      },
      "execution_count": null,
      "outputs": [
        {
          "output_type": "display_data",
          "data": {
            "text/plain": [
              "<IPython.core.display.HTML object>"
            ],
            "text/html": [
              "\n",
              "    <b>Context:</b><br>These studies were widely presented as demonstrating that the current warming period is exceptional in comparison to temperatures between 1000 and 1900, and the MBH99 based graph featured in publicity. Even at the draft stage, this finding was disputed by contrarians: in May 2000 Fred Singer's Science and Environmental Policy Project held a press event on <span style='background-color: yellow;'>Capitol Hill, Washington, D.C.,</span> featuring comments on the graph Wibjörn Karlén and Singer argued against the graph at a United States Senate Committee on Commerce, Science and Transportation hearing on 18 July 2000. Contrarian John Lawrence Daly featured a modified version of the IPCC 1990 schematic, which he mis-identified as appearing in the IPCC 1995 report, and argued that \"Overturning its own previous view in the 1995 report, the IPCC presented the 'Hockey Stick' as the new orthodoxy with hardly an apology or explanation for the abrupt U-turn since its 1995 report\". Criticism of the MBH99 reconstruction in a review paper, which was quickly discredited in the Soon and Baliunas controversy, was picked up by the Bush administration, and a Senate speech by US Republican senator James Inhofe alleged that \"manmade global warming is the greatest hoax ever perpetrated on the American people\". The data and methodology used to produce the \"hockey stick graph\" was criticized in papers by Stephen McIntyre and Ross McKitrick, and in turn the criticisms in these papers were examined by other studies and comprehensively refuted by Wahl & Ammann 2007, which showed errors in the methods used by McIntyre and McKitrick.<br><br>\n",
              "    <b>Question: </b>Where did Singer hold a press conference in May 2000?<br><br>\n",
              "    <b>Predicted Answer: </b>Capitol Hill, Washington, D.C.,<br>\n",
              "    <b>Score: </b>10.6193265914917<br><br>\n",
              "    <b>Answers: </b>['Capitol Hill, Washington, D.C.', 'Capitol Hill, Washington, D.C.', 'Capitol Hill, Washington, D.C.']<br><br>\n",
              "    "
            ]
          },
          "metadata": {}
        }
      ]
    },
    {
      "cell_type": "code",
      "execution_count": null,
      "metadata": {
        "colab": {
          "base_uri": "https://localhost:8080/",
          "height": 295
        },
        "id": "6SXKEbblKVGo",
        "outputId": "cafbc8ad-2a50-4ded-d20d-f83e2ba24016"
      },
      "outputs": [
        {
          "output_type": "display_data",
          "data": {
            "text/plain": [
              "<IPython.core.display.HTML object>"
            ],
            "text/html": [
              "\n",
              "    <b>Context:</b><br><span style='background-color: yellow;'></span>Today, the Treaty of Lisbon prohibits anti-competitive agreements in Article 101(1), including price fixing. According to Article 101(2) any such agreements are automatically void. Article 101(3) establishes exemptions, if the collusion is for distributional or technological innovation, gives consumers a \"fair share\" of the benefit and does not include unreasonable restraints that risk eliminating competition anywhere (or compliant with the general principle of European Union law of proportionality). Article 102 prohibits the abuse of dominant position, such as price discrimination and exclusive dealing. Article 102 allows the European Council to regulations to govern mergers between firms (the current regulation is the Regulation 139/2004/EC). The general test is whether a concentration (i.e. merger or acquisition) with a community dimension (i.e. affects a number of EU member states) might significantly impede effective competition. Articles 106 and 107 provide that member state's right to deliver public services may not be obstructed, but that otherwise public enterprises must adhere to the same competition principles as companies. Article 107 lays down a general rule that the state may not aid or subsidise private parties in distortion of free competition and provides exemptions for charities, regional development objectives and in the event of a natural disaster.<br><br>\n",
              "    <b>Question: </b>Which artictle does not state that the member states' rights to deliver public services may not be obstructed?<br><br>\n",
              "    <b>Predicted Answer: </b>No Answer<br>\n",
              "    <b>Score: </b>11.308537483215332<br><br>\n",
              "    <b>Answers: </b>[]<br><br>\n",
              "    "
            ]
          },
          "metadata": {}
        }
      ],
      "source": [
        "predict_answer(contexts, questions, answers)"
      ]
    },
    {
      "cell_type": "code",
      "source": [
        "predict_answer(contexts, questions, answers)"
      ],
      "metadata": {
        "colab": {
          "base_uri": "https://localhost:8080/",
          "height": 312
        },
        "id": "QkXwmRSoU_yO",
        "outputId": "8073c007-8db7-4436-9e1e-4e1a4a02bb2d"
      },
      "execution_count": null,
      "outputs": [
        {
          "output_type": "display_data",
          "data": {
            "text/plain": [
              "<IPython.core.display.HTML object>"
            ],
            "text/html": [
              "\n",
              "    <b>Context:</b><br>A steam turbine consists of one or more rotors (rotating discs) mounted on a <span style='background-color: yellow;'>drive shaft</span>, alternating with a series of stators (static discs) fixed to the turbine casing. The rotors have a propeller-like arrangement of blades at the outer edge. Steam acts upon these blades, producing rotary motion. The stator consists of a similar, but fixed, series of blades that serve to redirect the steam flow onto the next rotor stage. A steam turbine often exhausts into a surface condenser that provides a vacuum. The stages of a steam turbine are typically arranged to extract the maximum potential work from a specific velocity and pressure of steam, giving rise to a series of variably sized high- and low-pressure stages. Turbines are only efficient if they rotate at relatively high speed, therefore they are usually connected to reduction gearing to drive lower speed applications, such as a ship's propeller. In the vast majority of large electric generating stations, turbines are directly connected to generators with no reduction gearing. Typical speeds are 3600 revolutions per minute (RPM) in the USA with 60 Hertz power, 3000 RPM in Europe and other countries with 50 Hertz electric power systems. In nuclear power applications the turbines typically run at half these speeds, 1800 RPM and 1500 RPM. A turbine rotor is also only capable of providing power when rotating in one direction. Therefore, a reversing stage or gearbox is usually required where power is required in the opposite direction.[citation needed]<br><br>\n",
              "    <b>Question: </b>In a steam turbine, what are rotors mounted on?<br><br>\n",
              "    <b>Predicted Answer: </b>drive shaft<br>\n",
              "    <b>Score: </b>11.781665802001953<br><br>\n",
              "    <b>Answers: </b>['drive shaft', 'a drive shaft', 'drive shaft']<br><br>\n",
              "    "
            ]
          },
          "metadata": {}
        }
      ]
    },
    {
      "cell_type": "code",
      "source": [
        "predict_answer(contexts, questions, answers)"
      ],
      "metadata": {
        "colab": {
          "base_uri": "https://localhost:8080/",
          "height": 225
        },
        "id": "CPsZmwmOT6iJ",
        "outputId": "255cd373-2c04-4de2-f0db-56dadce8aa31"
      },
      "execution_count": null,
      "outputs": [
        {
          "output_type": "display_data",
          "data": {
            "text/plain": [
              "<IPython.core.display.HTML object>"
            ],
            "text/html": [
              "\n",
              "    <b>Context:</b><br>The path of violence and military struggle was then taken up by the Egyptian Islamic Jihad organization responsible for the assassination of Anwar Sadat in <span style='background-color: yellow;'>1981</span>. Unlike earlier anti-colonial movements the extremist group directed its attacks against what it believed were \"apostate\" leaders of Muslim states, leaders who held secular leanings or who had introduced or promoted Western/foreign ideas and practices into Islamic societies. Its views were outlined in a pamphlet written by Muhammad Abd al-Salaam Farag, in which he states:<br><br>\n",
              "    <b>Question: </b>When did the Egyptian Islamic Jihad assassinate Anwar Sadat?<br><br>\n",
              "    <b>Predicted Answer: </b>1981<br>\n",
              "    <b>Score: </b>12.292176246643066<br><br>\n",
              "    <b>Answers: </b>['1981', '1981', '1981']<br><br>\n",
              "    "
            ]
          },
          "metadata": {}
        }
      ]
    },
    {
      "cell_type": "code",
      "execution_count": null,
      "metadata": {
        "colab": {
          "base_uri": "https://localhost:8080/",
          "height": 260
        },
        "id": "PrBSKAXe_YWI",
        "outputId": "0c830fcf-974a-49d2-fe9c-979d3a9900db"
      },
      "outputs": [
        {
          "output_type": "display_data",
          "data": {
            "text/plain": [
              "<IPython.core.display.HTML object>"
            ],
            "text/html": [
              "\n",
              "    <b>Context:</b><br><span style='background-color: yellow;'></span>Each sitting day, normally at 5 pm, MSPs decide on all the motions and amendments that have been moved that day. This \"Decision Time\" is heralded by the sounding of the division bell, which is heard throughout the Parliamentary campus and alerts MSPs who are not in the chamber to return and vote. At Decision Time, the Presiding Officer puts questions on the motions and amendments by reading out the name of the motion or amendment as well as the proposer and asking \"Are we all agreed?\", to which the chamber first votes orally. If there is audible dissent, the Presiding Officer announces \"There will be a division\" and members vote by means of electronic consoles on their desks. Each MSP has a unique access card with a microchip which, when inserted into the console, identifies them and allows them to vote. As a result, the outcome of each division is known in seconds.<br><br>\n",
              "    <b>Question: </b>What is heralded by the sounding of the deciding bell?<br><br>\n",
              "    <b>Predicted Answer: </b>No Answer<br>\n",
              "    <b>Score: </b>10.434486389160156<br><br>\n",
              "    <b>Answers: </b>[]<br><br>\n",
              "    "
            ]
          },
          "metadata": {}
        }
      ],
      "source": [
        "predict_answer(contexts, questions, answers)"
      ]
    },
    {
      "cell_type": "code",
      "source": [
        "predict_answer(contexts, questions, answers)"
      ],
      "metadata": {
        "colab": {
          "base_uri": "https://localhost:8080/",
          "height": 277
        },
        "id": "e7B5l76FUevm",
        "outputId": "a7222d51-48ff-4b9b-97dd-5a07db632083"
      },
      "execution_count": null,
      "outputs": [
        {
          "output_type": "display_data",
          "data": {
            "text/plain": [
              "<IPython.core.display.HTML object>"
            ],
            "text/html": [
              "\n",
              "    <b>Context:</b><br><span style='background-color: yellow;'>Möngke Khan</span> commenced a military campaign against the Chinese Song dynasty in southern China. The Mongol force that invaded southern China was far greater than the force they sent to invade the Middle East in 1256. He died in 1259 without a successor. Kublai returned from fighting the Song in 1260 when he learned that his brother, Ariq Böke, was challenging his claim to the throne. Kublai convened a kurultai in Kaiping that elected him Great Khan. A rival kurultai in Mongolia proclaimed Ariq Böke Great Khan, beginning a civil war. Kublai depended on the cooperation of his Chinese subjects to ensure that his army received ample resources. He bolstered his popularity among his subjects by modeling his government on the bureaucracy of traditional Chinese dynasties and adopting the Chinese era name of Zhongtong. Ariq Böke was hampered by inadequate supplies and surrendered in 1264. All of the three western khanates (Golden Horde, Chagatai Khanate and Ilkhanate) became functionally autonomous, although only the Ilkhans truly recognized Kublai as Great Khan. Civil strife had permanently divided the Mongol Empire.<br><br>\n",
              "    <b>Question: </b>Who led a Mongol attack on the Song dynasty?<br><br>\n",
              "    <b>Predicted Answer: </b>Möngke Khan<br>\n",
              "    <b>Score: </b>12.651847839355469<br><br>\n",
              "    <b>Answers: </b>['Möngke Khan', 'Möngke Khan', 'Möngke Khan']<br><br>\n",
              "    "
            ]
          },
          "metadata": {}
        }
      ]
    },
    {
      "cell_type": "code",
      "source": [
        "predict_answer(contexts, questions, answers)"
      ],
      "metadata": {
        "colab": {
          "base_uri": "https://localhost:8080/",
          "height": 277
        },
        "id": "PbP4CwDOVVTX",
        "outputId": "dd87957d-23d7-4085-da22-7b5ed718865e"
      },
      "execution_count": null,
      "outputs": [
        {
          "output_type": "display_data",
          "data": {
            "text/plain": [
              "<IPython.core.display.HTML object>"
            ],
            "text/html": [
              "\n",
              "    <b>Context:</b><br><span style='background-color: yellow;'></span>The shape of the Rhine delta is determined by two bifurcations: first, at Millingen aan de Rijn, the Rhine splits into Waal and Pannerdens Kanaal, which changes its name to Nederrijn at Angeren, and second near Arnhem, the IJssel branches off from the Nederrijn. This creates three main flows, two of which change names rather often. The largest and southern main branch begins as Waal and continues as Boven Merwede (\"Upper Merwede\"), Beneden Merwede (\"Lower Merwede\"), Noord River (\"North River\"), Nieuwe Maas (\"New Meuse\"), Het Scheur (\"the Rip\") and Nieuwe Waterweg (\"New Waterway\"). The middle flow begins as Nederrijn, then changes into Lek, then joins the Noord, thereby forming Nieuwe Maas. The northern flow keeps the name IJssel until it flows into Lake IJsselmeer. Three more flows carry significant amounts of water: the Nieuwe Merwede (\"New Merwede\"), which branches off from the southern branch where it changes from Boven to Beneden Merwede; the Oude Maas (\"Old Meuse\"), which branches off from the southern branch where it changes from Beneden Merwede into Noord, and Dordtse Kil, which branches off from Oude Maas.<br><br>\n",
              "    <b>Question: </b>The southern flow retains the name IJssel until it flows into what?<br><br>\n",
              "    <b>Predicted Answer: </b>No Answer<br>\n",
              "    <b>Score: </b>11.62994384765625<br><br>\n",
              "    <b>Answers: </b>[]<br><br>\n",
              "    "
            ]
          },
          "metadata": {}
        }
      ]
    },
    {
      "cell_type": "markdown",
      "metadata": {
        "id": "E4kWofXv_HYT"
      },
      "source": [
        "### **Other Questions**"
      ]
    },
    {
      "cell_type": "code",
      "source": [
        "# The Matrix\n",
        "# Question 9 does not pertain to an extractive question-answering task; it is inferential (abstractive) in nature\n",
        "\n",
        "context = \"In a dystopian future, humanity is unknowingly trapped in a simulated reality called the Matrix, created by intelligent machines to subdue and control them. Neo, a computer programmer by day and hacker by night, discovers the truth and joins a group of rebels led by Morpheus. They believe Neo is the prophesied 'One' who can manipulate the Matrix and free humanity. As Neo trains and learns the true nature of reality, he must confront agents of the Matrix who seek to eliminate him and the rebel threat. The journey unfolds with mind-bending action and philosophical exploration as Neo navigates between the simulated world and the harsh reality of the war against the machines.\"\n",
        "predict_answer(context)"
      ],
      "metadata": {
        "colab": {
          "base_uri": "https://localhost:8080/",
          "height": 833
        },
        "id": "90_bBYT2hcRm",
        "outputId": "15cb8b8f-bf8b-4f4f-cace-ffc18c38216a"
      },
      "execution_count": null,
      "outputs": [
        {
          "output_type": "display_data",
          "data": {
            "text/plain": [
              "<IPython.core.display.HTML object>"
            ],
            "text/html": [
              "<b>Context:</b><br>In a dystopian future, humanity is unknowingly trapped in a simulated reality called the Matrix, created by intelligent machines to subdue and control them. Neo, a computer programmer by day and hacker by night, discovers the truth and joins a group of rebels led by Morpheus. They believe Neo is the prophesied 'One' who can manipulate the Matrix and free humanity. As Neo trains and learns the true nature of reality, he must confront agents of the Matrix who seek to eliminate him and the rebel threat. The journey unfolds with mind-bending action and <span style='background-color: yellow;'>philosophical</span> exploration as Neo navigates between the simulated world and the harsh reality of the war against the machines.<br><br>\n",
              "        <b>Question 1: </b>Who controls humanity?<br>\n",
              "        <b>Predicted Answer: </b>intelligent machines<br>\n",
              "        <b>Score: </b>8.970773696899414<br><br>\n",
              "        \n",
              "        <b>Question 2: </b>What is Neo's professions in the real world?<br>\n",
              "        <b>Predicted Answer: </b>computer programmer by day and hacker by night<br>\n",
              "        <b>Score: </b>9.114860534667969<br><br>\n",
              "        \n",
              "        <b>Question 3: </b>What is the real name of Neo in The Matrix?<br>\n",
              "        <b>Predicted Answer: </b>No Answer<br>\n",
              "        <b>Score: </b>6.979001998901367<br><br>\n",
              "        \n",
              "        <b>Question 4: </b>Who is the leader of the group that opposes the machines?<br>\n",
              "        <b>Predicted Answer: </b>Morpheus<br>\n",
              "        <b>Score: </b>10.108222961425781<br><br>\n",
              "        \n",
              "        <b>Question 5: </b>What do the rebels think about Neo?<br>\n",
              "        <b>Predicted Answer: </b>They believe Neo is the prophesied 'One' who can manipulate the Matrix and free humanity<br>\n",
              "        <b>Score: </b>9.070082664489746<br><br>\n",
              "        \n",
              "        <b>Question 6: </b>What are the agents of the Matrix tasked with doing?<br>\n",
              "        <b>Predicted Answer: </b>eliminate him and the rebel threat<br>\n",
              "        <b>Score: </b>6.7810468673706055<br><br>\n",
              "        \n",
              "        <b>Question 7: </b>How many rebels are there in Neo's group?<br>\n",
              "        <b>Predicted Answer: </b>No Answer<br>\n",
              "        <b>Score: </b>7.755947113037109<br><br>\n",
              "        \n",
              "        <b>Question 8: </b>What is the ultimate goal of the intelligent machines?<br>\n",
              "        <b>Predicted Answer: </b>No Answer<br>\n",
              "        <b>Score: </b>8.551143646240234<br><br>\n",
              "        \n",
              "        <b>Question 9: </b>Why do the intelligent machines choose to subdue humanity instead of coexisting peacefully?<br>\n",
              "        <b>Predicted Answer: </b>No Answer<br>\n",
              "        <b>Score: </b>4.213873386383057<br><br>\n",
              "        \n",
              "        <b>Question 10: </b>What themes does \"The Matrix\" explore besides action and science fiction?<br>\n",
              "        <b>Predicted Answer: </b>philosophical<br>\n",
              "        <b>Score: </b>11.616581916809082<br><br>\n",
              "        "
            ]
          },
          "metadata": {}
        },
        {
          "name": "stdout",
          "output_type": "stream",
          "text": [
            "\n"
          ]
        }
      ]
    },
    {
      "cell_type": "code",
      "source": [
        "# World War II\n",
        "# Question 8 is inferential type\n",
        "\n",
        "context = \"Second World War (1 September 1939 – 2 September 1945) was a global conflict between two alliances: the Allies and the Axis powers. Nearly all of the world's countries, including all of the great powers, participated in the conflict, and many invested all available economic, industrial, and scientific capabilities in pursuit of total war, blurring the distinction between civilian and military resources. Aircraft played a major role, enabling the strategic bombing of population centres and delivery of the only two nuclear weapons ever used in war. It was by far the deadliest conflict in history, resulting in 70–85 million fatalities. Millions died due to genocides, including the Holocaust, as well as starvation, massacres, and disease. In the wake of Axis defeat, Germany, Austria, Japan and Korea were occupied, and war crime tribunals were conducted against German and Japanese leaders. The causes of the war are debated; contributing factors included the rise of fascism in Europe, the Spanish Civil War, the Second Sino-Japanese War, Soviet–Japanese border conflicts, and tensions in the aftermath of World War I. World War II is generally considered to have begun on 1 September 1939, when Nazi Germany, under Adolf Hitler, invaded Poland. The United Kingdom and France declared war on Germany on 3 September. Under the Molotov–Ribbentrop Pact of August 1939, Germany and the Soviet Union had partitioned Poland and marked out their 'spheres of influence' across Finland, Estonia, Latvia, Lithuania, and Romania. From late 1939 to early 1941, in a series of campaigns and treaties, Germany conquered or controlled much of continental Europe in a military alliance called the Axis with Italy, Japan, and other countries. Following the onset of campaigns in North and East Africa, and the fall of France in mid-1940, the war continued primarily between the European Axis powers and the British Empire, with the war in the Balkans, the aerial Battle of Britain, the Blitz of the UK, and the Battle of the Atlantic. In June 1941, Germany led the European Axis powers in an invasion of the Soviet Union, opening the Eastern Front.\"\n",
        "predict_answer(context)"
      ],
      "metadata": {
        "colab": {
          "base_uri": "https://localhost:8080/",
          "height": 885
        },
        "id": "k4jxA2FSp_HJ",
        "outputId": "a4132902-5661-48a5-ad81-1fd23ee6f345"
      },
      "execution_count": null,
      "outputs": [
        {
          "output_type": "display_data",
          "data": {
            "text/plain": [
              "<IPython.core.display.HTML object>"
            ],
            "text/html": [
              "<b>Context:</b><br>Second World War (1 September 1939 – 2 September 1945) was a global conflict between two alliances: the Allies and the Axis powers. Nearly all of the world's countries, including all of the great powers, participated in the conflict, and many invested all available economic, industrial, and scientific capabilities in pursuit of total war, blurring the distinction between civilian and military resources. Aircraft played a major role, enabling the strategic bombing of population centres and delivery of the only two nuclear weapons ever used in war. It was by far the deadliest conflict in history, resulting in 70–85 million fatalities. Millions died due to genocides, including the Holocaust, as well as starvation, massacres, and disease. In the wake of Axis defeat, Germany, Austria, Japan and Korea were occupied, and war crime tribunals were conducted against German and Japanese leaders. The causes of the war are debated; contributing factors included the <span style='background-color: yellow;'>rise of fascism in Europe, the Spanish Civil War, the Second Sino-Japanese War, Soviet–Japanese border conflicts, and tensions in the aftermath of World War I</span>. World War II is generally considered to have begun on 1 September 1939, when Nazi Germany, under Adolf Hitler, invaded Poland. The United Kingdom and France declared war on Germany on 3 September. Under the Molotov–Ribbentrop Pact of August 1939, Germany and the Soviet Union had partitioned Poland and marked out their 'spheres of influence' across Finland, Estonia, Latvia, Lithuania, and Romania. From late 1939 to early 1941, in a series of campaigns and treaties, Germany conquered or controlled much of continental Europe in a military alliance called the Axis with Italy, Japan, and other countries. Following the onset of campaigns in North and East Africa, and the fall of France in mid-1940, the war continued primarily between the European Axis powers and the British Empire, with the war in the Balkans, the aerial Battle of Britain, the Blitz of the UK, and the Battle of the Atlantic. In June 1941, Germany led the European Axis powers in an invasion of the Soviet Union, opening the Eastern Front.<br><br>\n",
              "        <b>Question 1: </b>During which period did World War II take place?<br>\n",
              "        <b>Predicted Answer: </b>1 September 1939 – 2 September 1945<br>\n",
              "        <b>Score: </b>7.991168022155762<br><br>\n",
              "        \n",
              "        <b>Question 2: </b>How did aircraft contribute to the war effort?<br>\n",
              "        <b>Predicted Answer: </b>enabling the strategic bombing of population centres and delivery of the only two nuclear weapons<br>\n",
              "        <b>Score: </b>11.1976957321167<br><br>\n",
              "        \n",
              "        <b>Question 3: </b>What were some of the technological innovations developed during World War II?<br>\n",
              "        <b>Predicted Answer: </b>No Answer<br>\n",
              "        <b>Score: </b>5.133119106292725<br><br>\n",
              "        \n",
              "        <b>Question 4: </b>What was the approximate number of human losses in World War II?<br>\n",
              "        <b>Predicted Answer: </b>70–85 million<br>\n",
              "        <b>Score: </b>12.70238971710205<br><br>\n",
              "        \n",
              "        <b>Question 5: </b>What specific actions were taken during the war crime tribunals against German and Japanese leaders?<br>\n",
              "        <b>Predicted Answer: </b>No Answer<br>\n",
              "        <b>Score: </b>5.297074317932129<br><br>\n",
              "        \n",
              "        <b>Question 6: </b>What event marked the beginning of World War II?<br>\n",
              "        <b>Predicted Answer: </b>1 September 1939, when Nazi Germany, under Adolf Hitler, invaded Poland<br>\n",
              "        <b>Score: </b>6.410003662109375<br><br>\n",
              "        \n",
              "        <b>Question 7: </b>What was the reason behind the continuation of the Second World War in mid-1940?<br>\n",
              "        <b>Predicted Answer: </b>fall of France<br>\n",
              "        <b>Score: </b>8.634551048278809<br><br>\n",
              "        \n",
              "        <b>Question 8: </b>What role did military alliances play in the escalation of World War II?<br>\n",
              "        <b>Predicted Answer: </b>No Answer<br>\n",
              "        <b>Score: </b>2.7820959091186523<br><br>\n",
              "        \n",
              "        <b>Question 9: </b>What were the possible reasons that led to the start of World War II?<br>\n",
              "        <b>Predicted Answer: </b>rise of fascism in Europe, the Spanish Civil War, the Second Sino-Japanese War, Soviet–Japanese border conflicts, and tensions in the aftermath of World War I<br>\n",
              "        <b>Score: </b>8.912704467773438<br><br>\n",
              "        "
            ]
          },
          "metadata": {}
        },
        {
          "name": "stdout",
          "output_type": "stream",
          "text": [
            "\n"
          ]
        }
      ]
    },
    {
      "cell_type": "markdown",
      "metadata": {
        "id": "_ufZpqgDAcQR"
      },
      "source": [
        "**Conclusion:** The fine-tuned RoBERTa model for this question-answering task is excellent, achieving an **F1 score** of **87.68%** in the evaluation—an accomplishment few models currently reach with SQuAD 2.0. The model successfully finds appropriate answers even when the questions are a mix of literal and inferential, and it returns \"No Answer\" when the answer does not exist in the context or when the question is not extractive, such as inferential or critical (abstractive) questions. To further improve the model's performance for inferential, critical, or generative questions, an abstractive model that generates free text based on the context would be recommended. However, for extractive tasks, this model is more than sufficient!!!"
      ]
    }
  ],
  "metadata": {
    "colab": {
      "provenance": []
    },
    "coursera": {
      "schema_names": [
        "NLPC3-4A"
      ]
    },
    "grader_version": "1",
    "kernelspec": {
      "display_name": "Python 3",
      "name": "python3"
    },
    "language_info": {
      "codemirror_mode": {
        "name": "ipython",
        "version": 3
      },
      "file_extension": ".py",
      "mimetype": "text/x-python",
      "name": "python",
      "nbconvert_exporter": "python",
      "pygments_lexer": "ipython3",
      "version": "3.8.10"
    },
    "widgets": {
      "application/vnd.jupyter.widget-state+json": {
        "31fb72cff4144ead995ea70c1b792bce": {
          "model_module": "@jupyter-widgets/controls",
          "model_name": "HBoxModel",
          "model_module_version": "1.5.0",
          "state": {
            "_dom_classes": [],
            "_model_module": "@jupyter-widgets/controls",
            "_model_module_version": "1.5.0",
            "_model_name": "HBoxModel",
            "_view_count": null,
            "_view_module": "@jupyter-widgets/controls",
            "_view_module_version": "1.5.0",
            "_view_name": "HBoxView",
            "box_style": "",
            "children": [
              "IPY_MODEL_130e4575ed07416e84c255f6c3c674e3",
              "IPY_MODEL_0c72b4c5c0f84b01a2ee70217a7413da",
              "IPY_MODEL_5e36c0cc01074fcc86f1e58a55b6347b"
            ],
            "layout": "IPY_MODEL_b3614b47e0f04965884db3125066f5fc"
          }
        },
        "130e4575ed07416e84c255f6c3c674e3": {
          "model_module": "@jupyter-widgets/controls",
          "model_name": "HTMLModel",
          "model_module_version": "1.5.0",
          "state": {
            "_dom_classes": [],
            "_model_module": "@jupyter-widgets/controls",
            "_model_module_version": "1.5.0",
            "_model_name": "HTMLModel",
            "_view_count": null,
            "_view_module": "@jupyter-widgets/controls",
            "_view_module_version": "1.5.0",
            "_view_name": "HTMLView",
            "description": "",
            "description_tooltip": null,
            "layout": "IPY_MODEL_408b8a56f2f3423a84ba0b3773af1997",
            "placeholder": "​",
            "style": "IPY_MODEL_d9eeb9d3477b47c09048f990c439fea3",
            "value": "Filter: 100%"
          }
        },
        "0c72b4c5c0f84b01a2ee70217a7413da": {
          "model_module": "@jupyter-widgets/controls",
          "model_name": "FloatProgressModel",
          "model_module_version": "1.5.0",
          "state": {
            "_dom_classes": [],
            "_model_module": "@jupyter-widgets/controls",
            "_model_module_version": "1.5.0",
            "_model_name": "FloatProgressModel",
            "_view_count": null,
            "_view_module": "@jupyter-widgets/controls",
            "_view_module_version": "1.5.0",
            "_view_name": "ProgressView",
            "bar_style": "success",
            "description": "",
            "description_tooltip": null,
            "layout": "IPY_MODEL_b9bea3270d004dcfa5959ca6c93f0cd6",
            "max": 11873,
            "min": 0,
            "orientation": "horizontal",
            "style": "IPY_MODEL_d1944257e8974e458d8d8131ca00390c",
            "value": 11873
          }
        },
        "5e36c0cc01074fcc86f1e58a55b6347b": {
          "model_module": "@jupyter-widgets/controls",
          "model_name": "HTMLModel",
          "model_module_version": "1.5.0",
          "state": {
            "_dom_classes": [],
            "_model_module": "@jupyter-widgets/controls",
            "_model_module_version": "1.5.0",
            "_model_name": "HTMLModel",
            "_view_count": null,
            "_view_module": "@jupyter-widgets/controls",
            "_view_module_version": "1.5.0",
            "_view_name": "HTMLView",
            "description": "",
            "description_tooltip": null,
            "layout": "IPY_MODEL_b417f33de9914961b390e76cb18aa80e",
            "placeholder": "​",
            "style": "IPY_MODEL_21dc679f53b242e5954cdf15907f57c8",
            "value": " 11873/11873 [00:10&lt;00:00, 878.35 examples/s]"
          }
        },
        "b3614b47e0f04965884db3125066f5fc": {
          "model_module": "@jupyter-widgets/base",
          "model_name": "LayoutModel",
          "model_module_version": "1.2.0",
          "state": {
            "_model_module": "@jupyter-widgets/base",
            "_model_module_version": "1.2.0",
            "_model_name": "LayoutModel",
            "_view_count": null,
            "_view_module": "@jupyter-widgets/base",
            "_view_module_version": "1.2.0",
            "_view_name": "LayoutView",
            "align_content": null,
            "align_items": null,
            "align_self": null,
            "border": null,
            "bottom": null,
            "display": null,
            "flex": null,
            "flex_flow": null,
            "grid_area": null,
            "grid_auto_columns": null,
            "grid_auto_flow": null,
            "grid_auto_rows": null,
            "grid_column": null,
            "grid_gap": null,
            "grid_row": null,
            "grid_template_areas": null,
            "grid_template_columns": null,
            "grid_template_rows": null,
            "height": null,
            "justify_content": null,
            "justify_items": null,
            "left": null,
            "margin": null,
            "max_height": null,
            "max_width": null,
            "min_height": null,
            "min_width": null,
            "object_fit": null,
            "object_position": null,
            "order": null,
            "overflow": null,
            "overflow_x": null,
            "overflow_y": null,
            "padding": null,
            "right": null,
            "top": null,
            "visibility": null,
            "width": null
          }
        },
        "408b8a56f2f3423a84ba0b3773af1997": {
          "model_module": "@jupyter-widgets/base",
          "model_name": "LayoutModel",
          "model_module_version": "1.2.0",
          "state": {
            "_model_module": "@jupyter-widgets/base",
            "_model_module_version": "1.2.0",
            "_model_name": "LayoutModel",
            "_view_count": null,
            "_view_module": "@jupyter-widgets/base",
            "_view_module_version": "1.2.0",
            "_view_name": "LayoutView",
            "align_content": null,
            "align_items": null,
            "align_self": null,
            "border": null,
            "bottom": null,
            "display": null,
            "flex": null,
            "flex_flow": null,
            "grid_area": null,
            "grid_auto_columns": null,
            "grid_auto_flow": null,
            "grid_auto_rows": null,
            "grid_column": null,
            "grid_gap": null,
            "grid_row": null,
            "grid_template_areas": null,
            "grid_template_columns": null,
            "grid_template_rows": null,
            "height": null,
            "justify_content": null,
            "justify_items": null,
            "left": null,
            "margin": null,
            "max_height": null,
            "max_width": null,
            "min_height": null,
            "min_width": null,
            "object_fit": null,
            "object_position": null,
            "order": null,
            "overflow": null,
            "overflow_x": null,
            "overflow_y": null,
            "padding": null,
            "right": null,
            "top": null,
            "visibility": null,
            "width": null
          }
        },
        "d9eeb9d3477b47c09048f990c439fea3": {
          "model_module": "@jupyter-widgets/controls",
          "model_name": "DescriptionStyleModel",
          "model_module_version": "1.5.0",
          "state": {
            "_model_module": "@jupyter-widgets/controls",
            "_model_module_version": "1.5.0",
            "_model_name": "DescriptionStyleModel",
            "_view_count": null,
            "_view_module": "@jupyter-widgets/base",
            "_view_module_version": "1.2.0",
            "_view_name": "StyleView",
            "description_width": ""
          }
        },
        "b9bea3270d004dcfa5959ca6c93f0cd6": {
          "model_module": "@jupyter-widgets/base",
          "model_name": "LayoutModel",
          "model_module_version": "1.2.0",
          "state": {
            "_model_module": "@jupyter-widgets/base",
            "_model_module_version": "1.2.0",
            "_model_name": "LayoutModel",
            "_view_count": null,
            "_view_module": "@jupyter-widgets/base",
            "_view_module_version": "1.2.0",
            "_view_name": "LayoutView",
            "align_content": null,
            "align_items": null,
            "align_self": null,
            "border": null,
            "bottom": null,
            "display": null,
            "flex": null,
            "flex_flow": null,
            "grid_area": null,
            "grid_auto_columns": null,
            "grid_auto_flow": null,
            "grid_auto_rows": null,
            "grid_column": null,
            "grid_gap": null,
            "grid_row": null,
            "grid_template_areas": null,
            "grid_template_columns": null,
            "grid_template_rows": null,
            "height": null,
            "justify_content": null,
            "justify_items": null,
            "left": null,
            "margin": null,
            "max_height": null,
            "max_width": null,
            "min_height": null,
            "min_width": null,
            "object_fit": null,
            "object_position": null,
            "order": null,
            "overflow": null,
            "overflow_x": null,
            "overflow_y": null,
            "padding": null,
            "right": null,
            "top": null,
            "visibility": null,
            "width": null
          }
        },
        "d1944257e8974e458d8d8131ca00390c": {
          "model_module": "@jupyter-widgets/controls",
          "model_name": "ProgressStyleModel",
          "model_module_version": "1.5.0",
          "state": {
            "_model_module": "@jupyter-widgets/controls",
            "_model_module_version": "1.5.0",
            "_model_name": "ProgressStyleModel",
            "_view_count": null,
            "_view_module": "@jupyter-widgets/base",
            "_view_module_version": "1.2.0",
            "_view_name": "StyleView",
            "bar_color": null,
            "description_width": ""
          }
        },
        "b417f33de9914961b390e76cb18aa80e": {
          "model_module": "@jupyter-widgets/base",
          "model_name": "LayoutModel",
          "model_module_version": "1.2.0",
          "state": {
            "_model_module": "@jupyter-widgets/base",
            "_model_module_version": "1.2.0",
            "_model_name": "LayoutModel",
            "_view_count": null,
            "_view_module": "@jupyter-widgets/base",
            "_view_module_version": "1.2.0",
            "_view_name": "LayoutView",
            "align_content": null,
            "align_items": null,
            "align_self": null,
            "border": null,
            "bottom": null,
            "display": null,
            "flex": null,
            "flex_flow": null,
            "grid_area": null,
            "grid_auto_columns": null,
            "grid_auto_flow": null,
            "grid_auto_rows": null,
            "grid_column": null,
            "grid_gap": null,
            "grid_row": null,
            "grid_template_areas": null,
            "grid_template_columns": null,
            "grid_template_rows": null,
            "height": null,
            "justify_content": null,
            "justify_items": null,
            "left": null,
            "margin": null,
            "max_height": null,
            "max_width": null,
            "min_height": null,
            "min_width": null,
            "object_fit": null,
            "object_position": null,
            "order": null,
            "overflow": null,
            "overflow_x": null,
            "overflow_y": null,
            "padding": null,
            "right": null,
            "top": null,
            "visibility": null,
            "width": null
          }
        },
        "21dc679f53b242e5954cdf15907f57c8": {
          "model_module": "@jupyter-widgets/controls",
          "model_name": "DescriptionStyleModel",
          "model_module_version": "1.5.0",
          "state": {
            "_model_module": "@jupyter-widgets/controls",
            "_model_module_version": "1.5.0",
            "_model_name": "DescriptionStyleModel",
            "_view_count": null,
            "_view_module": "@jupyter-widgets/base",
            "_view_module_version": "1.2.0",
            "_view_name": "StyleView",
            "description_width": ""
          }
        },
        "ffc50ee2b9e741f6973da77e68677e81": {
          "model_module": "@jupyter-widgets/controls",
          "model_name": "HBoxModel",
          "model_module_version": "1.5.0",
          "state": {
            "_dom_classes": [],
            "_model_module": "@jupyter-widgets/controls",
            "_model_module_version": "1.5.0",
            "_model_name": "HBoxModel",
            "_view_count": null,
            "_view_module": "@jupyter-widgets/controls",
            "_view_module_version": "1.5.0",
            "_view_name": "HBoxView",
            "box_style": "",
            "children": [
              "IPY_MODEL_44bfb09926784e4582022dc61f8cd5f7",
              "IPY_MODEL_5199c7d5278445a88c71327441e58dec",
              "IPY_MODEL_9b3ddd396e39467c8bdf606a38467227"
            ],
            "layout": "IPY_MODEL_e1e43e7439d4485d9a324e7ba9ce0435"
          }
        },
        "44bfb09926784e4582022dc61f8cd5f7": {
          "model_module": "@jupyter-widgets/controls",
          "model_name": "HTMLModel",
          "model_module_version": "1.5.0",
          "state": {
            "_dom_classes": [],
            "_model_module": "@jupyter-widgets/controls",
            "_model_module_version": "1.5.0",
            "_model_name": "HTMLModel",
            "_view_count": null,
            "_view_module": "@jupyter-widgets/controls",
            "_view_module_version": "1.5.0",
            "_view_name": "HTMLView",
            "description": "",
            "description_tooltip": null,
            "layout": "IPY_MODEL_069ba1681ed44e17a00806546cc036bf",
            "placeholder": "​",
            "style": "IPY_MODEL_5c473343005940349e195ee3f0a7cf59",
            "value": "Map: 100%"
          }
        },
        "5199c7d5278445a88c71327441e58dec": {
          "model_module": "@jupyter-widgets/controls",
          "model_name": "FloatProgressModel",
          "model_module_version": "1.5.0",
          "state": {
            "_dom_classes": [],
            "_model_module": "@jupyter-widgets/controls",
            "_model_module_version": "1.5.0",
            "_model_name": "FloatProgressModel",
            "_view_count": null,
            "_view_module": "@jupyter-widgets/controls",
            "_view_module_version": "1.5.0",
            "_view_name": "ProgressView",
            "bar_style": "success",
            "description": "",
            "description_tooltip": null,
            "layout": "IPY_MODEL_36fd9350b7ae4189a45f60d4173492f7",
            "max": 130101,
            "min": 0,
            "orientation": "horizontal",
            "style": "IPY_MODEL_9c181bd5c9e145728b1df715785ca25f",
            "value": 130101
          }
        },
        "9b3ddd396e39467c8bdf606a38467227": {
          "model_module": "@jupyter-widgets/controls",
          "model_name": "HTMLModel",
          "model_module_version": "1.5.0",
          "state": {
            "_dom_classes": [],
            "_model_module": "@jupyter-widgets/controls",
            "_model_module_version": "1.5.0",
            "_model_name": "HTMLModel",
            "_view_count": null,
            "_view_module": "@jupyter-widgets/controls",
            "_view_module_version": "1.5.0",
            "_view_name": "HTMLView",
            "description": "",
            "description_tooltip": null,
            "layout": "IPY_MODEL_59c1898cf47d49588d01cb537a327f9b",
            "placeholder": "​",
            "style": "IPY_MODEL_4485e8e21e3f448db3668f14f1e7d619",
            "value": " 130101/130101 [05:26&lt;00:00, 699.71 examples/s]"
          }
        },
        "e1e43e7439d4485d9a324e7ba9ce0435": {
          "model_module": "@jupyter-widgets/base",
          "model_name": "LayoutModel",
          "model_module_version": "1.2.0",
          "state": {
            "_model_module": "@jupyter-widgets/base",
            "_model_module_version": "1.2.0",
            "_model_name": "LayoutModel",
            "_view_count": null,
            "_view_module": "@jupyter-widgets/base",
            "_view_module_version": "1.2.0",
            "_view_name": "LayoutView",
            "align_content": null,
            "align_items": null,
            "align_self": null,
            "border": null,
            "bottom": null,
            "display": null,
            "flex": null,
            "flex_flow": null,
            "grid_area": null,
            "grid_auto_columns": null,
            "grid_auto_flow": null,
            "grid_auto_rows": null,
            "grid_column": null,
            "grid_gap": null,
            "grid_row": null,
            "grid_template_areas": null,
            "grid_template_columns": null,
            "grid_template_rows": null,
            "height": null,
            "justify_content": null,
            "justify_items": null,
            "left": null,
            "margin": null,
            "max_height": null,
            "max_width": null,
            "min_height": null,
            "min_width": null,
            "object_fit": null,
            "object_position": null,
            "order": null,
            "overflow": null,
            "overflow_x": null,
            "overflow_y": null,
            "padding": null,
            "right": null,
            "top": null,
            "visibility": null,
            "width": null
          }
        },
        "069ba1681ed44e17a00806546cc036bf": {
          "model_module": "@jupyter-widgets/base",
          "model_name": "LayoutModel",
          "model_module_version": "1.2.0",
          "state": {
            "_model_module": "@jupyter-widgets/base",
            "_model_module_version": "1.2.0",
            "_model_name": "LayoutModel",
            "_view_count": null,
            "_view_module": "@jupyter-widgets/base",
            "_view_module_version": "1.2.0",
            "_view_name": "LayoutView",
            "align_content": null,
            "align_items": null,
            "align_self": null,
            "border": null,
            "bottom": null,
            "display": null,
            "flex": null,
            "flex_flow": null,
            "grid_area": null,
            "grid_auto_columns": null,
            "grid_auto_flow": null,
            "grid_auto_rows": null,
            "grid_column": null,
            "grid_gap": null,
            "grid_row": null,
            "grid_template_areas": null,
            "grid_template_columns": null,
            "grid_template_rows": null,
            "height": null,
            "justify_content": null,
            "justify_items": null,
            "left": null,
            "margin": null,
            "max_height": null,
            "max_width": null,
            "min_height": null,
            "min_width": null,
            "object_fit": null,
            "object_position": null,
            "order": null,
            "overflow": null,
            "overflow_x": null,
            "overflow_y": null,
            "padding": null,
            "right": null,
            "top": null,
            "visibility": null,
            "width": null
          }
        },
        "5c473343005940349e195ee3f0a7cf59": {
          "model_module": "@jupyter-widgets/controls",
          "model_name": "DescriptionStyleModel",
          "model_module_version": "1.5.0",
          "state": {
            "_model_module": "@jupyter-widgets/controls",
            "_model_module_version": "1.5.0",
            "_model_name": "DescriptionStyleModel",
            "_view_count": null,
            "_view_module": "@jupyter-widgets/base",
            "_view_module_version": "1.2.0",
            "_view_name": "StyleView",
            "description_width": ""
          }
        },
        "36fd9350b7ae4189a45f60d4173492f7": {
          "model_module": "@jupyter-widgets/base",
          "model_name": "LayoutModel",
          "model_module_version": "1.2.0",
          "state": {
            "_model_module": "@jupyter-widgets/base",
            "_model_module_version": "1.2.0",
            "_model_name": "LayoutModel",
            "_view_count": null,
            "_view_module": "@jupyter-widgets/base",
            "_view_module_version": "1.2.0",
            "_view_name": "LayoutView",
            "align_content": null,
            "align_items": null,
            "align_self": null,
            "border": null,
            "bottom": null,
            "display": null,
            "flex": null,
            "flex_flow": null,
            "grid_area": null,
            "grid_auto_columns": null,
            "grid_auto_flow": null,
            "grid_auto_rows": null,
            "grid_column": null,
            "grid_gap": null,
            "grid_row": null,
            "grid_template_areas": null,
            "grid_template_columns": null,
            "grid_template_rows": null,
            "height": null,
            "justify_content": null,
            "justify_items": null,
            "left": null,
            "margin": null,
            "max_height": null,
            "max_width": null,
            "min_height": null,
            "min_width": null,
            "object_fit": null,
            "object_position": null,
            "order": null,
            "overflow": null,
            "overflow_x": null,
            "overflow_y": null,
            "padding": null,
            "right": null,
            "top": null,
            "visibility": null,
            "width": null
          }
        },
        "9c181bd5c9e145728b1df715785ca25f": {
          "model_module": "@jupyter-widgets/controls",
          "model_name": "ProgressStyleModel",
          "model_module_version": "1.5.0",
          "state": {
            "_model_module": "@jupyter-widgets/controls",
            "_model_module_version": "1.5.0",
            "_model_name": "ProgressStyleModel",
            "_view_count": null,
            "_view_module": "@jupyter-widgets/base",
            "_view_module_version": "1.2.0",
            "_view_name": "StyleView",
            "bar_color": null,
            "description_width": ""
          }
        },
        "59c1898cf47d49588d01cb537a327f9b": {
          "model_module": "@jupyter-widgets/base",
          "model_name": "LayoutModel",
          "model_module_version": "1.2.0",
          "state": {
            "_model_module": "@jupyter-widgets/base",
            "_model_module_version": "1.2.0",
            "_model_name": "LayoutModel",
            "_view_count": null,
            "_view_module": "@jupyter-widgets/base",
            "_view_module_version": "1.2.0",
            "_view_name": "LayoutView",
            "align_content": null,
            "align_items": null,
            "align_self": null,
            "border": null,
            "bottom": null,
            "display": null,
            "flex": null,
            "flex_flow": null,
            "grid_area": null,
            "grid_auto_columns": null,
            "grid_auto_flow": null,
            "grid_auto_rows": null,
            "grid_column": null,
            "grid_gap": null,
            "grid_row": null,
            "grid_template_areas": null,
            "grid_template_columns": null,
            "grid_template_rows": null,
            "height": null,
            "justify_content": null,
            "justify_items": null,
            "left": null,
            "margin": null,
            "max_height": null,
            "max_width": null,
            "min_height": null,
            "min_width": null,
            "object_fit": null,
            "object_position": null,
            "order": null,
            "overflow": null,
            "overflow_x": null,
            "overflow_y": null,
            "padding": null,
            "right": null,
            "top": null,
            "visibility": null,
            "width": null
          }
        },
        "4485e8e21e3f448db3668f14f1e7d619": {
          "model_module": "@jupyter-widgets/controls",
          "model_name": "DescriptionStyleModel",
          "model_module_version": "1.5.0",
          "state": {
            "_model_module": "@jupyter-widgets/controls",
            "_model_module_version": "1.5.0",
            "_model_name": "DescriptionStyleModel",
            "_view_count": null,
            "_view_module": "@jupyter-widgets/base",
            "_view_module_version": "1.2.0",
            "_view_name": "StyleView",
            "description_width": ""
          }
        },
        "6358755b1abd47c4b80e5cb00a5fb4cf": {
          "model_module": "@jupyter-widgets/controls",
          "model_name": "HBoxModel",
          "model_module_version": "1.5.0",
          "state": {
            "_dom_classes": [],
            "_model_module": "@jupyter-widgets/controls",
            "_model_module_version": "1.5.0",
            "_model_name": "HBoxModel",
            "_view_count": null,
            "_view_module": "@jupyter-widgets/controls",
            "_view_module_version": "1.5.0",
            "_view_name": "HBoxView",
            "box_style": "",
            "children": [
              "IPY_MODEL_dc17b3af99fb4c2c9a5e02820feb4040",
              "IPY_MODEL_2e74f68440d848f3bf8d03a059e91f0b",
              "IPY_MODEL_22550b2d65924bfaac6b20b9eecbacb2"
            ],
            "layout": "IPY_MODEL_a4b55236e8cf478dba28dbd50cf65a91"
          }
        },
        "dc17b3af99fb4c2c9a5e02820feb4040": {
          "model_module": "@jupyter-widgets/controls",
          "model_name": "HTMLModel",
          "model_module_version": "1.5.0",
          "state": {
            "_dom_classes": [],
            "_model_module": "@jupyter-widgets/controls",
            "_model_module_version": "1.5.0",
            "_model_name": "HTMLModel",
            "_view_count": null,
            "_view_module": "@jupyter-widgets/controls",
            "_view_module_version": "1.5.0",
            "_view_name": "HTMLView",
            "description": "",
            "description_tooltip": null,
            "layout": "IPY_MODEL_ff061a901f5941a087fb82dd9e2bbfb9",
            "placeholder": "​",
            "style": "IPY_MODEL_7731ae04950b44cfb3b35fea656a6367",
            "value": "Map: 100%"
          }
        },
        "2e74f68440d848f3bf8d03a059e91f0b": {
          "model_module": "@jupyter-widgets/controls",
          "model_name": "FloatProgressModel",
          "model_module_version": "1.5.0",
          "state": {
            "_dom_classes": [],
            "_model_module": "@jupyter-widgets/controls",
            "_model_module_version": "1.5.0",
            "_model_name": "FloatProgressModel",
            "_view_count": null,
            "_view_module": "@jupyter-widgets/controls",
            "_view_module_version": "1.5.0",
            "_view_name": "ProgressView",
            "bar_style": "success",
            "description": "",
            "description_tooltip": null,
            "layout": "IPY_MODEL_b30cf689067b40209bd53c61e4197541",
            "max": 11791,
            "min": 0,
            "orientation": "horizontal",
            "style": "IPY_MODEL_00c798b720c1481aa64a65e3ad8aa0b2",
            "value": 11791
          }
        },
        "22550b2d65924bfaac6b20b9eecbacb2": {
          "model_module": "@jupyter-widgets/controls",
          "model_name": "HTMLModel",
          "model_module_version": "1.5.0",
          "state": {
            "_dom_classes": [],
            "_model_module": "@jupyter-widgets/controls",
            "_model_module_version": "1.5.0",
            "_model_name": "HTMLModel",
            "_view_count": null,
            "_view_module": "@jupyter-widgets/controls",
            "_view_module_version": "1.5.0",
            "_view_name": "HTMLView",
            "description": "",
            "description_tooltip": null,
            "layout": "IPY_MODEL_a93939092fd74b50968c5b00478fbea2",
            "placeholder": "​",
            "style": "IPY_MODEL_31612832bafa49d39f1db6ac84fbb78a",
            "value": " 11791/11791 [00:26&lt;00:00, 335.89 examples/s]"
          }
        },
        "a4b55236e8cf478dba28dbd50cf65a91": {
          "model_module": "@jupyter-widgets/base",
          "model_name": "LayoutModel",
          "model_module_version": "1.2.0",
          "state": {
            "_model_module": "@jupyter-widgets/base",
            "_model_module_version": "1.2.0",
            "_model_name": "LayoutModel",
            "_view_count": null,
            "_view_module": "@jupyter-widgets/base",
            "_view_module_version": "1.2.0",
            "_view_name": "LayoutView",
            "align_content": null,
            "align_items": null,
            "align_self": null,
            "border": null,
            "bottom": null,
            "display": null,
            "flex": null,
            "flex_flow": null,
            "grid_area": null,
            "grid_auto_columns": null,
            "grid_auto_flow": null,
            "grid_auto_rows": null,
            "grid_column": null,
            "grid_gap": null,
            "grid_row": null,
            "grid_template_areas": null,
            "grid_template_columns": null,
            "grid_template_rows": null,
            "height": null,
            "justify_content": null,
            "justify_items": null,
            "left": null,
            "margin": null,
            "max_height": null,
            "max_width": null,
            "min_height": null,
            "min_width": null,
            "object_fit": null,
            "object_position": null,
            "order": null,
            "overflow": null,
            "overflow_x": null,
            "overflow_y": null,
            "padding": null,
            "right": null,
            "top": null,
            "visibility": null,
            "width": null
          }
        },
        "ff061a901f5941a087fb82dd9e2bbfb9": {
          "model_module": "@jupyter-widgets/base",
          "model_name": "LayoutModel",
          "model_module_version": "1.2.0",
          "state": {
            "_model_module": "@jupyter-widgets/base",
            "_model_module_version": "1.2.0",
            "_model_name": "LayoutModel",
            "_view_count": null,
            "_view_module": "@jupyter-widgets/base",
            "_view_module_version": "1.2.0",
            "_view_name": "LayoutView",
            "align_content": null,
            "align_items": null,
            "align_self": null,
            "border": null,
            "bottom": null,
            "display": null,
            "flex": null,
            "flex_flow": null,
            "grid_area": null,
            "grid_auto_columns": null,
            "grid_auto_flow": null,
            "grid_auto_rows": null,
            "grid_column": null,
            "grid_gap": null,
            "grid_row": null,
            "grid_template_areas": null,
            "grid_template_columns": null,
            "grid_template_rows": null,
            "height": null,
            "justify_content": null,
            "justify_items": null,
            "left": null,
            "margin": null,
            "max_height": null,
            "max_width": null,
            "min_height": null,
            "min_width": null,
            "object_fit": null,
            "object_position": null,
            "order": null,
            "overflow": null,
            "overflow_x": null,
            "overflow_y": null,
            "padding": null,
            "right": null,
            "top": null,
            "visibility": null,
            "width": null
          }
        },
        "7731ae04950b44cfb3b35fea656a6367": {
          "model_module": "@jupyter-widgets/controls",
          "model_name": "DescriptionStyleModel",
          "model_module_version": "1.5.0",
          "state": {
            "_model_module": "@jupyter-widgets/controls",
            "_model_module_version": "1.5.0",
            "_model_name": "DescriptionStyleModel",
            "_view_count": null,
            "_view_module": "@jupyter-widgets/base",
            "_view_module_version": "1.2.0",
            "_view_name": "StyleView",
            "description_width": ""
          }
        },
        "b30cf689067b40209bd53c61e4197541": {
          "model_module": "@jupyter-widgets/base",
          "model_name": "LayoutModel",
          "model_module_version": "1.2.0",
          "state": {
            "_model_module": "@jupyter-widgets/base",
            "_model_module_version": "1.2.0",
            "_model_name": "LayoutModel",
            "_view_count": null,
            "_view_module": "@jupyter-widgets/base",
            "_view_module_version": "1.2.0",
            "_view_name": "LayoutView",
            "align_content": null,
            "align_items": null,
            "align_self": null,
            "border": null,
            "bottom": null,
            "display": null,
            "flex": null,
            "flex_flow": null,
            "grid_area": null,
            "grid_auto_columns": null,
            "grid_auto_flow": null,
            "grid_auto_rows": null,
            "grid_column": null,
            "grid_gap": null,
            "grid_row": null,
            "grid_template_areas": null,
            "grid_template_columns": null,
            "grid_template_rows": null,
            "height": null,
            "justify_content": null,
            "justify_items": null,
            "left": null,
            "margin": null,
            "max_height": null,
            "max_width": null,
            "min_height": null,
            "min_width": null,
            "object_fit": null,
            "object_position": null,
            "order": null,
            "overflow": null,
            "overflow_x": null,
            "overflow_y": null,
            "padding": null,
            "right": null,
            "top": null,
            "visibility": null,
            "width": null
          }
        },
        "00c798b720c1481aa64a65e3ad8aa0b2": {
          "model_module": "@jupyter-widgets/controls",
          "model_name": "ProgressStyleModel",
          "model_module_version": "1.5.0",
          "state": {
            "_model_module": "@jupyter-widgets/controls",
            "_model_module_version": "1.5.0",
            "_model_name": "ProgressStyleModel",
            "_view_count": null,
            "_view_module": "@jupyter-widgets/base",
            "_view_module_version": "1.2.0",
            "_view_name": "StyleView",
            "bar_color": null,
            "description_width": ""
          }
        },
        "a93939092fd74b50968c5b00478fbea2": {
          "model_module": "@jupyter-widgets/base",
          "model_name": "LayoutModel",
          "model_module_version": "1.2.0",
          "state": {
            "_model_module": "@jupyter-widgets/base",
            "_model_module_version": "1.2.0",
            "_model_name": "LayoutModel",
            "_view_count": null,
            "_view_module": "@jupyter-widgets/base",
            "_view_module_version": "1.2.0",
            "_view_name": "LayoutView",
            "align_content": null,
            "align_items": null,
            "align_self": null,
            "border": null,
            "bottom": null,
            "display": null,
            "flex": null,
            "flex_flow": null,
            "grid_area": null,
            "grid_auto_columns": null,
            "grid_auto_flow": null,
            "grid_auto_rows": null,
            "grid_column": null,
            "grid_gap": null,
            "grid_row": null,
            "grid_template_areas": null,
            "grid_template_columns": null,
            "grid_template_rows": null,
            "height": null,
            "justify_content": null,
            "justify_items": null,
            "left": null,
            "margin": null,
            "max_height": null,
            "max_width": null,
            "min_height": null,
            "min_width": null,
            "object_fit": null,
            "object_position": null,
            "order": null,
            "overflow": null,
            "overflow_x": null,
            "overflow_y": null,
            "padding": null,
            "right": null,
            "top": null,
            "visibility": null,
            "width": null
          }
        },
        "31612832bafa49d39f1db6ac84fbb78a": {
          "model_module": "@jupyter-widgets/controls",
          "model_name": "DescriptionStyleModel",
          "model_module_version": "1.5.0",
          "state": {
            "_model_module": "@jupyter-widgets/controls",
            "_model_module_version": "1.5.0",
            "_model_name": "DescriptionStyleModel",
            "_view_count": null,
            "_view_module": "@jupyter-widgets/base",
            "_view_module_version": "1.2.0",
            "_view_name": "StyleView",
            "description_width": ""
          }
        },
        "aa29c7f1755d4bffbc704d2192bcf733": {
          "model_module": "@jupyter-widgets/controls",
          "model_name": "HBoxModel",
          "model_module_version": "1.5.0",
          "state": {
            "_dom_classes": [],
            "_model_module": "@jupyter-widgets/controls",
            "_model_module_version": "1.5.0",
            "_model_name": "HBoxModel",
            "_view_count": null,
            "_view_module": "@jupyter-widgets/controls",
            "_view_module_version": "1.5.0",
            "_view_name": "HBoxView",
            "box_style": "",
            "children": [
              "IPY_MODEL_b80b00fddbe143b2a00d49540b9f7579",
              "IPY_MODEL_a52541656b5d470a99368ae189919599",
              "IPY_MODEL_16bed17341d14a048f43b0c52ea02af6"
            ],
            "layout": "IPY_MODEL_02012bc9d4124feaadaf716930174313"
          }
        },
        "b80b00fddbe143b2a00d49540b9f7579": {
          "model_module": "@jupyter-widgets/controls",
          "model_name": "HTMLModel",
          "model_module_version": "1.5.0",
          "state": {
            "_dom_classes": [],
            "_model_module": "@jupyter-widgets/controls",
            "_model_module_version": "1.5.0",
            "_model_name": "HTMLModel",
            "_view_count": null,
            "_view_module": "@jupyter-widgets/controls",
            "_view_module_version": "1.5.0",
            "_view_name": "HTMLView",
            "description": "",
            "description_tooltip": null,
            "layout": "IPY_MODEL_127938574eab4007aded3acf5ba9b1c4",
            "placeholder": "​",
            "style": "IPY_MODEL_616aed46892f47cc87aa24efbd6f44f3",
            "value": "Saving the dataset (1/1 shards): 100%"
          }
        },
        "a52541656b5d470a99368ae189919599": {
          "model_module": "@jupyter-widgets/controls",
          "model_name": "FloatProgressModel",
          "model_module_version": "1.5.0",
          "state": {
            "_dom_classes": [],
            "_model_module": "@jupyter-widgets/controls",
            "_model_module_version": "1.5.0",
            "_model_name": "FloatProgressModel",
            "_view_count": null,
            "_view_module": "@jupyter-widgets/controls",
            "_view_module_version": "1.5.0",
            "_view_name": "ProgressView",
            "bar_style": "success",
            "description": "",
            "description_tooltip": null,
            "layout": "IPY_MODEL_8030f96c074b421fa66c3b8b1395a716",
            "max": 11791,
            "min": 0,
            "orientation": "horizontal",
            "style": "IPY_MODEL_9c4a79ea42484a38b771e29a5ad4553c",
            "value": 11791
          }
        },
        "16bed17341d14a048f43b0c52ea02af6": {
          "model_module": "@jupyter-widgets/controls",
          "model_name": "HTMLModel",
          "model_module_version": "1.5.0",
          "state": {
            "_dom_classes": [],
            "_model_module": "@jupyter-widgets/controls",
            "_model_module_version": "1.5.0",
            "_model_name": "HTMLModel",
            "_view_count": null,
            "_view_module": "@jupyter-widgets/controls",
            "_view_module_version": "1.5.0",
            "_view_name": "HTMLView",
            "description": "",
            "description_tooltip": null,
            "layout": "IPY_MODEL_5a4d85e774274cdf8f66652e42e034be",
            "placeholder": "​",
            "style": "IPY_MODEL_36df5c2b6925401e83a88faf88432369",
            "value": " 11791/11791 [00:01&lt;00:00, 8385.38 examples/s]"
          }
        },
        "02012bc9d4124feaadaf716930174313": {
          "model_module": "@jupyter-widgets/base",
          "model_name": "LayoutModel",
          "model_module_version": "1.2.0",
          "state": {
            "_model_module": "@jupyter-widgets/base",
            "_model_module_version": "1.2.0",
            "_model_name": "LayoutModel",
            "_view_count": null,
            "_view_module": "@jupyter-widgets/base",
            "_view_module_version": "1.2.0",
            "_view_name": "LayoutView",
            "align_content": null,
            "align_items": null,
            "align_self": null,
            "border": null,
            "bottom": null,
            "display": null,
            "flex": null,
            "flex_flow": null,
            "grid_area": null,
            "grid_auto_columns": null,
            "grid_auto_flow": null,
            "grid_auto_rows": null,
            "grid_column": null,
            "grid_gap": null,
            "grid_row": null,
            "grid_template_areas": null,
            "grid_template_columns": null,
            "grid_template_rows": null,
            "height": null,
            "justify_content": null,
            "justify_items": null,
            "left": null,
            "margin": null,
            "max_height": null,
            "max_width": null,
            "min_height": null,
            "min_width": null,
            "object_fit": null,
            "object_position": null,
            "order": null,
            "overflow": null,
            "overflow_x": null,
            "overflow_y": null,
            "padding": null,
            "right": null,
            "top": null,
            "visibility": null,
            "width": null
          }
        },
        "127938574eab4007aded3acf5ba9b1c4": {
          "model_module": "@jupyter-widgets/base",
          "model_name": "LayoutModel",
          "model_module_version": "1.2.0",
          "state": {
            "_model_module": "@jupyter-widgets/base",
            "_model_module_version": "1.2.0",
            "_model_name": "LayoutModel",
            "_view_count": null,
            "_view_module": "@jupyter-widgets/base",
            "_view_module_version": "1.2.0",
            "_view_name": "LayoutView",
            "align_content": null,
            "align_items": null,
            "align_self": null,
            "border": null,
            "bottom": null,
            "display": null,
            "flex": null,
            "flex_flow": null,
            "grid_area": null,
            "grid_auto_columns": null,
            "grid_auto_flow": null,
            "grid_auto_rows": null,
            "grid_column": null,
            "grid_gap": null,
            "grid_row": null,
            "grid_template_areas": null,
            "grid_template_columns": null,
            "grid_template_rows": null,
            "height": null,
            "justify_content": null,
            "justify_items": null,
            "left": null,
            "margin": null,
            "max_height": null,
            "max_width": null,
            "min_height": null,
            "min_width": null,
            "object_fit": null,
            "object_position": null,
            "order": null,
            "overflow": null,
            "overflow_x": null,
            "overflow_y": null,
            "padding": null,
            "right": null,
            "top": null,
            "visibility": null,
            "width": null
          }
        },
        "616aed46892f47cc87aa24efbd6f44f3": {
          "model_module": "@jupyter-widgets/controls",
          "model_name": "DescriptionStyleModel",
          "model_module_version": "1.5.0",
          "state": {
            "_model_module": "@jupyter-widgets/controls",
            "_model_module_version": "1.5.0",
            "_model_name": "DescriptionStyleModel",
            "_view_count": null,
            "_view_module": "@jupyter-widgets/base",
            "_view_module_version": "1.2.0",
            "_view_name": "StyleView",
            "description_width": ""
          }
        },
        "8030f96c074b421fa66c3b8b1395a716": {
          "model_module": "@jupyter-widgets/base",
          "model_name": "LayoutModel",
          "model_module_version": "1.2.0",
          "state": {
            "_model_module": "@jupyter-widgets/base",
            "_model_module_version": "1.2.0",
            "_model_name": "LayoutModel",
            "_view_count": null,
            "_view_module": "@jupyter-widgets/base",
            "_view_module_version": "1.2.0",
            "_view_name": "LayoutView",
            "align_content": null,
            "align_items": null,
            "align_self": null,
            "border": null,
            "bottom": null,
            "display": null,
            "flex": null,
            "flex_flow": null,
            "grid_area": null,
            "grid_auto_columns": null,
            "grid_auto_flow": null,
            "grid_auto_rows": null,
            "grid_column": null,
            "grid_gap": null,
            "grid_row": null,
            "grid_template_areas": null,
            "grid_template_columns": null,
            "grid_template_rows": null,
            "height": null,
            "justify_content": null,
            "justify_items": null,
            "left": null,
            "margin": null,
            "max_height": null,
            "max_width": null,
            "min_height": null,
            "min_width": null,
            "object_fit": null,
            "object_position": null,
            "order": null,
            "overflow": null,
            "overflow_x": null,
            "overflow_y": null,
            "padding": null,
            "right": null,
            "top": null,
            "visibility": null,
            "width": null
          }
        },
        "9c4a79ea42484a38b771e29a5ad4553c": {
          "model_module": "@jupyter-widgets/controls",
          "model_name": "ProgressStyleModel",
          "model_module_version": "1.5.0",
          "state": {
            "_model_module": "@jupyter-widgets/controls",
            "_model_module_version": "1.5.0",
            "_model_name": "ProgressStyleModel",
            "_view_count": null,
            "_view_module": "@jupyter-widgets/base",
            "_view_module_version": "1.2.0",
            "_view_name": "StyleView",
            "bar_color": null,
            "description_width": ""
          }
        },
        "5a4d85e774274cdf8f66652e42e034be": {
          "model_module": "@jupyter-widgets/base",
          "model_name": "LayoutModel",
          "model_module_version": "1.2.0",
          "state": {
            "_model_module": "@jupyter-widgets/base",
            "_model_module_version": "1.2.0",
            "_model_name": "LayoutModel",
            "_view_count": null,
            "_view_module": "@jupyter-widgets/base",
            "_view_module_version": "1.2.0",
            "_view_name": "LayoutView",
            "align_content": null,
            "align_items": null,
            "align_self": null,
            "border": null,
            "bottom": null,
            "display": null,
            "flex": null,
            "flex_flow": null,
            "grid_area": null,
            "grid_auto_columns": null,
            "grid_auto_flow": null,
            "grid_auto_rows": null,
            "grid_column": null,
            "grid_gap": null,
            "grid_row": null,
            "grid_template_areas": null,
            "grid_template_columns": null,
            "grid_template_rows": null,
            "height": null,
            "justify_content": null,
            "justify_items": null,
            "left": null,
            "margin": null,
            "max_height": null,
            "max_width": null,
            "min_height": null,
            "min_width": null,
            "object_fit": null,
            "object_position": null,
            "order": null,
            "overflow": null,
            "overflow_x": null,
            "overflow_y": null,
            "padding": null,
            "right": null,
            "top": null,
            "visibility": null,
            "width": null
          }
        },
        "36df5c2b6925401e83a88faf88432369": {
          "model_module": "@jupyter-widgets/controls",
          "model_name": "DescriptionStyleModel",
          "model_module_version": "1.5.0",
          "state": {
            "_model_module": "@jupyter-widgets/controls",
            "_model_module_version": "1.5.0",
            "_model_name": "DescriptionStyleModel",
            "_view_count": null,
            "_view_module": "@jupyter-widgets/base",
            "_view_module_version": "1.2.0",
            "_view_name": "StyleView",
            "description_width": ""
          }
        },
        "366dfe4e48f24d75b3bc56b635c5f337": {
          "model_module": "@jupyter-widgets/controls",
          "model_name": "HBoxModel",
          "model_module_version": "1.5.0",
          "state": {
            "_dom_classes": [],
            "_model_module": "@jupyter-widgets/controls",
            "_model_module_version": "1.5.0",
            "_model_name": "HBoxModel",
            "_view_count": null,
            "_view_module": "@jupyter-widgets/controls",
            "_view_module_version": "1.5.0",
            "_view_name": "HBoxView",
            "box_style": "",
            "children": [
              "IPY_MODEL_5530b610c7c84d4d816c96cc135d0811",
              "IPY_MODEL_1715bc5281f346b1b63983631dfcc6e7",
              "IPY_MODEL_6f8032409bc140279e7f1a54485503be"
            ],
            "layout": "IPY_MODEL_2320949d67ad404a8fe848c462d14938"
          }
        },
        "5530b610c7c84d4d816c96cc135d0811": {
          "model_module": "@jupyter-widgets/controls",
          "model_name": "HTMLModel",
          "model_module_version": "1.5.0",
          "state": {
            "_dom_classes": [],
            "_model_module": "@jupyter-widgets/controls",
            "_model_module_version": "1.5.0",
            "_model_name": "HTMLModel",
            "_view_count": null,
            "_view_module": "@jupyter-widgets/controls",
            "_view_module_version": "1.5.0",
            "_view_name": "HTMLView",
            "description": "",
            "description_tooltip": null,
            "layout": "IPY_MODEL_f75a921f67994bde9e5b553efc191895",
            "placeholder": "​",
            "style": "IPY_MODEL_42c46b5330e8479692329fcebaadec8b",
            "value": "100%"
          }
        },
        "1715bc5281f346b1b63983631dfcc6e7": {
          "model_module": "@jupyter-widgets/controls",
          "model_name": "FloatProgressModel",
          "model_module_version": "1.5.0",
          "state": {
            "_dom_classes": [],
            "_model_module": "@jupyter-widgets/controls",
            "_model_module_version": "1.5.0",
            "_model_name": "FloatProgressModel",
            "_view_count": null,
            "_view_module": "@jupyter-widgets/controls",
            "_view_module_version": "1.5.0",
            "_view_name": "ProgressView",
            "bar_style": "success",
            "description": "",
            "description_tooltip": null,
            "layout": "IPY_MODEL_b12f948615084aaf8c2c8626fc7ad588",
            "max": 130101,
            "min": 0,
            "orientation": "horizontal",
            "style": "IPY_MODEL_95731d36a92446d38f56c29c6403abc0",
            "value": 130101
          }
        },
        "6f8032409bc140279e7f1a54485503be": {
          "model_module": "@jupyter-widgets/controls",
          "model_name": "HTMLModel",
          "model_module_version": "1.5.0",
          "state": {
            "_dom_classes": [],
            "_model_module": "@jupyter-widgets/controls",
            "_model_module_version": "1.5.0",
            "_model_name": "HTMLModel",
            "_view_count": null,
            "_view_module": "@jupyter-widgets/controls",
            "_view_module_version": "1.5.0",
            "_view_name": "HTMLView",
            "description": "",
            "description_tooltip": null,
            "layout": "IPY_MODEL_9cb33e57ad0d4b5ebf8785493a1ae35f",
            "placeholder": "​",
            "style": "IPY_MODEL_60121fdae1674f45881d944f06982a9a",
            "value": " 130101/130101 [07:54&lt;00:00, 359.24it/s]"
          }
        },
        "2320949d67ad404a8fe848c462d14938": {
          "model_module": "@jupyter-widgets/base",
          "model_name": "LayoutModel",
          "model_module_version": "1.2.0",
          "state": {
            "_model_module": "@jupyter-widgets/base",
            "_model_module_version": "1.2.0",
            "_model_name": "LayoutModel",
            "_view_count": null,
            "_view_module": "@jupyter-widgets/base",
            "_view_module_version": "1.2.0",
            "_view_name": "LayoutView",
            "align_content": null,
            "align_items": null,
            "align_self": null,
            "border": null,
            "bottom": null,
            "display": null,
            "flex": null,
            "flex_flow": null,
            "grid_area": null,
            "grid_auto_columns": null,
            "grid_auto_flow": null,
            "grid_auto_rows": null,
            "grid_column": null,
            "grid_gap": null,
            "grid_row": null,
            "grid_template_areas": null,
            "grid_template_columns": null,
            "grid_template_rows": null,
            "height": null,
            "justify_content": null,
            "justify_items": null,
            "left": null,
            "margin": null,
            "max_height": null,
            "max_width": null,
            "min_height": null,
            "min_width": null,
            "object_fit": null,
            "object_position": null,
            "order": null,
            "overflow": null,
            "overflow_x": null,
            "overflow_y": null,
            "padding": null,
            "right": null,
            "top": null,
            "visibility": null,
            "width": null
          }
        },
        "f75a921f67994bde9e5b553efc191895": {
          "model_module": "@jupyter-widgets/base",
          "model_name": "LayoutModel",
          "model_module_version": "1.2.0",
          "state": {
            "_model_module": "@jupyter-widgets/base",
            "_model_module_version": "1.2.0",
            "_model_name": "LayoutModel",
            "_view_count": null,
            "_view_module": "@jupyter-widgets/base",
            "_view_module_version": "1.2.0",
            "_view_name": "LayoutView",
            "align_content": null,
            "align_items": null,
            "align_self": null,
            "border": null,
            "bottom": null,
            "display": null,
            "flex": null,
            "flex_flow": null,
            "grid_area": null,
            "grid_auto_columns": null,
            "grid_auto_flow": null,
            "grid_auto_rows": null,
            "grid_column": null,
            "grid_gap": null,
            "grid_row": null,
            "grid_template_areas": null,
            "grid_template_columns": null,
            "grid_template_rows": null,
            "height": null,
            "justify_content": null,
            "justify_items": null,
            "left": null,
            "margin": null,
            "max_height": null,
            "max_width": null,
            "min_height": null,
            "min_width": null,
            "object_fit": null,
            "object_position": null,
            "order": null,
            "overflow": null,
            "overflow_x": null,
            "overflow_y": null,
            "padding": null,
            "right": null,
            "top": null,
            "visibility": null,
            "width": null
          }
        },
        "42c46b5330e8479692329fcebaadec8b": {
          "model_module": "@jupyter-widgets/controls",
          "model_name": "DescriptionStyleModel",
          "model_module_version": "1.5.0",
          "state": {
            "_model_module": "@jupyter-widgets/controls",
            "_model_module_version": "1.5.0",
            "_model_name": "DescriptionStyleModel",
            "_view_count": null,
            "_view_module": "@jupyter-widgets/base",
            "_view_module_version": "1.2.0",
            "_view_name": "StyleView",
            "description_width": ""
          }
        },
        "b12f948615084aaf8c2c8626fc7ad588": {
          "model_module": "@jupyter-widgets/base",
          "model_name": "LayoutModel",
          "model_module_version": "1.2.0",
          "state": {
            "_model_module": "@jupyter-widgets/base",
            "_model_module_version": "1.2.0",
            "_model_name": "LayoutModel",
            "_view_count": null,
            "_view_module": "@jupyter-widgets/base",
            "_view_module_version": "1.2.0",
            "_view_name": "LayoutView",
            "align_content": null,
            "align_items": null,
            "align_self": null,
            "border": null,
            "bottom": null,
            "display": null,
            "flex": null,
            "flex_flow": null,
            "grid_area": null,
            "grid_auto_columns": null,
            "grid_auto_flow": null,
            "grid_auto_rows": null,
            "grid_column": null,
            "grid_gap": null,
            "grid_row": null,
            "grid_template_areas": null,
            "grid_template_columns": null,
            "grid_template_rows": null,
            "height": null,
            "justify_content": null,
            "justify_items": null,
            "left": null,
            "margin": null,
            "max_height": null,
            "max_width": null,
            "min_height": null,
            "min_width": null,
            "object_fit": null,
            "object_position": null,
            "order": null,
            "overflow": null,
            "overflow_x": null,
            "overflow_y": null,
            "padding": null,
            "right": null,
            "top": null,
            "visibility": null,
            "width": null
          }
        },
        "95731d36a92446d38f56c29c6403abc0": {
          "model_module": "@jupyter-widgets/controls",
          "model_name": "ProgressStyleModel",
          "model_module_version": "1.5.0",
          "state": {
            "_model_module": "@jupyter-widgets/controls",
            "_model_module_version": "1.5.0",
            "_model_name": "ProgressStyleModel",
            "_view_count": null,
            "_view_module": "@jupyter-widgets/base",
            "_view_module_version": "1.2.0",
            "_view_name": "StyleView",
            "bar_color": null,
            "description_width": ""
          }
        },
        "9cb33e57ad0d4b5ebf8785493a1ae35f": {
          "model_module": "@jupyter-widgets/base",
          "model_name": "LayoutModel",
          "model_module_version": "1.2.0",
          "state": {
            "_model_module": "@jupyter-widgets/base",
            "_model_module_version": "1.2.0",
            "_model_name": "LayoutModel",
            "_view_count": null,
            "_view_module": "@jupyter-widgets/base",
            "_view_module_version": "1.2.0",
            "_view_name": "LayoutView",
            "align_content": null,
            "align_items": null,
            "align_self": null,
            "border": null,
            "bottom": null,
            "display": null,
            "flex": null,
            "flex_flow": null,
            "grid_area": null,
            "grid_auto_columns": null,
            "grid_auto_flow": null,
            "grid_auto_rows": null,
            "grid_column": null,
            "grid_gap": null,
            "grid_row": null,
            "grid_template_areas": null,
            "grid_template_columns": null,
            "grid_template_rows": null,
            "height": null,
            "justify_content": null,
            "justify_items": null,
            "left": null,
            "margin": null,
            "max_height": null,
            "max_width": null,
            "min_height": null,
            "min_width": null,
            "object_fit": null,
            "object_position": null,
            "order": null,
            "overflow": null,
            "overflow_x": null,
            "overflow_y": null,
            "padding": null,
            "right": null,
            "top": null,
            "visibility": null,
            "width": null
          }
        },
        "60121fdae1674f45881d944f06982a9a": {
          "model_module": "@jupyter-widgets/controls",
          "model_name": "DescriptionStyleModel",
          "model_module_version": "1.5.0",
          "state": {
            "_model_module": "@jupyter-widgets/controls",
            "_model_module_version": "1.5.0",
            "_model_name": "DescriptionStyleModel",
            "_view_count": null,
            "_view_module": "@jupyter-widgets/base",
            "_view_module_version": "1.2.0",
            "_view_name": "StyleView",
            "description_width": ""
          }
        },
        "8475518b6ea149819d2b86cb9120237f": {
          "model_module": "@jupyter-widgets/controls",
          "model_name": "HBoxModel",
          "model_module_version": "1.5.0",
          "state": {
            "_dom_classes": [],
            "_model_module": "@jupyter-widgets/controls",
            "_model_module_version": "1.5.0",
            "_model_name": "HBoxModel",
            "_view_count": null,
            "_view_module": "@jupyter-widgets/controls",
            "_view_module_version": "1.5.0",
            "_view_name": "HBoxView",
            "box_style": "",
            "children": [
              "IPY_MODEL_fb48d18939b24365bad76a2e39316ce6",
              "IPY_MODEL_62eac4e6ceab49c4b656551dc39ece21",
              "IPY_MODEL_798ef6ba676a450f980b748545e04196"
            ],
            "layout": "IPY_MODEL_045889a155704a98a1c3c56b11f652ad"
          }
        },
        "fb48d18939b24365bad76a2e39316ce6": {
          "model_module": "@jupyter-widgets/controls",
          "model_name": "HTMLModel",
          "model_module_version": "1.5.0",
          "state": {
            "_dom_classes": [],
            "_model_module": "@jupyter-widgets/controls",
            "_model_module_version": "1.5.0",
            "_model_name": "HTMLModel",
            "_view_count": null,
            "_view_module": "@jupyter-widgets/controls",
            "_view_module_version": "1.5.0",
            "_view_name": "HTMLView",
            "description": "",
            "description_tooltip": null,
            "layout": "IPY_MODEL_8c174340af5e4531be934f6449451d86",
            "placeholder": "​",
            "style": "IPY_MODEL_f3b79bfd06b24d3fa921bbce7ef1870f",
            "value": "100%"
          }
        },
        "62eac4e6ceab49c4b656551dc39ece21": {
          "model_module": "@jupyter-widgets/controls",
          "model_name": "FloatProgressModel",
          "model_module_version": "1.5.0",
          "state": {
            "_dom_classes": [],
            "_model_module": "@jupyter-widgets/controls",
            "_model_module_version": "1.5.0",
            "_model_name": "FloatProgressModel",
            "_view_count": null,
            "_view_module": "@jupyter-widgets/controls",
            "_view_module_version": "1.5.0",
            "_view_name": "ProgressView",
            "bar_style": "success",
            "description": "",
            "description_tooltip": null,
            "layout": "IPY_MODEL_bff9aade2a864f25a73b1e11506340b9",
            "max": 11791,
            "min": 0,
            "orientation": "horizontal",
            "style": "IPY_MODEL_15aeb35e1f3f4965aa5533405c4ba873",
            "value": 11791
          }
        },
        "798ef6ba676a450f980b748545e04196": {
          "model_module": "@jupyter-widgets/controls",
          "model_name": "HTMLModel",
          "model_module_version": "1.5.0",
          "state": {
            "_dom_classes": [],
            "_model_module": "@jupyter-widgets/controls",
            "_model_module_version": "1.5.0",
            "_model_name": "HTMLModel",
            "_view_count": null,
            "_view_module": "@jupyter-widgets/controls",
            "_view_module_version": "1.5.0",
            "_view_name": "HTMLView",
            "description": "",
            "description_tooltip": null,
            "layout": "IPY_MODEL_d3e502f46e174d1b8f14595e494bfbdd",
            "placeholder": "​",
            "style": "IPY_MODEL_596f54c2e2a241f0b209a54ac806c2d5",
            "value": " 11791/11791 [00:40&lt;00:00, 349.95it/s]"
          }
        },
        "045889a155704a98a1c3c56b11f652ad": {
          "model_module": "@jupyter-widgets/base",
          "model_name": "LayoutModel",
          "model_module_version": "1.2.0",
          "state": {
            "_model_module": "@jupyter-widgets/base",
            "_model_module_version": "1.2.0",
            "_model_name": "LayoutModel",
            "_view_count": null,
            "_view_module": "@jupyter-widgets/base",
            "_view_module_version": "1.2.0",
            "_view_name": "LayoutView",
            "align_content": null,
            "align_items": null,
            "align_self": null,
            "border": null,
            "bottom": null,
            "display": null,
            "flex": null,
            "flex_flow": null,
            "grid_area": null,
            "grid_auto_columns": null,
            "grid_auto_flow": null,
            "grid_auto_rows": null,
            "grid_column": null,
            "grid_gap": null,
            "grid_row": null,
            "grid_template_areas": null,
            "grid_template_columns": null,
            "grid_template_rows": null,
            "height": null,
            "justify_content": null,
            "justify_items": null,
            "left": null,
            "margin": null,
            "max_height": null,
            "max_width": null,
            "min_height": null,
            "min_width": null,
            "object_fit": null,
            "object_position": null,
            "order": null,
            "overflow": null,
            "overflow_x": null,
            "overflow_y": null,
            "padding": null,
            "right": null,
            "top": null,
            "visibility": null,
            "width": null
          }
        },
        "8c174340af5e4531be934f6449451d86": {
          "model_module": "@jupyter-widgets/base",
          "model_name": "LayoutModel",
          "model_module_version": "1.2.0",
          "state": {
            "_model_module": "@jupyter-widgets/base",
            "_model_module_version": "1.2.0",
            "_model_name": "LayoutModel",
            "_view_count": null,
            "_view_module": "@jupyter-widgets/base",
            "_view_module_version": "1.2.0",
            "_view_name": "LayoutView",
            "align_content": null,
            "align_items": null,
            "align_self": null,
            "border": null,
            "bottom": null,
            "display": null,
            "flex": null,
            "flex_flow": null,
            "grid_area": null,
            "grid_auto_columns": null,
            "grid_auto_flow": null,
            "grid_auto_rows": null,
            "grid_column": null,
            "grid_gap": null,
            "grid_row": null,
            "grid_template_areas": null,
            "grid_template_columns": null,
            "grid_template_rows": null,
            "height": null,
            "justify_content": null,
            "justify_items": null,
            "left": null,
            "margin": null,
            "max_height": null,
            "max_width": null,
            "min_height": null,
            "min_width": null,
            "object_fit": null,
            "object_position": null,
            "order": null,
            "overflow": null,
            "overflow_x": null,
            "overflow_y": null,
            "padding": null,
            "right": null,
            "top": null,
            "visibility": null,
            "width": null
          }
        },
        "f3b79bfd06b24d3fa921bbce7ef1870f": {
          "model_module": "@jupyter-widgets/controls",
          "model_name": "DescriptionStyleModel",
          "model_module_version": "1.5.0",
          "state": {
            "_model_module": "@jupyter-widgets/controls",
            "_model_module_version": "1.5.0",
            "_model_name": "DescriptionStyleModel",
            "_view_count": null,
            "_view_module": "@jupyter-widgets/base",
            "_view_module_version": "1.2.0",
            "_view_name": "StyleView",
            "description_width": ""
          }
        },
        "bff9aade2a864f25a73b1e11506340b9": {
          "model_module": "@jupyter-widgets/base",
          "model_name": "LayoutModel",
          "model_module_version": "1.2.0",
          "state": {
            "_model_module": "@jupyter-widgets/base",
            "_model_module_version": "1.2.0",
            "_model_name": "LayoutModel",
            "_view_count": null,
            "_view_module": "@jupyter-widgets/base",
            "_view_module_version": "1.2.0",
            "_view_name": "LayoutView",
            "align_content": null,
            "align_items": null,
            "align_self": null,
            "border": null,
            "bottom": null,
            "display": null,
            "flex": null,
            "flex_flow": null,
            "grid_area": null,
            "grid_auto_columns": null,
            "grid_auto_flow": null,
            "grid_auto_rows": null,
            "grid_column": null,
            "grid_gap": null,
            "grid_row": null,
            "grid_template_areas": null,
            "grid_template_columns": null,
            "grid_template_rows": null,
            "height": null,
            "justify_content": null,
            "justify_items": null,
            "left": null,
            "margin": null,
            "max_height": null,
            "max_width": null,
            "min_height": null,
            "min_width": null,
            "object_fit": null,
            "object_position": null,
            "order": null,
            "overflow": null,
            "overflow_x": null,
            "overflow_y": null,
            "padding": null,
            "right": null,
            "top": null,
            "visibility": null,
            "width": null
          }
        },
        "15aeb35e1f3f4965aa5533405c4ba873": {
          "model_module": "@jupyter-widgets/controls",
          "model_name": "ProgressStyleModel",
          "model_module_version": "1.5.0",
          "state": {
            "_model_module": "@jupyter-widgets/controls",
            "_model_module_version": "1.5.0",
            "_model_name": "ProgressStyleModel",
            "_view_count": null,
            "_view_module": "@jupyter-widgets/base",
            "_view_module_version": "1.2.0",
            "_view_name": "StyleView",
            "bar_color": null,
            "description_width": ""
          }
        },
        "d3e502f46e174d1b8f14595e494bfbdd": {
          "model_module": "@jupyter-widgets/base",
          "model_name": "LayoutModel",
          "model_module_version": "1.2.0",
          "state": {
            "_model_module": "@jupyter-widgets/base",
            "_model_module_version": "1.2.0",
            "_model_name": "LayoutModel",
            "_view_count": null,
            "_view_module": "@jupyter-widgets/base",
            "_view_module_version": "1.2.0",
            "_view_name": "LayoutView",
            "align_content": null,
            "align_items": null,
            "align_self": null,
            "border": null,
            "bottom": null,
            "display": null,
            "flex": null,
            "flex_flow": null,
            "grid_area": null,
            "grid_auto_columns": null,
            "grid_auto_flow": null,
            "grid_auto_rows": null,
            "grid_column": null,
            "grid_gap": null,
            "grid_row": null,
            "grid_template_areas": null,
            "grid_template_columns": null,
            "grid_template_rows": null,
            "height": null,
            "justify_content": null,
            "justify_items": null,
            "left": null,
            "margin": null,
            "max_height": null,
            "max_width": null,
            "min_height": null,
            "min_width": null,
            "object_fit": null,
            "object_position": null,
            "order": null,
            "overflow": null,
            "overflow_x": null,
            "overflow_y": null,
            "padding": null,
            "right": null,
            "top": null,
            "visibility": null,
            "width": null
          }
        },
        "596f54c2e2a241f0b209a54ac806c2d5": {
          "model_module": "@jupyter-widgets/controls",
          "model_name": "DescriptionStyleModel",
          "model_module_version": "1.5.0",
          "state": {
            "_model_module": "@jupyter-widgets/controls",
            "_model_module_version": "1.5.0",
            "_model_name": "DescriptionStyleModel",
            "_view_count": null,
            "_view_module": "@jupyter-widgets/base",
            "_view_module_version": "1.2.0",
            "_view_name": "StyleView",
            "description_width": ""
          }
        },
        "2b885a88fb694e1da9c84e4faf790cd9": {
          "model_module": "@jupyter-widgets/controls",
          "model_name": "HBoxModel",
          "model_module_version": "1.5.0",
          "state": {
            "_dom_classes": [],
            "_model_module": "@jupyter-widgets/controls",
            "_model_module_version": "1.5.0",
            "_model_name": "HBoxModel",
            "_view_count": null,
            "_view_module": "@jupyter-widgets/controls",
            "_view_module_version": "1.5.0",
            "_view_name": "HBoxView",
            "box_style": "",
            "children": [
              "IPY_MODEL_3ca9439102d54f299633bb61df36f960",
              "IPY_MODEL_d2dc03f611094e12be2c55b1b85f8c35",
              "IPY_MODEL_90bd6d51e67342f19c890893e59d678c"
            ],
            "layout": "IPY_MODEL_e1d029ecb6e64b00954f0aa61fb4f7de"
          }
        },
        "3ca9439102d54f299633bb61df36f960": {
          "model_module": "@jupyter-widgets/controls",
          "model_name": "HTMLModel",
          "model_module_version": "1.5.0",
          "state": {
            "_dom_classes": [],
            "_model_module": "@jupyter-widgets/controls",
            "_model_module_version": "1.5.0",
            "_model_name": "HTMLModel",
            "_view_count": null,
            "_view_module": "@jupyter-widgets/controls",
            "_view_module_version": "1.5.0",
            "_view_name": "HTMLView",
            "description": "",
            "description_tooltip": null,
            "layout": "IPY_MODEL_8888bd12c0a2453bb49670062ecbf757",
            "placeholder": "​",
            "style": "IPY_MODEL_3a8f92e3f9704f8ea26831871974007d",
            "value": "model.safetensors: 100%"
          }
        },
        "d2dc03f611094e12be2c55b1b85f8c35": {
          "model_module": "@jupyter-widgets/controls",
          "model_name": "FloatProgressModel",
          "model_module_version": "1.5.0",
          "state": {
            "_dom_classes": [],
            "_model_module": "@jupyter-widgets/controls",
            "_model_module_version": "1.5.0",
            "_model_name": "FloatProgressModel",
            "_view_count": null,
            "_view_module": "@jupyter-widgets/controls",
            "_view_module_version": "1.5.0",
            "_view_name": "ProgressView",
            "bar_style": "success",
            "description": "",
            "description_tooltip": null,
            "layout": "IPY_MODEL_7201bebaadf24cedaa187aaa78bd81c0",
            "max": 1421700479,
            "min": 0,
            "orientation": "horizontal",
            "style": "IPY_MODEL_be23f5c9c2404a2aa098102e30cbe8f2",
            "value": 1421700479
          }
        },
        "90bd6d51e67342f19c890893e59d678c": {
          "model_module": "@jupyter-widgets/controls",
          "model_name": "HTMLModel",
          "model_module_version": "1.5.0",
          "state": {
            "_dom_classes": [],
            "_model_module": "@jupyter-widgets/controls",
            "_model_module_version": "1.5.0",
            "_model_name": "HTMLModel",
            "_view_count": null,
            "_view_module": "@jupyter-widgets/controls",
            "_view_module_version": "1.5.0",
            "_view_name": "HTMLView",
            "description": "",
            "description_tooltip": null,
            "layout": "IPY_MODEL_fbe4e7af432e4ffebcd2399205df490b",
            "placeholder": "​",
            "style": "IPY_MODEL_2935e6b16ad946e7b412412e035fb827",
            "value": " 1.42G/1.42G [00:05&lt;00:00, 290MB/s]"
          }
        },
        "e1d029ecb6e64b00954f0aa61fb4f7de": {
          "model_module": "@jupyter-widgets/base",
          "model_name": "LayoutModel",
          "model_module_version": "1.2.0",
          "state": {
            "_model_module": "@jupyter-widgets/base",
            "_model_module_version": "1.2.0",
            "_model_name": "LayoutModel",
            "_view_count": null,
            "_view_module": "@jupyter-widgets/base",
            "_view_module_version": "1.2.0",
            "_view_name": "LayoutView",
            "align_content": null,
            "align_items": null,
            "align_self": null,
            "border": null,
            "bottom": null,
            "display": null,
            "flex": null,
            "flex_flow": null,
            "grid_area": null,
            "grid_auto_columns": null,
            "grid_auto_flow": null,
            "grid_auto_rows": null,
            "grid_column": null,
            "grid_gap": null,
            "grid_row": null,
            "grid_template_areas": null,
            "grid_template_columns": null,
            "grid_template_rows": null,
            "height": null,
            "justify_content": null,
            "justify_items": null,
            "left": null,
            "margin": null,
            "max_height": null,
            "max_width": null,
            "min_height": null,
            "min_width": null,
            "object_fit": null,
            "object_position": null,
            "order": null,
            "overflow": null,
            "overflow_x": null,
            "overflow_y": null,
            "padding": null,
            "right": null,
            "top": null,
            "visibility": null,
            "width": null
          }
        },
        "8888bd12c0a2453bb49670062ecbf757": {
          "model_module": "@jupyter-widgets/base",
          "model_name": "LayoutModel",
          "model_module_version": "1.2.0",
          "state": {
            "_model_module": "@jupyter-widgets/base",
            "_model_module_version": "1.2.0",
            "_model_name": "LayoutModel",
            "_view_count": null,
            "_view_module": "@jupyter-widgets/base",
            "_view_module_version": "1.2.0",
            "_view_name": "LayoutView",
            "align_content": null,
            "align_items": null,
            "align_self": null,
            "border": null,
            "bottom": null,
            "display": null,
            "flex": null,
            "flex_flow": null,
            "grid_area": null,
            "grid_auto_columns": null,
            "grid_auto_flow": null,
            "grid_auto_rows": null,
            "grid_column": null,
            "grid_gap": null,
            "grid_row": null,
            "grid_template_areas": null,
            "grid_template_columns": null,
            "grid_template_rows": null,
            "height": null,
            "justify_content": null,
            "justify_items": null,
            "left": null,
            "margin": null,
            "max_height": null,
            "max_width": null,
            "min_height": null,
            "min_width": null,
            "object_fit": null,
            "object_position": null,
            "order": null,
            "overflow": null,
            "overflow_x": null,
            "overflow_y": null,
            "padding": null,
            "right": null,
            "top": null,
            "visibility": null,
            "width": null
          }
        },
        "3a8f92e3f9704f8ea26831871974007d": {
          "model_module": "@jupyter-widgets/controls",
          "model_name": "DescriptionStyleModel",
          "model_module_version": "1.5.0",
          "state": {
            "_model_module": "@jupyter-widgets/controls",
            "_model_module_version": "1.5.0",
            "_model_name": "DescriptionStyleModel",
            "_view_count": null,
            "_view_module": "@jupyter-widgets/base",
            "_view_module_version": "1.2.0",
            "_view_name": "StyleView",
            "description_width": ""
          }
        },
        "7201bebaadf24cedaa187aaa78bd81c0": {
          "model_module": "@jupyter-widgets/base",
          "model_name": "LayoutModel",
          "model_module_version": "1.2.0",
          "state": {
            "_model_module": "@jupyter-widgets/base",
            "_model_module_version": "1.2.0",
            "_model_name": "LayoutModel",
            "_view_count": null,
            "_view_module": "@jupyter-widgets/base",
            "_view_module_version": "1.2.0",
            "_view_name": "LayoutView",
            "align_content": null,
            "align_items": null,
            "align_self": null,
            "border": null,
            "bottom": null,
            "display": null,
            "flex": null,
            "flex_flow": null,
            "grid_area": null,
            "grid_auto_columns": null,
            "grid_auto_flow": null,
            "grid_auto_rows": null,
            "grid_column": null,
            "grid_gap": null,
            "grid_row": null,
            "grid_template_areas": null,
            "grid_template_columns": null,
            "grid_template_rows": null,
            "height": null,
            "justify_content": null,
            "justify_items": null,
            "left": null,
            "margin": null,
            "max_height": null,
            "max_width": null,
            "min_height": null,
            "min_width": null,
            "object_fit": null,
            "object_position": null,
            "order": null,
            "overflow": null,
            "overflow_x": null,
            "overflow_y": null,
            "padding": null,
            "right": null,
            "top": null,
            "visibility": null,
            "width": null
          }
        },
        "be23f5c9c2404a2aa098102e30cbe8f2": {
          "model_module": "@jupyter-widgets/controls",
          "model_name": "ProgressStyleModel",
          "model_module_version": "1.5.0",
          "state": {
            "_model_module": "@jupyter-widgets/controls",
            "_model_module_version": "1.5.0",
            "_model_name": "ProgressStyleModel",
            "_view_count": null,
            "_view_module": "@jupyter-widgets/base",
            "_view_module_version": "1.2.0",
            "_view_name": "StyleView",
            "bar_color": null,
            "description_width": ""
          }
        },
        "fbe4e7af432e4ffebcd2399205df490b": {
          "model_module": "@jupyter-widgets/base",
          "model_name": "LayoutModel",
          "model_module_version": "1.2.0",
          "state": {
            "_model_module": "@jupyter-widgets/base",
            "_model_module_version": "1.2.0",
            "_model_name": "LayoutModel",
            "_view_count": null,
            "_view_module": "@jupyter-widgets/base",
            "_view_module_version": "1.2.0",
            "_view_name": "LayoutView",
            "align_content": null,
            "align_items": null,
            "align_self": null,
            "border": null,
            "bottom": null,
            "display": null,
            "flex": null,
            "flex_flow": null,
            "grid_area": null,
            "grid_auto_columns": null,
            "grid_auto_flow": null,
            "grid_auto_rows": null,
            "grid_column": null,
            "grid_gap": null,
            "grid_row": null,
            "grid_template_areas": null,
            "grid_template_columns": null,
            "grid_template_rows": null,
            "height": null,
            "justify_content": null,
            "justify_items": null,
            "left": null,
            "margin": null,
            "max_height": null,
            "max_width": null,
            "min_height": null,
            "min_width": null,
            "object_fit": null,
            "object_position": null,
            "order": null,
            "overflow": null,
            "overflow_x": null,
            "overflow_y": null,
            "padding": null,
            "right": null,
            "top": null,
            "visibility": null,
            "width": null
          }
        },
        "2935e6b16ad946e7b412412e035fb827": {
          "model_module": "@jupyter-widgets/controls",
          "model_name": "DescriptionStyleModel",
          "model_module_version": "1.5.0",
          "state": {
            "_model_module": "@jupyter-widgets/controls",
            "_model_module_version": "1.5.0",
            "_model_name": "DescriptionStyleModel",
            "_view_count": null,
            "_view_module": "@jupyter-widgets/base",
            "_view_module_version": "1.2.0",
            "_view_name": "StyleView",
            "description_width": ""
          }
        },
        "00699571e5de46d896d131ccc09fcc8b": {
          "model_module": "@jupyter-widgets/controls",
          "model_name": "HBoxModel",
          "model_module_version": "1.5.0",
          "state": {
            "_dom_classes": [],
            "_model_module": "@jupyter-widgets/controls",
            "_model_module_version": "1.5.0",
            "_model_name": "HBoxModel",
            "_view_count": null,
            "_view_module": "@jupyter-widgets/controls",
            "_view_module_version": "1.5.0",
            "_view_name": "HBoxView",
            "box_style": "",
            "children": [
              "IPY_MODEL_3bf026715d4e49e8a3c38143c87c2fcf",
              "IPY_MODEL_70480f4d108d484c8273cc5842a57a7d",
              "IPY_MODEL_146f92aeacdb47e58e41095a2511dbde"
            ],
            "layout": "IPY_MODEL_037e7760c25b4a7cb9a815699332adb8"
          }
        },
        "3bf026715d4e49e8a3c38143c87c2fcf": {
          "model_module": "@jupyter-widgets/controls",
          "model_name": "HTMLModel",
          "model_module_version": "1.5.0",
          "state": {
            "_dom_classes": [],
            "_model_module": "@jupyter-widgets/controls",
            "_model_module_version": "1.5.0",
            "_model_name": "HTMLModel",
            "_view_count": null,
            "_view_module": "@jupyter-widgets/controls",
            "_view_module_version": "1.5.0",
            "_view_name": "HTMLView",
            "description": "",
            "description_tooltip": null,
            "layout": "IPY_MODEL_1da07fc2f0704062bdf0bed5a05e3cb0",
            "placeholder": "​",
            "style": "IPY_MODEL_7ca0514fd469438ba5aa518808d4acd2",
            "value": "100%"
          }
        },
        "70480f4d108d484c8273cc5842a57a7d": {
          "model_module": "@jupyter-widgets/controls",
          "model_name": "FloatProgressModel",
          "model_module_version": "1.5.0",
          "state": {
            "_dom_classes": [],
            "_model_module": "@jupyter-widgets/controls",
            "_model_module_version": "1.5.0",
            "_model_name": "FloatProgressModel",
            "_view_count": null,
            "_view_module": "@jupyter-widgets/controls",
            "_view_module_version": "1.5.0",
            "_view_name": "ProgressView",
            "bar_style": "success",
            "description": "",
            "description_tooltip": null,
            "layout": "IPY_MODEL_2e4cf80f5c2940f5a2004cec23606dcd",
            "max": 11791,
            "min": 0,
            "orientation": "horizontal",
            "style": "IPY_MODEL_5d1bb186618c46d9b0f1c7d5e761ab12",
            "value": 11791
          }
        },
        "146f92aeacdb47e58e41095a2511dbde": {
          "model_module": "@jupyter-widgets/controls",
          "model_name": "HTMLModel",
          "model_module_version": "1.5.0",
          "state": {
            "_dom_classes": [],
            "_model_module": "@jupyter-widgets/controls",
            "_model_module_version": "1.5.0",
            "_model_name": "HTMLModel",
            "_view_count": null,
            "_view_module": "@jupyter-widgets/controls",
            "_view_module_version": "1.5.0",
            "_view_name": "HTMLView",
            "description": "",
            "description_tooltip": null,
            "layout": "IPY_MODEL_e1a4c94f178a4579b39e275af045b464",
            "placeholder": "​",
            "style": "IPY_MODEL_31283edeab8241149a3f83571416f46a",
            "value": " 11791/11791 [00:05&lt;00:00, 1934.40it/s]"
          }
        },
        "037e7760c25b4a7cb9a815699332adb8": {
          "model_module": "@jupyter-widgets/base",
          "model_name": "LayoutModel",
          "model_module_version": "1.2.0",
          "state": {
            "_model_module": "@jupyter-widgets/base",
            "_model_module_version": "1.2.0",
            "_model_name": "LayoutModel",
            "_view_count": null,
            "_view_module": "@jupyter-widgets/base",
            "_view_module_version": "1.2.0",
            "_view_name": "LayoutView",
            "align_content": null,
            "align_items": null,
            "align_self": null,
            "border": null,
            "bottom": null,
            "display": null,
            "flex": null,
            "flex_flow": null,
            "grid_area": null,
            "grid_auto_columns": null,
            "grid_auto_flow": null,
            "grid_auto_rows": null,
            "grid_column": null,
            "grid_gap": null,
            "grid_row": null,
            "grid_template_areas": null,
            "grid_template_columns": null,
            "grid_template_rows": null,
            "height": null,
            "justify_content": null,
            "justify_items": null,
            "left": null,
            "margin": null,
            "max_height": null,
            "max_width": null,
            "min_height": null,
            "min_width": null,
            "object_fit": null,
            "object_position": null,
            "order": null,
            "overflow": null,
            "overflow_x": null,
            "overflow_y": null,
            "padding": null,
            "right": null,
            "top": null,
            "visibility": null,
            "width": null
          }
        },
        "1da07fc2f0704062bdf0bed5a05e3cb0": {
          "model_module": "@jupyter-widgets/base",
          "model_name": "LayoutModel",
          "model_module_version": "1.2.0",
          "state": {
            "_model_module": "@jupyter-widgets/base",
            "_model_module_version": "1.2.0",
            "_model_name": "LayoutModel",
            "_view_count": null,
            "_view_module": "@jupyter-widgets/base",
            "_view_module_version": "1.2.0",
            "_view_name": "LayoutView",
            "align_content": null,
            "align_items": null,
            "align_self": null,
            "border": null,
            "bottom": null,
            "display": null,
            "flex": null,
            "flex_flow": null,
            "grid_area": null,
            "grid_auto_columns": null,
            "grid_auto_flow": null,
            "grid_auto_rows": null,
            "grid_column": null,
            "grid_gap": null,
            "grid_row": null,
            "grid_template_areas": null,
            "grid_template_columns": null,
            "grid_template_rows": null,
            "height": null,
            "justify_content": null,
            "justify_items": null,
            "left": null,
            "margin": null,
            "max_height": null,
            "max_width": null,
            "min_height": null,
            "min_width": null,
            "object_fit": null,
            "object_position": null,
            "order": null,
            "overflow": null,
            "overflow_x": null,
            "overflow_y": null,
            "padding": null,
            "right": null,
            "top": null,
            "visibility": null,
            "width": null
          }
        },
        "7ca0514fd469438ba5aa518808d4acd2": {
          "model_module": "@jupyter-widgets/controls",
          "model_name": "DescriptionStyleModel",
          "model_module_version": "1.5.0",
          "state": {
            "_model_module": "@jupyter-widgets/controls",
            "_model_module_version": "1.5.0",
            "_model_name": "DescriptionStyleModel",
            "_view_count": null,
            "_view_module": "@jupyter-widgets/base",
            "_view_module_version": "1.2.0",
            "_view_name": "StyleView",
            "description_width": ""
          }
        },
        "2e4cf80f5c2940f5a2004cec23606dcd": {
          "model_module": "@jupyter-widgets/base",
          "model_name": "LayoutModel",
          "model_module_version": "1.2.0",
          "state": {
            "_model_module": "@jupyter-widgets/base",
            "_model_module_version": "1.2.0",
            "_model_name": "LayoutModel",
            "_view_count": null,
            "_view_module": "@jupyter-widgets/base",
            "_view_module_version": "1.2.0",
            "_view_name": "LayoutView",
            "align_content": null,
            "align_items": null,
            "align_self": null,
            "border": null,
            "bottom": null,
            "display": null,
            "flex": null,
            "flex_flow": null,
            "grid_area": null,
            "grid_auto_columns": null,
            "grid_auto_flow": null,
            "grid_auto_rows": null,
            "grid_column": null,
            "grid_gap": null,
            "grid_row": null,
            "grid_template_areas": null,
            "grid_template_columns": null,
            "grid_template_rows": null,
            "height": null,
            "justify_content": null,
            "justify_items": null,
            "left": null,
            "margin": null,
            "max_height": null,
            "max_width": null,
            "min_height": null,
            "min_width": null,
            "object_fit": null,
            "object_position": null,
            "order": null,
            "overflow": null,
            "overflow_x": null,
            "overflow_y": null,
            "padding": null,
            "right": null,
            "top": null,
            "visibility": null,
            "width": null
          }
        },
        "5d1bb186618c46d9b0f1c7d5e761ab12": {
          "model_module": "@jupyter-widgets/controls",
          "model_name": "ProgressStyleModel",
          "model_module_version": "1.5.0",
          "state": {
            "_model_module": "@jupyter-widgets/controls",
            "_model_module_version": "1.5.0",
            "_model_name": "ProgressStyleModel",
            "_view_count": null,
            "_view_module": "@jupyter-widgets/base",
            "_view_module_version": "1.2.0",
            "_view_name": "StyleView",
            "bar_color": null,
            "description_width": ""
          }
        },
        "e1a4c94f178a4579b39e275af045b464": {
          "model_module": "@jupyter-widgets/base",
          "model_name": "LayoutModel",
          "model_module_version": "1.2.0",
          "state": {
            "_model_module": "@jupyter-widgets/base",
            "_model_module_version": "1.2.0",
            "_model_name": "LayoutModel",
            "_view_count": null,
            "_view_module": "@jupyter-widgets/base",
            "_view_module_version": "1.2.0",
            "_view_name": "LayoutView",
            "align_content": null,
            "align_items": null,
            "align_self": null,
            "border": null,
            "bottom": null,
            "display": null,
            "flex": null,
            "flex_flow": null,
            "grid_area": null,
            "grid_auto_columns": null,
            "grid_auto_flow": null,
            "grid_auto_rows": null,
            "grid_column": null,
            "grid_gap": null,
            "grid_row": null,
            "grid_template_areas": null,
            "grid_template_columns": null,
            "grid_template_rows": null,
            "height": null,
            "justify_content": null,
            "justify_items": null,
            "left": null,
            "margin": null,
            "max_height": null,
            "max_width": null,
            "min_height": null,
            "min_width": null,
            "object_fit": null,
            "object_position": null,
            "order": null,
            "overflow": null,
            "overflow_x": null,
            "overflow_y": null,
            "padding": null,
            "right": null,
            "top": null,
            "visibility": null,
            "width": null
          }
        },
        "31283edeab8241149a3f83571416f46a": {
          "model_module": "@jupyter-widgets/controls",
          "model_name": "DescriptionStyleModel",
          "model_module_version": "1.5.0",
          "state": {
            "_model_module": "@jupyter-widgets/controls",
            "_model_module_version": "1.5.0",
            "_model_name": "DescriptionStyleModel",
            "_view_count": null,
            "_view_module": "@jupyter-widgets/base",
            "_view_module_version": "1.2.0",
            "_view_name": "StyleView",
            "description_width": ""
          }
        }
      }
    }
  },
  "nbformat": 4,
  "nbformat_minor": 0
}